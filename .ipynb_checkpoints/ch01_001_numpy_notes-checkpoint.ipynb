{
 "cells": [
  {
   "cell_type": "markdown",
   "id": "fd47fdc9",
   "metadata": {},
   "source": [
    "#                             NUMPY COMPLETE NOTES"
   ]
  },
  {
   "cell_type": "markdown",
   "id": "35f62598",
   "metadata": {},
   "source": [
    "## CH01 INTRODUCTION"
   ]
  },
  {
   "cell_type": "code",
   "execution_count": null,
   "id": "a69c33ca",
   "metadata": {},
   "outputs": [],
   "source": [
    "intro=\"\"\"\n",
    "1. numpy is a python library. NumPy was created in 2005 by Travis Oliphant \n",
    "2. numpy stands for numerical python \n",
    "3. numpy is open source (free)\n",
    "4. universal standard for working with numerical data in Python\n",
    "5. The NumPy API is used extensively in Pandas, SciPy, Matplotlib, scikit-learn, scikit-image and most other data science \n",
    "   and scientific Python packages.\n",
    "   \n",
    "   Data Science: is a branch of computer science where we study how to store, \n",
    "   use and analyze data for deriving information from it.\n",
    "   \n",
    "\"\"\""
   ]
  },
  {
   "cell_type": "code",
   "execution_count": 11,
   "id": "ca2b200b",
   "metadata": {},
   "outputs": [
    {
     "name": "stdout",
     "output_type": "stream",
     "text": [
      "511 ms ± 6.57 ms per loop (mean ± std. dev. of 7 runs, 1 loop each)\n",
      "7.86 ms ± 34.8 µs per loop (mean ± std. dev. of 7 runs, 100 loops each)\n",
      "601 ms ± 3.91 ms per loop (mean ± std. dev. of 7 runs, 1 loop each)\n"
     ]
    }
   ],
   "source": [
    "\"\"\"\n",
    "6. NumPy aims to provide an array object that is up to 50x more faster than traditional Python lists.(see demo below)\n",
    "\"\"\"\n",
    "\n",
    "import numpy as np \n",
    "\n",
    "numbers=np.random.rand(10000000) #generate random numbers \n",
    "\n",
    "%timeit sum(numbers)  #python sum function \n",
    "\n",
    "%timeit np.sum(numbers) #numpy sum functions \n",
    "\n",
    "#defining a user defined function to add sum of random numbers and check calculation speed \n",
    "\n",
    "def mysum(num):\n",
    "    total=0\n",
    "    for i in num:\n",
    "        total+=i\n",
    "    return total\n",
    "#now calling the function mysum \n",
    "%timeit mysum(numbers)"
   ]
  },
  {
   "cell_type": "code",
   "execution_count": 13,
   "id": "869565fb",
   "metadata": {},
   "outputs": [
    {
     "name": "stdout",
     "output_type": "stream",
     "text": [
      "True\n"
     ]
    }
   ],
   "source": [
    "\"\"\"\n",
    " NumPy, array data is stored in a continuous block of memory. This is a key feature that contributes to the efficiency \n",
    " and speed of NumPy operations.\n",
    "\n",
    "The ndarray object in NumPy represents a multidimensional, homogeneous array of fixed-size items. \n",
    "The elements in the array are stored in a contiguous block of memory, and the information about the shape, \n",
    "data type, and strides is stored in a separate data structure. \n",
    "The contiguous memory layout allows for efficient access and manipulation of array elements.\n",
    "\"\"\"\n",
    "\n",
    "\n",
    "import numpy as np\n",
    "\n",
    "# Creating a NumPy array\n",
    "arr = np.array([[21,22,25,67],\n",
    "                [34,35,65,66],\n",
    "                [22,24,67,45]])\n",
    "\n",
    "# Checking the memory layout\n",
    "#flags['C_CONTIGUOUS'] attribute checks whether the array is stored in C-style contiguous memory\n",
    "print(arr.flags['C_CONTIGUOUS']) "
   ]
  },
  {
   "cell_type": "code",
   "execution_count": 16,
   "id": "2e6396c1",
   "metadata": {},
   "outputs": [
    {
     "name": "stdout",
     "output_type": "stream",
     "text": [
      "the l1 data type is =  <class 'list'>\n",
      "the arr data type is =  <class 'numpy.ndarray'>\n"
     ]
    }
   ],
   "source": [
    "\"\"\"\n",
    "The array object in NumPy is called ndarray\n",
    "Arrays are very frequently used in data science, where speed and resources are very important.\n",
    "\"\"\"\n",
    "import numpy as np \n",
    "l1=[12,14,15,67,55]\n",
    "print(\"the l1 data type is = \",type(list1))\n",
    "arr=np.array(list1)\n",
    "print(\"the arr data type is = \",type(arr))\n"
   ]
  },
  {
   "cell_type": "code",
   "execution_count": null,
   "id": "61c3e8d5",
   "metadata": {},
   "outputs": [],
   "source": [
    "\"\"\"\n",
    "The source code for NumPy is located at this github repository https://github.com/numpy/numpy\n",
    "github: enables many people to work on the same codebase\n",
    "\n",
    "If you already have Python, you can install NumPy with:\n",
    "\n",
    "conda install numpy\n",
    "or\n",
    "\n",
    "pip install numpy\n",
    "\n",
    "\"\"\""
   ]
  },
  {
   "cell_type": "code",
   "execution_count": 17,
   "id": "9c6c3f81",
   "metadata": {},
   "outputs": [
    {
     "name": "stdout",
     "output_type": "stream",
     "text": [
      "Defaulting to user installation because normal site-packages is not writeable\n",
      "Requirement already satisfied: numpy in c:\\users\\admin\\appdata\\roaming\\python\\python311\\site-packages (1.26.1)\n",
      "Note: you may need to restart the kernel to use updated packages.\n"
     ]
    }
   ],
   "source": [
    "pip install numpy"
   ]
  },
  {
   "cell_type": "code",
   "execution_count": 21,
   "id": "289a546e",
   "metadata": {},
   "outputs": [
    {
     "name": "stdout",
     "output_type": "stream",
     "text": [
      "1.26.1\n"
     ]
    }
   ],
   "source": [
    "\"\"\"\n",
    "to check version of numpy package\n",
    "\"\"\"\n",
    "import numpy as np\n",
    "\n",
    "print(np.__version__)"
   ]
  },
  {
   "cell_type": "markdown",
   "id": "39f0876d",
   "metadata": {},
   "source": [
    "##  CH02 NUMPY BASICS "
   ]
  },
  {
   "cell_type": "code",
   "execution_count": null,
   "id": "cde25f8c",
   "metadata": {},
   "outputs": [],
   "source": [
    "\"\"\"\n",
    "in this chaper cover basic of scalar(single quantity),vector(1d array),matrix(2d array) and \n",
    "covers 3d array (matrix of matrixes), \n",
    "nd array, and conversion 1d to 2d array and vice versa \n",
    "ndarray.ndim, ndarray.size, ndarray.shape\n",
    "np.array(), np.zeros(), np.ones(), np.empty(), np.arange(), np.linspace(), dtype (data types)\n",
    "\n",
    "\"\"\""
   ]
  },
  {
   "cell_type": "code",
   "execution_count": 6,
   "id": "504ac220",
   "metadata": {},
   "outputs": [
    {
     "name": "stdout",
     "output_type": "stream",
     "text": [
      "20\n",
      "<class 'int'>\n",
      "20\n",
      "<class 'numpy.ndarray'>\n",
      "0\n",
      "()\n",
      "1\n"
     ]
    }
   ],
   "source": [
    "#scalar it has signle quantity has no dimensions (dimension =0)\n",
    "\n",
    "import numpy as np \n",
    "\n",
    "a=20\n",
    "arr=np.array(a)\n",
    "#printing a value \n",
    "print(a)\n",
    "print(type(a))\n",
    "#printing arr value \n",
    "print(arr)\n",
    "print(type(arr))\n",
    "print(arr.ndim) #print the dimension of numpy array \n",
    "print(arr.shape) #print the shape of array (row,columns) in tuple format\n",
    "print(arr.size) # print total number of elements present in array \n"
   ]
  },
  {
   "cell_type": "code",
   "execution_count": 7,
   "id": "4f24d9a8",
   "metadata": {},
   "outputs": [
    {
     "name": "stdout",
     "output_type": "stream",
     "text": [
      "[12, 15, 34, 67, 32, 85]\n",
      "<class 'list'>\n",
      "[12 15 34 67 32 85]\n",
      "<class 'numpy.ndarray'>\n",
      "1\n",
      "(6,)\n",
      "6\n"
     ]
    }
   ],
   "source": [
    "#vector it has signle direction has one dimension (dimension =1) either row or columns vectors\n",
    "#in numpy it is neither a row vector nor a column vector by default. It is just a one-dimensional array.\n",
    "#its dimension is 1\n",
    "\n",
    "import numpy as np \n",
    "\n",
    "a=[12,15,34,67,32,85]\n",
    "arr=np.array(a)\n",
    "#printing a value \n",
    "print(a)\n",
    "print(type(a))\n",
    "#printing arr value \n",
    "print(arr)\n",
    "print(type(arr))\n",
    "print(arr.ndim) #print the dimension of numpy array \n",
    "print(arr.shape) #print the shape of array (row,columns) in tuple format\n",
    "print(arr.size) # print total number of elements present in array "
   ]
  },
  {
   "cell_type": "code",
   "execution_count": 9,
   "id": "990efcaf",
   "metadata": {},
   "outputs": [
    {
     "name": "stdout",
     "output_type": "stream",
     "text": [
      "Original array:\n",
      "[12 15 34 67 32 85]\n",
      "\n",
      "Row vector:\n",
      "[[12 15 34 67 32 85]]\n",
      "<class 'numpy.ndarray'>\n",
      "2\n",
      "(1, 6)\n",
      "6\n",
      "\n",
      "Column vector:\n",
      "[[12]\n",
      " [15]\n",
      " [34]\n",
      " [67]\n",
      " [32]\n",
      " [85]]\n",
      "<class 'numpy.ndarray'>\n",
      "2\n",
      "(6, 1)\n",
      "6\n"
     ]
    }
   ],
   "source": [
    "#However, if you want to explicitly convert it to a row or column vector, you can use the reshape method. For example:\n",
    "#now its dimension will be 2 \n",
    "import numpy as np\n",
    "\n",
    "a = [12, 15, 34, 67, 32, 85]\n",
    "print(\"Original array:\")\n",
    "print(arr)\n",
    "\n",
    "#convert to np array\n",
    "arr = np.array(a)\n",
    "\n",
    "# Convert to a row vector\n",
    "row_vector = arr.reshape(1, -1)\n",
    "print(\"\\nRow vector:\")\n",
    "print(row_vector)\n",
    "print(type(row_vector))\n",
    "print(row_vector.ndim) #print the dimension of numpy array \n",
    "print(row_vector.shape) #print the shape of array (row,columns) in tuple format\n",
    "print(row_vector.size) # print total number of elements present in array \n",
    "\n",
    "# Convert to a column vector\n",
    "column_vector = arr.reshape(-1, 1)\n",
    "print(\"\\nColumn vector:\")\n",
    "print(column_vector)\n",
    "print(type(column_vector))\n",
    "print(column_vector.ndim) #print the dimension of numpy array \n",
    "print(column_vector.shape) #print the shape of array (row,columns) in tuple format\n",
    "print(column_vector.size) # print total number of elements present in array \n",
    "\n",
    "\n",
    "\n"
   ]
  },
  {
   "cell_type": "code",
   "execution_count": 20,
   "id": "4fc40e95",
   "metadata": {},
   "outputs": [
    {
     "name": "stdout",
     "output_type": "stream",
     "text": [
      "[[1 2 3]\n",
      " [4 5 6]\n",
      " [7 8 9]]\n",
      "\n",
      "\n",
      "printing another matrix\n",
      "\n",
      " \n",
      "[[31 23 43]\n",
      " [94 55 86]\n",
      " [77 88 91]\n",
      " [34 65 78]]\n",
      "\n",
      "the type of matix is = ndarray\n",
      "the matrix dimension is =  2\n",
      "matrix shape in tuple =  (4, 3)\n",
      "elements present in matrix is =  12\n",
      "printing matrix row and columns values \n",
      "row =  4\n",
      "col =  3\n"
     ]
    }
   ],
   "source": [
    "#matrix it has two direction called row and columns vectors, it has dimension 2\n",
    "#in numpy it is neither a row vector nor a column vector by default. It is just a one-dimensional array.\n",
    "#its dimension is 2 it has both rows and colums more than 1 \n",
    "#note if row =1 columns more than one than it will be colummn matrix (1X6) in previous example\n",
    "#note if row =morethan one  columns =1 than it will be colummn matrix (6X1) in previous example \n",
    "\n",
    "#2d matrix \n",
    "\n",
    "import numpy as np\n",
    "\n",
    "# Using np.array with a list of lists\n",
    "matrix = np.array([\n",
    "                    [1, 2, 3],\n",
    "                    [4, 5, 6], \n",
    "                    [7, 8, 9]\n",
    "                ])\n",
    "\n",
    "print(matrix)\n",
    "\n",
    "\n",
    "print(\"\\n\\nprinting another matrix\\n\\n \")\n",
    "# Using np.array with a list of lists\n",
    "matrix = np.array([[31, 23, 43], [94, 55, 86], [77, 88, 91],[34,65,78]])\n",
    "\n",
    "print(matrix)\n",
    "print(\"\\nthe type of matix is =\",type(matrix).__name__)\n",
    "print(\"the matrix dimension is = \",matrix.ndim) #print the dimension of numpy array \n",
    "print(\"matrix shape in tuple = \",matrix.shape) #print the shape of array (row,columns) in tuple format\n",
    "print(\"elements present in matrix is = \",matrix.size) # print total number of elements present in array \n",
    "\n",
    "print(\"printing matrix row and columns values \")\n",
    "print(\"row = \",matrix.shape[0])\n",
    "print(\"col = \",matrix.shape[1])\n"
   ]
  },
  {
   "cell_type": "code",
   "execution_count": 24,
   "id": "f56ae01e",
   "metadata": {},
   "outputs": [
    {
     "name": "stdout",
     "output_type": "stream",
     "text": [
      "[[[0. 0. 0. 0.]\n",
      "  [0. 0. 0. 0.]\n",
      "  [0. 0. 0. 0.]]\n",
      "\n",
      " [[0. 0. 0. 0.]\n",
      "  [0. 0. 0. 0.]\n",
      "  [0. 0. 0. 0.]]\n",
      "\n",
      " [[0. 0. 0. 0.]\n",
      "  [0. 0. 0. 0.]\n",
      "  [0. 0. 0. 0.]]]\n",
      "\n",
      "the type of matix is = ndarray\n",
      "the matrix dimension is =  3\n",
      "matrix shape in tuple =  (3, 3, 4)\n",
      "elements present in matrix is =  36\n"
     ]
    }
   ],
   "source": [
    "#creating 3 dimension using np.zeros()\n",
    "import numpy as np\n",
    "\n",
    "# Creating a 3-dimensional matrix filled with zeros\n",
    "shape = (3, 3, 4)  # Specify the size of each dimension\n",
    "matrix = np.zeros(shape)\n",
    "\n",
    "print(matrix)\n",
    "print(\"\\nthe type of matix is =\",type(matrix).__name__)\n",
    "print(\"the matrix dimension is = \",matrix.ndim) #print the dimension of numpy array \n",
    "print(\"matrix shape in tuple = \",matrix.shape) #print the shape of array (row,columns) in tuple format\n",
    "print(\"elements present in matrix is = \",matrix.size) # print total number of elements present in array \n",
    "\n"
   ]
  },
  {
   "cell_type": "markdown",
   "id": "ad891657",
   "metadata": {},
   "source": [
    "## matrix creation np.array(), np.zeros(), np.ones(), np.empty(), np.arange(), np.linspace()"
   ]
  },
  {
   "cell_type": "code",
   "execution_count": 25,
   "id": "d27b781f",
   "metadata": {},
   "outputs": [
    {
     "name": "stdout",
     "output_type": "stream",
     "text": [
      "[[1 2 3]\n",
      " [4 5 6]\n",
      " [7 8 9]]\n"
     ]
    }
   ],
   "source": [
    "#create 3X3 matrix with np.array()\n",
    "import numpy as np \n",
    "\n",
    "matrix=np.array([[1,2,3],[4,5,6],[7,8,9]])\n",
    "print(matrix)"
   ]
  },
  {
   "cell_type": "code",
   "execution_count": 28,
   "id": "818c2a32",
   "metadata": {},
   "outputs": [
    {
     "name": "stdout",
     "output_type": "stream",
     "text": [
      "[[0. 0. 0.]\n",
      " [0. 0. 0.]\n",
      " [0. 0. 0.]]\n",
      "\n",
      "\n",
      "\n",
      "[[0. 0. 0.]\n",
      " [0. 0. 0.]\n",
      " [0. 0. 0.]\n",
      " [0. 0. 0.]]\n"
     ]
    }
   ],
   "source": [
    "#create 3X3 matrix with np.zeros() it will give all the elements zero\n",
    "#shapes should give in tuple format\n",
    "\n",
    "import numpy as np \n",
    "#ex1\n",
    "matrix=np.zeros((3,3))\n",
    "print(matrix)\n",
    "print(\"\\n\\n\")\n",
    "#ex2\n",
    "shape=(4,3)\n",
    "mat=np.zeros(shape)\n",
    "print(mat)"
   ]
  },
  {
   "cell_type": "code",
   "execution_count": 29,
   "id": "fd833f16",
   "metadata": {},
   "outputs": [
    {
     "name": "stdout",
     "output_type": "stream",
     "text": [
      "[[1. 1. 1.]\n",
      " [1. 1. 1.]\n",
      " [1. 1. 1.]]\n",
      "\n",
      "\n",
      "\n",
      "[[1. 1. 1.]\n",
      " [1. 1. 1.]\n",
      " [1. 1. 1.]\n",
      " [1. 1. 1.]]\n"
     ]
    }
   ],
   "source": [
    "#create 3X3 matrix with np.ones() it will give all the elements one\n",
    "#shapes should give in tuple format\n",
    "\n",
    "import numpy as np \n",
    "#ex1\n",
    "matrix=np.ones((3,3))\n",
    "print(matrix)\n",
    "print(\"\\n\\n\")\n",
    "#ex2\n",
    "shape=(4,3)\n",
    "mat=np.ones(shape)\n",
    "print(mat)"
   ]
  },
  {
   "cell_type": "code",
   "execution_count": 51,
   "id": "ec289973",
   "metadata": {},
   "outputs": [
    {
     "name": "stdout",
     "output_type": "stream",
     "text": [
      "[[[[[1 2 3 4]]]]]\n",
      "number of dimensions : 5\n"
     ]
    }
   ],
   "source": [
    "#creating a 5 dimension array \n",
    "import numpy as np\n",
    "\n",
    "arr = np.array([1, 2, 3, 4], ndmin=5)\n",
    "\n",
    "print(arr)\n",
    "print('number of dimensions :', arr.ndim)"
   ]
  },
  {
   "cell_type": "code",
   "execution_count": 34,
   "id": "d99a0239",
   "metadata": {},
   "outputs": [
    {
     "name": "stdout",
     "output_type": "stream",
     "text": [
      "[[4.88059032e-313 1.99467604e-312 1.82491638e-312]\n",
      " [1.86735630e-312 7.21478569e-313 1.65515672e-312]]\n"
     ]
    }
   ],
   "source": [
    "# Creating an empty array with shape (2, 3)\n",
    "#it will contains some garbage values \n",
    "import numpy as np\n",
    "\n",
    "# Creating an empty array with shape (2, 3)\n",
    "empty_array = np.empty((2, 3))\n",
    "\n",
    "print(empty_array)\n"
   ]
  },
  {
   "cell_type": "code",
   "execution_count": 36,
   "id": "cb12c4d5",
   "metadata": {},
   "outputs": [
    {
     "name": "stdout",
     "output_type": "stream",
     "text": [
      "[[1.33001884e-311 6.27463370e-322 0.00000000e+000 0.00000000e+000]\n",
      " [7.56587583e-307 1.16096346e-028 9.82205649e+252 1.11789342e+253]\n",
      " [1.29453371e-153 9.11160086e+130 4.10115249e+223 1.19684762e+141]\n",
      " [6.96770842e+252 7.20123395e+252 2.17436711e+243 2.66006218e-061]\n",
      " [9.14747031e+140 8.45888278e-053 1.81152937e-152 1.56189128e-033]]\n"
     ]
    }
   ],
   "source": [
    "#another way to create \n",
    "#order: Specifies whether to store the array in C-style (row-major) or Fortran-style (column-major) order. Optional, \n",
    "#and if not specified, it defaults to 'C'.\n",
    "#\n",
    "#\n",
    "import numpy \n",
    "shape=(5,4)\n",
    "temp=numpy.empty(shape, dtype=float, order='C')\n",
    "print(temp)"
   ]
  },
  {
   "cell_type": "code",
   "execution_count": 43,
   "id": "920b5cda",
   "metadata": {},
   "outputs": [
    {
     "name": "stdout",
     "output_type": "stream",
     "text": [
      "[ 1  2  3  4  5  6  7  8  9 10]\n",
      "[ 0  1  2  3  4  5  6  7  8  9 10]\n",
      "[11 12 13 14 15 16 17 18 19 20 21]\n",
      "[11 13 15 17 19 21]\n",
      "[11 14 17 20]\n"
     ]
    }
   ],
   "source": [
    "#create arrays with np.arange(start:end:step) \n",
    "#end ends with n-1 ex: in this code end =11, but it stops at 10\n",
    "#step is default is 1. if you want we can change step \n",
    "import numpy as np\n",
    "\n",
    "arange_array=np.arange(1,11)\n",
    "print(arange_array)\n",
    "\n",
    "arange_array=np.arange(11)\n",
    "print(arange_array)\n",
    "\n",
    "arange_array=np.arange(11,22)\n",
    "print(arange_array)\n",
    "\n",
    "arange_array=np.arange(11,22,2)\n",
    "print(arange_array)\n",
    "\n",
    "arange_array=np.arange(11,22,3)\n",
    "print(arange_array)"
   ]
  },
  {
   "cell_type": "code",
   "execution_count": 48,
   "id": "6eab0076",
   "metadata": {},
   "outputs": [
    {
     "name": "stdout",
     "output_type": "stream",
     "text": [
      "[ 1  2  3  4  5  6  7  8  9 10]\n"
     ]
    }
   ],
   "source": [
    "#reshape the np.range() values \n",
    "arange_array=np.arange(1,11)\n",
    "print(arange_array)\n"
   ]
  },
  {
   "cell_type": "code",
   "execution_count": 49,
   "id": "7ef24bce",
   "metadata": {},
   "outputs": [
    {
     "name": "stdout",
     "output_type": "stream",
     "text": [
      "[[ 1  2  3  4  5]\n",
      " [ 6  7  8  9 10]]\n"
     ]
    }
   ],
   "source": [
    "arange_array=np.arange(1,11).reshape((2,5))\n",
    "print(arange_array)"
   ]
  },
  {
   "cell_type": "code",
   "execution_count": 50,
   "id": "74fc40b7",
   "metadata": {},
   "outputs": [
    {
     "name": "stdout",
     "output_type": "stream",
     "text": [
      "[[ 1  2]\n",
      " [ 3  4]\n",
      " [ 5  6]\n",
      " [ 7  8]\n",
      " [ 9 10]]\n"
     ]
    }
   ],
   "source": [
    "arange_array=np.arange(1,11).reshape((5,2))\n",
    "print(arange_array)"
   ]
  },
  {
   "cell_type": "code",
   "execution_count": null,
   "id": "14a15758",
   "metadata": {},
   "outputs": [],
   "source": []
  }
 ],
 "metadata": {
  "kernelspec": {
   "display_name": "Python 3 (ipykernel)",
   "language": "python",
   "name": "python3"
  },
  "language_info": {
   "codemirror_mode": {
    "name": "ipython",
    "version": 3
   },
   "file_extension": ".py",
   "mimetype": "text/x-python",
   "name": "python",
   "nbconvert_exporter": "python",
   "pygments_lexer": "ipython3",
   "version": "3.11.5"
  }
 },
 "nbformat": 4,
 "nbformat_minor": 5
}
