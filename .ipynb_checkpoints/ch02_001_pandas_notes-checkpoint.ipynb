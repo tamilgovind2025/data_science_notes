{
 "cells": [
  {
   "cell_type": "markdown",
   "id": "59751387",
   "metadata": {},
   "source": [
    "# PANDAS COMPLETE TUTORIAL"
   ]
  },
  {
   "cell_type": "markdown",
   "id": "e38b1957",
   "metadata": {},
   "source": [
    "## CH01_INTRODUCTION"
   ]
  },
  {
   "cell_type": "code",
   "execution_count": 1,
   "id": "1f186bb5",
   "metadata": {},
   "outputs": [],
   "source": [
    "intro=\"\"\"\n",
    "Pandas is a Python library used for working with data sets.\n",
    "\n",
    "Pandas is an open-source Python Library providing high-performance data manipulation and \n",
    "analysis tool using its powerful data structures\n",
    "\n",
    "It has functions for analyzing, cleaning, exploring, and manipulating data.\n",
    "\n",
    "The name \"Pandas\" has a reference to both \"Panel Data\", and \"Python Data Analysis\" and\n",
    "was created by Wes McKinney in 2008.\n",
    "\n",
    "Pandas allows us to analyze big data and make conclusions based on statistical theories.\n",
    "\n",
    "Pandas can clean messy data sets, and make them readable and relevant.\n",
    "\n",
    "Relevant data is very important in data science.\n",
    "\n",
    "Pandas gives you answers about the data. Like:\n",
    "\n",
    "Is there a correlation between two or more columns?\n",
    "What is average value?\n",
    "Max value?\n",
    "Min value?\n",
    "\n",
    "Pandas are also able to delete rows that are not relevant, or contains wrong values, like empty or \n",
    "NULL values. This is called cleaning the data.\n",
    "\n",
    "The source code for Pandas is located at this github repository https://github.com/pandas-dev/pandas\n",
    "\n",
    "Pandas provides two types of classes for handling data:\n",
    "\n",
    "Series: a one-dimensional labeled array holding data of any type\n",
    "such as integers, strings, Python objects etc.\n",
    "\n",
    "DataFrame: a two-dimensional data structure that holds data like a two-dimension array or \n",
    "a table with rows and columns.\n",
    "\"\"\""
   ]
  },
  {
   "cell_type": "code",
   "execution_count": null,
   "id": "2daff023",
   "metadata": {},
   "outputs": [],
   "source": [
    "#FEATURES \n",
    "\"\"\"\n",
    "Fast and efficient DataFrame object with default and customized indexing.\n",
    "Tools for loading data into in-memory data objects from different file formats.\n",
    "Data alignment and integrated handling of missing data.\n",
    "Reshaping and pivoting of date sets.\n",
    "Label-based slicing, indexing and subsetting of large data sets.\n",
    "Columns from a data structure can be deleted or inserted.\n",
    "Group by data for aggregation and transformations.\n",
    "High performance merging and joining of data.\n",
    "Time Series functionality.\n",
    "\n",
    "To install pandas \n",
    "\n",
    "pip install pandas\n",
    "\n",
    "#to import \n",
    "import pandas \n",
    "or \n",
    "import pandas as pd (universal format)\n",
    "\"\"\""
   ]
  },
  {
   "cell_type": "markdown",
   "id": "8f36a6dd",
   "metadata": {},
   "source": [
    "## CH02 WORKING WITH PANDAS SERIES "
   ]
  },
  {
   "cell_type": "code",
   "execution_count": 7,
   "id": "39615ef2",
   "metadata": {},
   "outputs": [
    {
     "name": "stdout",
     "output_type": "stream",
     "text": [
      "the pandas series is \n",
      "0    21\n",
      "1    22\n",
      "2    23\n",
      "3    24\n",
      "4    25\n",
      "5    65\n",
      "6    43\n",
      "dtype: int64\n",
      "the series type is =  <class 'pandas.core.series.Series'>\n"
     ]
    }
   ],
   "source": [
    "#WORKIGN WITH SERIES\n",
    "\n",
    "l1=[21,22,23,24,25,65,43]\n",
    "\n",
    "import pandas as pd \n",
    "\n",
    "ser=pd.Series(l1)\n",
    "print(\"the pandas series is \")\n",
    "print(ser)\n",
    "print(\"the series type is = \",type(ser))\n",
    "    "
   ]
  },
  {
   "cell_type": "code",
   "execution_count": 8,
   "id": "5b6f7351",
   "metadata": {},
   "outputs": [
    {
     "name": "stdout",
     "output_type": "stream",
     "text": [
      "a    25\n",
      "b    76\n",
      "c    45\n",
      "d    34\n",
      "e    45\n",
      "dtype: int64\n"
     ]
    }
   ],
   "source": [
    "#creating another series \n",
    "\n",
    "numbers=[25,76,45,34,45]\n",
    "index=['a','b','c','d','e']\n",
    "ser=pd.Series(numbers,index=index)\n",
    "print(ser)"
   ]
  },
  {
   "cell_type": "code",
   "execution_count": null,
   "id": "47651fd4",
   "metadata": {},
   "outputs": [],
   "source": [
    "\"\"\"\n",
    "Attributes and Methods:\n",
    "series.values: Returns the values of the Series as a NumPy array.\n",
    "series.index: Returns the index of the Series.\n",
    "series.dtype: Returns the data type of the values.\n",
    "series.head(n): Returns the first n elements.\n",
    "series.tail(n): Returns the last n elements.\n",
    "series.describe(): Generates descriptive statistics.\n",
    "\"\"\""
   ]
  },
  {
   "cell_type": "code",
   "execution_count": 14,
   "id": "1ddf3f39",
   "metadata": {},
   "outputs": [
    {
     "name": "stdout",
     "output_type": "stream",
     "text": [
      "data series are =  [25 76 45 34 45 55 67 89 56 43]\n",
      "data index are =  Index(['a', 'b', 'c', 'd', 'e', 'f', 'g', 'h', 'i', 'j'], dtype='object')\n",
      "data type is =  int64\n"
     ]
    }
   ],
   "source": [
    "\n",
    "numbers=[25,76,45,34,45,55,67,89,56,43]\n",
    "index=['a','b','c','d','e','f','g','h','i','j']\n",
    "ser=pd.Series(numbers,index=index)\n",
    "\n",
    "print(\"data series are = \",ser.values)\n",
    "print(\"data index are = \",ser.index)\n",
    "print(\"data type is = \",ser.dtype)"
   ]
  },
  {
   "cell_type": "code",
   "execution_count": 15,
   "id": "5fd462cc",
   "metadata": {},
   "outputs": [
    {
     "data": {
      "text/plain": [
       "a    25\n",
       "b    76\n",
       "c    45\n",
       "dtype: int64"
      ]
     },
     "execution_count": 15,
     "metadata": {},
     "output_type": "execute_result"
    }
   ],
   "source": [
    "ser.head(3)"
   ]
  },
  {
   "cell_type": "code",
   "execution_count": 16,
   "id": "8ebe0422",
   "metadata": {},
   "outputs": [
    {
     "data": {
      "text/plain": [
       "a    25\n",
       "b    76\n",
       "c    45\n",
       "d    34\n",
       "e    45\n",
       "dtype: int64"
      ]
     },
     "execution_count": 16,
     "metadata": {},
     "output_type": "execute_result"
    }
   ],
   "source": [
    "ser.head() #it will show first 5 records "
   ]
  },
  {
   "cell_type": "code",
   "execution_count": 17,
   "id": "d3f0c60b",
   "metadata": {},
   "outputs": [
    {
     "data": {
      "text/plain": [
       "h    89\n",
       "i    56\n",
       "j    43\n",
       "dtype: int64"
      ]
     },
     "execution_count": 17,
     "metadata": {},
     "output_type": "execute_result"
    }
   ],
   "source": [
    "n=3\n",
    "ser.tail(n) "
   ]
  },
  {
   "cell_type": "code",
   "execution_count": 18,
   "id": "72c07ac6",
   "metadata": {},
   "outputs": [
    {
     "data": {
      "text/plain": [
       "f    55\n",
       "g    67\n",
       "h    89\n",
       "i    56\n",
       "j    43\n",
       "dtype: int64"
      ]
     },
     "execution_count": 18,
     "metadata": {},
     "output_type": "execute_result"
    }
   ],
   "source": [
    "ser.tail() #it will show last 5 records "
   ]
  },
  {
   "cell_type": "code",
   "execution_count": 19,
   "id": "eb754dcb",
   "metadata": {},
   "outputs": [
    {
     "data": {
      "text/plain": [
       "count    10.000000\n",
       "mean     53.500000\n",
       "std      19.449364\n",
       "min      25.000000\n",
       "25%      43.500000\n",
       "50%      50.000000\n",
       "75%      64.250000\n",
       "max      89.000000\n",
       "dtype: float64"
      ]
     },
     "execution_count": 19,
     "metadata": {},
     "output_type": "execute_result"
    }
   ],
   "source": [
    "ser.describe() $decribes about data set "
   ]
  },
  {
   "cell_type": "code",
   "execution_count": null,
   "id": "3f0ffb8c",
   "metadata": {},
   "outputs": [],
   "source": [
    "#working with slicing and indexing on pandas series "
   ]
  },
  {
   "cell_type": "code",
   "execution_count": 30,
   "id": "c9b7519c",
   "metadata": {},
   "outputs": [
    {
     "name": "stdout",
     "output_type": "stream",
     "text": [
      "the 0th element is =  25\n",
      "the last element is =  89\n",
      "the last element is =  89\n",
      "the last element is =  89\n",
      "the 0th element is =  25\n",
      "the last element is =  89\n",
      "the second element is =  76\n"
     ]
    }
   ],
   "source": [
    "import pandas as pd \n",
    "numbers=[25,76,45,34,45,55,67,89,56,43,55,67,89,]\n",
    "index=['a','b','c','d','e','f','g','h','i','j',\"k\",\"l\",\"m\"]\n",
    "\n",
    "ser=pd.Series(numbers,index=index)\n",
    "\n",
    "#integer based slicing \n",
    "#print(\"the pandas series are = \",ser)\n",
    "print(\"the 0th element is = \",ser[0])\n",
    "\n",
    "print(\"the last element is = \",ser[len(ser)-1])\n",
    "print(\"the last element is = \",ser[-1])\n",
    "print(\"the last element is = \",ser[12])\n",
    "\n",
    "#Label-based Indexing:\n",
    "print(\"the 0th element is = \",ser['a'])\n",
    "print(\"the last element is = \",ser['m'])\n",
    "print(\"the second element is = \",ser['b'])"
   ]
  },
  {
   "cell_type": "code",
   "execution_count": 36,
   "id": "92e1c2e0",
   "metadata": {},
   "outputs": [
    {
     "name": "stdout",
     "output_type": "stream",
     "text": [
      "a    25\n",
      "b    76\n",
      "c    45\n",
      "d    34\n",
      "dtype: int64\n",
      "a    25\n",
      "b    76\n",
      "c    45\n",
      "dtype: int64\n"
     ]
    }
   ],
   "source": [
    "#slicing series[start:stop:step]\n",
    "print(ser[\"a\":\"d\"]) #d include and default step is 1\n",
    "print(ser[0:3]) #3 exclude and default step is 1\n"
   ]
  },
  {
   "cell_type": "code",
   "execution_count": 37,
   "id": "d9fbf136",
   "metadata": {},
   "outputs": [
    {
     "name": "stdout",
     "output_type": "stream",
     "text": [
      "a    25\n",
      "c    45\n",
      "dtype: int64\n",
      "a    25\n",
      "c    45\n",
      "dtype: int64\n"
     ]
    }
   ],
   "source": [
    "print(ser[\"a\":\"d\":2]) #d include and step is 2\n",
    "print(ser[0:3:2]) #3 exclude and step is 1"
   ]
  },
  {
   "cell_type": "code",
   "execution_count": 39,
   "id": "95b8b447",
   "metadata": {},
   "outputs": [
    {
     "name": "stdout",
     "output_type": "stream",
     "text": [
      "a    False\n",
      "b     True\n",
      "c    False\n",
      "d    False\n",
      "e    False\n",
      "f     True\n",
      "g     True\n",
      "h     True\n",
      "i     True\n",
      "j    False\n",
      "k     True\n",
      "l     True\n",
      "m     True\n",
      "dtype: bool\n",
      "b    76\n",
      "f    55\n",
      "g    67\n",
      "h    89\n",
      "i    56\n",
      "k    55\n",
      "l    67\n",
      "m    89\n",
      "dtype: int64\n"
     ]
    }
   ],
   "source": [
    "#boolean indexing \n",
    "bool_data=ser>=50 #it will create boolean series\n",
    "print(bool_data)\n",
    "print(ser[bool_data]) #it prints value more or equl to 50 "
   ]
  },
  {
   "cell_type": "code",
   "execution_count": 40,
   "id": "ecf47e27",
   "metadata": {},
   "outputs": [
    {
     "name": "stdout",
     "output_type": "stream",
     "text": [
      "b    76\n",
      "h    89\n",
      "m    89\n",
      "dtype: int64\n"
     ]
    }
   ],
   "source": [
    "print(ser[ser>70])"
   ]
  },
  {
   "cell_type": "code",
   "execution_count": 41,
   "id": "cb05b067",
   "metadata": {},
   "outputs": [
    {
     "name": "stdout",
     "output_type": "stream",
     "text": [
      "a    25\n",
      "c    45\n",
      "d    34\n",
      "e    45\n",
      "dtype: int64\n"
     ]
    }
   ],
   "source": [
    "#fancy indexing \n",
    "print(ser[[\"a\",\"c\",\"d\",\"e\"]])"
   ]
  },
  {
   "cell_type": "code",
   "execution_count": 43,
   "id": "9a8e5a05",
   "metadata": {},
   "outputs": [
    {
     "name": "stdout",
     "output_type": "stream",
     "text": [
      "m    89\n",
      "a    25\n",
      "c    45\n",
      "d    34\n",
      "e    45\n",
      "e    45\n",
      "e    45\n",
      "dtype: int64\n"
     ]
    }
   ],
   "source": [
    "#fancy indexing \n",
    "print(ser[['m',\"a\",\"c\",\"d\",\"e\",'e','e']])"
   ]
  },
  {
   "cell_type": "code",
   "execution_count": 48,
   "id": "a4e50ce3",
   "metadata": {},
   "outputs": [
    {
     "name": "stdout",
     "output_type": "stream",
     "text": [
      "0th value is = 25\n",
      "0th value is = 25\n",
      "last value is = 89\n",
      "last value is = 89\n"
     ]
    }
   ],
   "source": [
    "# Indexing with iloc and loc:\n",
    "import pandas as pd \n",
    "numbers=[25,76,45,34,45,55,67,89,56,43,55,67,89,]\n",
    "index=['a','b','c','d','e','f','g','h','i','j',\"k\",\"l\",\"m\"]\n",
    "\n",
    "data_ser=pd.Series(numbers,index=index)\n",
    "print(\"0th value is =\",data_ser.iloc[0]) #implicit index\n",
    "print(\"0th value is =\",data_ser.loc['a'])#explicit index\n",
    "\n",
    "print(\"last value is =\",data_ser.iloc[12])\n",
    "print(\"last value is =\",data_ser.loc['m'])\n"
   ]
  },
  {
   "cell_type": "code",
   "execution_count": 52,
   "id": "99fa42a1",
   "metadata": {},
   "outputs": [
    {
     "name": "stdout",
     "output_type": "stream",
     "text": [
      "a    25\n",
      "b    76\n",
      "c    45\n",
      "d    34\n",
      "e    45\n",
      "f    55\n",
      "g    67\n",
      "h    89\n",
      "i    56\n",
      "j    43\n",
      "k    55\n",
      "l    67\n",
      "m    89\n",
      "dtype: int64\n",
      "0     25\n",
      "1     76\n",
      "2     45\n",
      "3     34\n",
      "4     45\n",
      "5     55\n",
      "6     67\n",
      "7     89\n",
      "8     56\n",
      "9     43\n",
      "10    55\n",
      "11    67\n",
      "12    89\n",
      "dtype: int64\n"
     ]
    }
   ],
   "source": [
    "#Setting and Resetting Index:\n",
    "\n",
    "import pandas as pd \n",
    "numbers=[25,76,45,34,45,55,67,89,56,43,55,67,89,]\n",
    "index=['a','b','c','d','e','f','g','h','i','j',\"k\",\"l\",\"m\"]\n",
    "\n",
    "s=pd.Series(numbers,index=index)\n",
    "print(s)\n",
    "s.reset_index(drop=True, inplace=True) #resetting the index \n",
    "print(s)"
   ]
  },
  {
   "cell_type": "code",
   "execution_count": 60,
   "id": "f16fce05",
   "metadata": {},
   "outputs": [
    {
     "name": "stdout",
     "output_type": "stream",
     "text": [
      "the addition result\n",
      " 0     9\n",
      "1    19\n",
      "2    27\n",
      "3    24\n",
      "dtype: int64\n",
      "the subtraction result\n",
      " 0    -1\n",
      "1     7\n",
      "2    13\n",
      "3     8\n",
      "dtype: int64\n",
      "the multiplication result\n",
      " 0     20\n",
      "1     78\n",
      "2    140\n",
      "3    128\n",
      "dtype: int64\n",
      "the division result\n",
      " 0    0.800000\n",
      "1    2.166667\n",
      "2    2.857143\n",
      "3    2.000000\n",
      "dtype: float64\n",
      "the floor division result\n",
      " 0    0\n",
      "1    2\n",
      "2    2\n",
      "3    2\n",
      "dtype: int64\n"
     ]
    }
   ],
   "source": [
    "#arithmatic operations on pandas series \n",
    "import pandas as pd\n",
    "\n",
    "series1 = pd.Series([4, 13, 20, 16])\n",
    "series2 = pd.Series([5, 6, 7, 8])\n",
    "\n",
    "# Addition\n",
    "result = series1 + series2\n",
    "print(\"the addition result\\n\",result)\n",
    "\n",
    "# Subtraction\n",
    "result = series1 - series2\n",
    "print(\"the subtraction result\\n\",result)\n",
    "# Multiplication\n",
    "result = series1 * series2\n",
    "print(\"the multiplication result\\n\",result)\n",
    "\n",
    "# Division\n",
    "result = series1 / series2\n",
    "print(\"the division result\\n\",result)\n",
    "\n",
    "# floor Division\n",
    "result = series1 // series2\n",
    "print(\"the floor division result\\n\",result)\n"
   ]
  },
  {
   "cell_type": "code",
   "execution_count": 61,
   "id": "af7b6d1f",
   "metadata": {},
   "outputs": [
    {
     "name": "stdout",
     "output_type": "stream",
     "text": [
      "the modulation result\n",
      " 0    4\n",
      "1    1\n",
      "2    6\n",
      "3    0\n",
      "dtype: int64\n"
     ]
    }
   ],
   "source": [
    "# floor Division\n",
    "result = series1 % series2\n",
    "print(\"the modulation result\\n\",result)"
   ]
  },
  {
   "cell_type": "code",
   "execution_count": 62,
   "id": "d73376ec",
   "metadata": {},
   "outputs": [
    {
     "name": "stdout",
     "output_type": "stream",
     "text": [
      "the floor division result\n",
      " 0          1024\n",
      "1       4826809\n",
      "2    1280000000\n",
      "3    4294967296\n",
      "dtype: int64\n"
     ]
    }
   ],
   "source": [
    "# exponential result\n",
    "result = series1 ** series2\n",
    "print(\"the floor division result\\n\",result)"
   ]
  },
  {
   "cell_type": "code",
   "execution_count": 68,
   "id": "78eb3666",
   "metadata": {},
   "outputs": [
    {
     "name": "stdout",
     "output_type": "stream",
     "text": [
      "the total of the series =  30\n",
      "the avg of the series =  7.5\n",
      "the maximum value of the series =  16\n",
      "the min value of the series =  2\n",
      "the min value of the series =  6.0\n",
      "the min value of the series =  6.191391873668904\n"
     ]
    }
   ],
   "source": [
    "#aggregate function \n",
    "#mean(), median(), std(), sum(), min(), max()\n",
    "import pandas as pd\n",
    "\n",
    "series = pd.Series([2, 8, 16, 4])\n",
    "# Sum\n",
    "total = series.sum()\n",
    "print(\"the total of the series = \",total)\n",
    "# Mean\n",
    "average = series.mean()\n",
    "print(\"the avg of the series = \",average)\n",
    "# Maximum\n",
    "maximum_value = series.max()\n",
    "print(\"the maximum value of the series = \",maximum_value)\n",
    "# Minimum\n",
    "minimum_value = series.min()\n",
    "print(\"the min value of the series = \",minimum_value)\n",
    "\n",
    "# Median\n",
    "median_value = series.median()\n",
    "print(\"the median value of the series = \",median_value)\n",
    "\n",
    "# std\n",
    "std_value = series.std()\n",
    "print(\"the std value of the series = \",std_value)"
   ]
  },
  {
   "cell_type": "code",
   "execution_count": 71,
   "id": "a51223cf",
   "metadata": {},
   "outputs": [
    {
     "name": "stdout",
     "output_type": "stream",
     "text": [
      "0    21.0\n",
      "1    23.0\n",
      "2    55.0\n",
      "3    67.0\n",
      "4     NaN\n",
      "5    99.0\n",
      "6    23.0\n",
      "7     NaN\n",
      "8     NaN\n",
      "dtype: float64\n",
      "0    21.0\n",
      "1    23.0\n",
      "2    55.0\n",
      "3    67.0\n",
      "5    99.0\n",
      "6    23.0\n",
      "dtype: float64\n",
      "0    21.0\n",
      "1    23.0\n",
      "2    55.0\n",
      "3    67.0\n",
      "4    99.0\n",
      "5    99.0\n",
      "6    23.0\n",
      "7    99.0\n",
      "8    99.0\n",
      "dtype: float64\n"
     ]
    }
   ],
   "source": [
    "\"\"\"\n",
    "Handling Missing Data:\n",
    "Methods like dropna() and fillna(value) are used to handle missing data.\n",
    "\"\"\"\n",
    "import numpy as np \n",
    "import pandas as pd \n",
    "\n",
    "data=pd.Series([21,23,55,67,np.nan,99,23,np.nan,np.nan])\n",
    "print(data)\n",
    "\n",
    "new_data=data.dropna()\n",
    "print(new_data)\n",
    "\n",
    "new_data=data.fillna(data.max())\n",
    "print(new_data)"
   ]
  },
  {
   "cell_type": "code",
   "execution_count": 72,
   "id": "402e517f",
   "metadata": {},
   "outputs": [
    {
     "name": "stdout",
     "output_type": "stream",
     "text": [
      "0    21.0\n",
      "1    23.0\n",
      "2    55.0\n",
      "3    67.0\n",
      "4    22.0\n",
      "5    99.0\n",
      "6    23.0\n",
      "7    22.0\n",
      "8    22.0\n",
      "dtype: float64\n"
     ]
    }
   ],
   "source": [
    "\n",
    "new_data=data.fillna(22)\n",
    "print(new_data)"
   ]
  },
  {
   "cell_type": "code",
   "execution_count": null,
   "id": "3bec882d",
   "metadata": {},
   "outputs": [],
   "source": []
  }
 ],
 "metadata": {
  "kernelspec": {
   "display_name": "Python 3 (ipykernel)",
   "language": "python",
   "name": "python3"
  },
  "language_info": {
   "codemirror_mode": {
    "name": "ipython",
    "version": 3
   },
   "file_extension": ".py",
   "mimetype": "text/x-python",
   "name": "python",
   "nbconvert_exporter": "python",
   "pygments_lexer": "ipython3",
   "version": "3.11.5"
  }
 },
 "nbformat": 4,
 "nbformat_minor": 5
}
