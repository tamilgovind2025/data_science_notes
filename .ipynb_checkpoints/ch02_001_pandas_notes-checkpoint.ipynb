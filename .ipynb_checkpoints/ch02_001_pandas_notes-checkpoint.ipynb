{
 "cells": [
  {
   "cell_type": "markdown",
   "id": "59751387",
   "metadata": {},
   "source": [
    "# PANDAS COMPLETE TUTORIAL"
   ]
  },
  {
   "cell_type": "markdown",
   "id": "e38b1957",
   "metadata": {},
   "source": [
    "## CH01_INTRODUCTION"
   ]
  },
  {
   "cell_type": "code",
   "execution_count": 1,
   "id": "1f186bb5",
   "metadata": {},
   "outputs": [],
   "source": [
    "intro=\"\"\"\n",
    "Pandas is a Python library used for working with data sets.\n",
    "\n",
    "Pandas is an open-source Python Library providing high-performance data manipulation and \n",
    "analysis tool using its powerful data structures\n",
    "\n",
    "It has functions for analyzing, cleaning, exploring, and manipulating data.\n",
    "\n",
    "The name \"Pandas\" has a reference to both \"Panel Data\", and \"Python Data Analysis\" and\n",
    "was created by Wes McKinney in 2008.\n",
    "\n",
    "Pandas allows us to analyze big data and make conclusions based on statistical theories.\n",
    "\n",
    "Pandas can clean messy data sets, and make them readable and relevant.\n",
    "\n",
    "Relevant data is very important in data science.\n",
    "\n",
    "Pandas gives you answers about the data. Like:\n",
    "\n",
    "Is there a correlation between two or more columns?\n",
    "What is average value?\n",
    "Max value?\n",
    "Min value?\n",
    "\n",
    "Pandas are also able to delete rows that are not relevant, or contains wrong values, like empty or \n",
    "NULL values. This is called cleaning the data.\n",
    "\n",
    "The source code for Pandas is located at this github repository https://github.com/pandas-dev/pandas\n",
    "\n",
    "Pandas provides two types of classes for handling data:\n",
    "\n",
    "Series: a one-dimensional labeled array holding data of any type\n",
    "such as integers, strings, Python objects etc.\n",
    "\n",
    "DataFrame: a two-dimensional data structure that holds data like a two-dimension array or \n",
    "a table with rows and columns.\n",
    "\"\"\""
   ]
  },
  {
   "cell_type": "code",
   "execution_count": null,
   "id": "2daff023",
   "metadata": {},
   "outputs": [],
   "source": [
    "#FEATURES \n",
    "\"\"\"\n",
    "Fast and efficient DataFrame object with default and customized indexing.\n",
    "Tools for loading data into in-memory data objects from different file formats.\n",
    "Data alignment and integrated handling of missing data.\n",
    "Reshaping and pivoting of date sets.\n",
    "Label-based slicing, indexing and subsetting of large data sets.\n",
    "Columns from a data structure can be deleted or inserted.\n",
    "Group by data for aggregation and transformations.\n",
    "High performance merging and joining of data.\n",
    "Time Series functionality.\n",
    "\n",
    "To install pandas \n",
    "\n",
    "pip install pandas\n",
    "\n",
    "#to import \n",
    "import pandas \n",
    "or \n",
    "import pandas as pd (universal format)\n",
    "\"\"\""
   ]
  },
  {
   "cell_type": "markdown",
   "id": "8f36a6dd",
   "metadata": {},
   "source": [
    "## CH02 WORKING WITH PANDAS SERIES "
   ]
  },
  {
   "cell_type": "code",
   "execution_count": 7,
   "id": "39615ef2",
   "metadata": {},
   "outputs": [
    {
     "name": "stdout",
     "output_type": "stream",
     "text": [
      "the pandas series is \n",
      "0    21\n",
      "1    22\n",
      "2    23\n",
      "3    24\n",
      "4    25\n",
      "5    65\n",
      "6    43\n",
      "dtype: int64\n",
      "the series type is =  <class 'pandas.core.series.Series'>\n"
     ]
    }
   ],
   "source": [
    "#WORKIGN WITH SERIES\n",
    "\n",
    "l1=[21,22,23,24,25,65,43]\n",
    "\n",
    "import pandas as pd \n",
    "\n",
    "ser=pd.Series(l1)\n",
    "print(\"the pandas series is \")\n",
    "print(ser)\n",
    "print(\"the series type is = \",type(ser))\n",
    "    "
   ]
  },
  {
   "cell_type": "code",
   "execution_count": 8,
   "id": "5b6f7351",
   "metadata": {},
   "outputs": [
    {
     "name": "stdout",
     "output_type": "stream",
     "text": [
      "a    25\n",
      "b    76\n",
      "c    45\n",
      "d    34\n",
      "e    45\n",
      "dtype: int64\n"
     ]
    }
   ],
   "source": [
    "#creating another series \n",
    "\n",
    "numbers=[25,76,45,34,45]\n",
    "index=['a','b','c','d','e']\n",
    "ser=pd.Series(numbers,index=index)\n",
    "print(ser)"
   ]
  },
  {
   "cell_type": "code",
   "execution_count": null,
   "id": "47651fd4",
   "metadata": {},
   "outputs": [],
   "source": [
    "\"\"\"\n",
    "Attributes and Methods:\n",
    "series.values: Returns the values of the Series as a NumPy array.\n",
    "series.index: Returns the index of the Series.\n",
    "series.dtype: Returns the data type of the values.\n",
    "series.head(n): Returns the first n elements.\n",
    "series.tail(n): Returns the last n elements.\n",
    "series.describe(): Generates descriptive statistics.\n",
    "\"\"\""
   ]
  },
  {
   "cell_type": "code",
   "execution_count": 14,
   "id": "1ddf3f39",
   "metadata": {},
   "outputs": [
    {
     "name": "stdout",
     "output_type": "stream",
     "text": [
      "data series are =  [25 76 45 34 45 55 67 89 56 43]\n",
      "data index are =  Index(['a', 'b', 'c', 'd', 'e', 'f', 'g', 'h', 'i', 'j'], dtype='object')\n",
      "data type is =  int64\n"
     ]
    }
   ],
   "source": [
    "\n",
    "numbers=[25,76,45,34,45,55,67,89,56,43]\n",
    "index=['a','b','c','d','e','f','g','h','i','j']\n",
    "ser=pd.Series(numbers,index=index)\n",
    "\n",
    "print(\"data series are = \",ser.values)\n",
    "print(\"data index are = \",ser.index)\n",
    "print(\"data type is = \",ser.dtype)"
   ]
  },
  {
   "cell_type": "code",
   "execution_count": 15,
   "id": "5fd462cc",
   "metadata": {},
   "outputs": [
    {
     "data": {
      "text/plain": [
       "a    25\n",
       "b    76\n",
       "c    45\n",
       "dtype: int64"
      ]
     },
     "execution_count": 15,
     "metadata": {},
     "output_type": "execute_result"
    }
   ],
   "source": [
    "ser.head(3)"
   ]
  },
  {
   "cell_type": "code",
   "execution_count": 16,
   "id": "8ebe0422",
   "metadata": {},
   "outputs": [
    {
     "data": {
      "text/plain": [
       "a    25\n",
       "b    76\n",
       "c    45\n",
       "d    34\n",
       "e    45\n",
       "dtype: int64"
      ]
     },
     "execution_count": 16,
     "metadata": {},
     "output_type": "execute_result"
    }
   ],
   "source": [
    "ser.head() #it will show first 5 records "
   ]
  },
  {
   "cell_type": "code",
   "execution_count": 17,
   "id": "d3f0c60b",
   "metadata": {},
   "outputs": [
    {
     "data": {
      "text/plain": [
       "h    89\n",
       "i    56\n",
       "j    43\n",
       "dtype: int64"
      ]
     },
     "execution_count": 17,
     "metadata": {},
     "output_type": "execute_result"
    }
   ],
   "source": [
    "n=3\n",
    "ser.tail(n) "
   ]
  },
  {
   "cell_type": "code",
   "execution_count": 18,
   "id": "72c07ac6",
   "metadata": {},
   "outputs": [
    {
     "data": {
      "text/plain": [
       "f    55\n",
       "g    67\n",
       "h    89\n",
       "i    56\n",
       "j    43\n",
       "dtype: int64"
      ]
     },
     "execution_count": 18,
     "metadata": {},
     "output_type": "execute_result"
    }
   ],
   "source": [
    "ser.tail() #it will show last 5 records "
   ]
  },
  {
   "cell_type": "code",
   "execution_count": 19,
   "id": "eb754dcb",
   "metadata": {},
   "outputs": [
    {
     "data": {
      "text/plain": [
       "count    10.000000\n",
       "mean     53.500000\n",
       "std      19.449364\n",
       "min      25.000000\n",
       "25%      43.500000\n",
       "50%      50.000000\n",
       "75%      64.250000\n",
       "max      89.000000\n",
       "dtype: float64"
      ]
     },
     "execution_count": 19,
     "metadata": {},
     "output_type": "execute_result"
    }
   ],
   "source": [
    "ser.describe() $decribes about data set "
   ]
  },
  {
   "cell_type": "code",
   "execution_count": null,
   "id": "3f0ffb8c",
   "metadata": {},
   "outputs": [],
   "source": [
    "#working with slicing and indexing on pandas series "
   ]
  },
  {
   "cell_type": "code",
   "execution_count": 30,
   "id": "c9b7519c",
   "metadata": {},
   "outputs": [
    {
     "name": "stdout",
     "output_type": "stream",
     "text": [
      "the 0th element is =  25\n",
      "the last element is =  89\n",
      "the last element is =  89\n",
      "the last element is =  89\n",
      "the 0th element is =  25\n",
      "the last element is =  89\n",
      "the second element is =  76\n"
     ]
    }
   ],
   "source": [
    "import pandas as pd \n",
    "numbers=[25,76,45,34,45,55,67,89,56,43,55,67,89,]\n",
    "index=['a','b','c','d','e','f','g','h','i','j',\"k\",\"l\",\"m\"]\n",
    "\n",
    "ser=pd.Series(numbers,index=index)\n",
    "\n",
    "#integer based slicing \n",
    "#print(\"the pandas series are = \",ser)\n",
    "print(\"the 0th element is = \",ser[0])\n",
    "\n",
    "print(\"the last element is = \",ser[len(ser)-1])\n",
    "print(\"the last element is = \",ser[-1])\n",
    "print(\"the last element is = \",ser[12])\n",
    "\n",
    "#Label-based Indexing:\n",
    "print(\"the 0th element is = \",ser['a'])\n",
    "print(\"the last element is = \",ser['m'])\n",
    "print(\"the second element is = \",ser['b'])"
   ]
  },
  {
   "cell_type": "code",
   "execution_count": 36,
   "id": "92e1c2e0",
   "metadata": {},
   "outputs": [
    {
     "name": "stdout",
     "output_type": "stream",
     "text": [
      "a    25\n",
      "b    76\n",
      "c    45\n",
      "d    34\n",
      "dtype: int64\n",
      "a    25\n",
      "b    76\n",
      "c    45\n",
      "dtype: int64\n"
     ]
    }
   ],
   "source": [
    "#slicing series[start:stop:step]\n",
    "print(ser[\"a\":\"d\"]) #d include and default step is 1\n",
    "print(ser[0:3]) #3 exclude and default step is 1\n"
   ]
  },
  {
   "cell_type": "code",
   "execution_count": 37,
   "id": "d9fbf136",
   "metadata": {},
   "outputs": [
    {
     "name": "stdout",
     "output_type": "stream",
     "text": [
      "a    25\n",
      "c    45\n",
      "dtype: int64\n",
      "a    25\n",
      "c    45\n",
      "dtype: int64\n"
     ]
    }
   ],
   "source": [
    "print(ser[\"a\":\"d\":2]) #d include and step is 2\n",
    "print(ser[0:3:2]) #3 exclude and step is 1"
   ]
  },
  {
   "cell_type": "code",
   "execution_count": 39,
   "id": "95b8b447",
   "metadata": {},
   "outputs": [
    {
     "name": "stdout",
     "output_type": "stream",
     "text": [
      "a    False\n",
      "b     True\n",
      "c    False\n",
      "d    False\n",
      "e    False\n",
      "f     True\n",
      "g     True\n",
      "h     True\n",
      "i     True\n",
      "j    False\n",
      "k     True\n",
      "l     True\n",
      "m     True\n",
      "dtype: bool\n",
      "b    76\n",
      "f    55\n",
      "g    67\n",
      "h    89\n",
      "i    56\n",
      "k    55\n",
      "l    67\n",
      "m    89\n",
      "dtype: int64\n"
     ]
    }
   ],
   "source": [
    "#boolean indexing \n",
    "bool_data=ser>=50 #it will create boolean series\n",
    "print(bool_data)\n",
    "print(ser[bool_data]) #it prints value more or equl to 50 "
   ]
  },
  {
   "cell_type": "code",
   "execution_count": 40,
   "id": "ecf47e27",
   "metadata": {},
   "outputs": [
    {
     "name": "stdout",
     "output_type": "stream",
     "text": [
      "b    76\n",
      "h    89\n",
      "m    89\n",
      "dtype: int64\n"
     ]
    }
   ],
   "source": [
    "print(ser[ser>70])"
   ]
  },
  {
   "cell_type": "code",
   "execution_count": 41,
   "id": "cb05b067",
   "metadata": {},
   "outputs": [
    {
     "name": "stdout",
     "output_type": "stream",
     "text": [
      "a    25\n",
      "c    45\n",
      "d    34\n",
      "e    45\n",
      "dtype: int64\n"
     ]
    }
   ],
   "source": [
    "#fancy indexing \n",
    "print(ser[[\"a\",\"c\",\"d\",\"e\"]])"
   ]
  },
  {
   "cell_type": "code",
   "execution_count": 43,
   "id": "9a8e5a05",
   "metadata": {},
   "outputs": [
    {
     "name": "stdout",
     "output_type": "stream",
     "text": [
      "m    89\n",
      "a    25\n",
      "c    45\n",
      "d    34\n",
      "e    45\n",
      "e    45\n",
      "e    45\n",
      "dtype: int64\n"
     ]
    }
   ],
   "source": [
    "#fancy indexing \n",
    "print(ser[['m',\"a\",\"c\",\"d\",\"e\",'e','e']])"
   ]
  },
  {
   "cell_type": "code",
   "execution_count": 48,
   "id": "a4e50ce3",
   "metadata": {},
   "outputs": [
    {
     "name": "stdout",
     "output_type": "stream",
     "text": [
      "0th value is = 25\n",
      "0th value is = 25\n",
      "last value is = 89\n",
      "last value is = 89\n"
     ]
    }
   ],
   "source": [
    "# Indexing with iloc and loc:\n",
    "import pandas as pd \n",
    "numbers=[25,76,45,34,45,55,67,89,56,43,55,67,89,]\n",
    "index=['a','b','c','d','e','f','g','h','i','j',\"k\",\"l\",\"m\"]\n",
    "\n",
    "data_ser=pd.Series(numbers,index=index)\n",
    "print(\"0th value is =\",data_ser.iloc[0]) #implicit index\n",
    "print(\"0th value is =\",data_ser.loc['a'])#explicit index\n",
    "\n",
    "print(\"last value is =\",data_ser.iloc[12])\n",
    "print(\"last value is =\",data_ser.loc['m'])\n"
   ]
  },
  {
   "cell_type": "code",
   "execution_count": 52,
   "id": "99fa42a1",
   "metadata": {},
   "outputs": [
    {
     "name": "stdout",
     "output_type": "stream",
     "text": [
      "a    25\n",
      "b    76\n",
      "c    45\n",
      "d    34\n",
      "e    45\n",
      "f    55\n",
      "g    67\n",
      "h    89\n",
      "i    56\n",
      "j    43\n",
      "k    55\n",
      "l    67\n",
      "m    89\n",
      "dtype: int64\n",
      "0     25\n",
      "1     76\n",
      "2     45\n",
      "3     34\n",
      "4     45\n",
      "5     55\n",
      "6     67\n",
      "7     89\n",
      "8     56\n",
      "9     43\n",
      "10    55\n",
      "11    67\n",
      "12    89\n",
      "dtype: int64\n"
     ]
    }
   ],
   "source": [
    "#Setting and Resetting Index:\n",
    "\n",
    "import pandas as pd \n",
    "numbers=[25,76,45,34,45,55,67,89,56,43,55,67,89,]\n",
    "index=['a','b','c','d','e','f','g','h','i','j',\"k\",\"l\",\"m\"]\n",
    "\n",
    "s=pd.Series(numbers,index=index)\n",
    "print(s)\n",
    "s.reset_index(drop=True, inplace=True) #resetting the index \n",
    "print(s)"
   ]
  },
  {
   "cell_type": "code",
   "execution_count": 60,
   "id": "f16fce05",
   "metadata": {},
   "outputs": [
    {
     "name": "stdout",
     "output_type": "stream",
     "text": [
      "the addition result\n",
      " 0     9\n",
      "1    19\n",
      "2    27\n",
      "3    24\n",
      "dtype: int64\n",
      "the subtraction result\n",
      " 0    -1\n",
      "1     7\n",
      "2    13\n",
      "3     8\n",
      "dtype: int64\n",
      "the multiplication result\n",
      " 0     20\n",
      "1     78\n",
      "2    140\n",
      "3    128\n",
      "dtype: int64\n",
      "the division result\n",
      " 0    0.800000\n",
      "1    2.166667\n",
      "2    2.857143\n",
      "3    2.000000\n",
      "dtype: float64\n",
      "the floor division result\n",
      " 0    0\n",
      "1    2\n",
      "2    2\n",
      "3    2\n",
      "dtype: int64\n"
     ]
    }
   ],
   "source": [
    "#arithmatic operations on pandas series \n",
    "import pandas as pd\n",
    "\n",
    "series1 = pd.Series([4, 13, 20, 16])\n",
    "series2 = pd.Series([5, 6, 7, 8])\n",
    "\n",
    "# Addition\n",
    "result = series1 + series2\n",
    "print(\"the addition result\\n\",result)\n",
    "\n",
    "# Subtraction\n",
    "result = series1 - series2\n",
    "print(\"the subtraction result\\n\",result)\n",
    "# Multiplication\n",
    "result = series1 * series2\n",
    "print(\"the multiplication result\\n\",result)\n",
    "\n",
    "# Division\n",
    "result = series1 / series2\n",
    "print(\"the division result\\n\",result)\n",
    "\n",
    "# floor Division\n",
    "result = series1 // series2\n",
    "print(\"the floor division result\\n\",result)\n"
   ]
  },
  {
   "cell_type": "code",
   "execution_count": 61,
   "id": "af7b6d1f",
   "metadata": {},
   "outputs": [
    {
     "name": "stdout",
     "output_type": "stream",
     "text": [
      "the modulation result\n",
      " 0    4\n",
      "1    1\n",
      "2    6\n",
      "3    0\n",
      "dtype: int64\n"
     ]
    }
   ],
   "source": [
    "# floor Division\n",
    "result = series1 % series2\n",
    "print(\"the modulation result\\n\",result)"
   ]
  },
  {
   "cell_type": "code",
   "execution_count": 62,
   "id": "d73376ec",
   "metadata": {},
   "outputs": [
    {
     "name": "stdout",
     "output_type": "stream",
     "text": [
      "the floor division result\n",
      " 0          1024\n",
      "1       4826809\n",
      "2    1280000000\n",
      "3    4294967296\n",
      "dtype: int64\n"
     ]
    }
   ],
   "source": [
    "# exponential result\n",
    "result = series1 ** series2\n",
    "print(\"the floor division result\\n\",result)"
   ]
  },
  {
   "cell_type": "code",
   "execution_count": 68,
   "id": "78eb3666",
   "metadata": {},
   "outputs": [
    {
     "name": "stdout",
     "output_type": "stream",
     "text": [
      "the total of the series =  30\n",
      "the avg of the series =  7.5\n",
      "the maximum value of the series =  16\n",
      "the min value of the series =  2\n",
      "the min value of the series =  6.0\n",
      "the min value of the series =  6.191391873668904\n"
     ]
    }
   ],
   "source": [
    "#aggregate function \n",
    "#mean(), median(), std(), sum(), min(), max()\n",
    "import pandas as pd\n",
    "\n",
    "series = pd.Series([2, 8, 16, 4])\n",
    "# Sum\n",
    "total = series.sum()\n",
    "print(\"the total of the series = \",total)\n",
    "# Mean\n",
    "average = series.mean()\n",
    "print(\"the avg of the series = \",average)\n",
    "# Maximum\n",
    "maximum_value = series.max()\n",
    "print(\"the maximum value of the series = \",maximum_value)\n",
    "# Minimum\n",
    "minimum_value = series.min()\n",
    "print(\"the min value of the series = \",minimum_value)\n",
    "\n",
    "# Median\n",
    "median_value = series.median()\n",
    "print(\"the median value of the series = \",median_value)\n",
    "\n",
    "# std\n",
    "std_value = series.std()\n",
    "print(\"the std value of the series = \",std_value)"
   ]
  },
  {
   "cell_type": "code",
   "execution_count": 71,
   "id": "a51223cf",
   "metadata": {},
   "outputs": [
    {
     "name": "stdout",
     "output_type": "stream",
     "text": [
      "0    21.0\n",
      "1    23.0\n",
      "2    55.0\n",
      "3    67.0\n",
      "4     NaN\n",
      "5    99.0\n",
      "6    23.0\n",
      "7     NaN\n",
      "8     NaN\n",
      "dtype: float64\n",
      "0    21.0\n",
      "1    23.0\n",
      "2    55.0\n",
      "3    67.0\n",
      "5    99.0\n",
      "6    23.0\n",
      "dtype: float64\n",
      "0    21.0\n",
      "1    23.0\n",
      "2    55.0\n",
      "3    67.0\n",
      "4    99.0\n",
      "5    99.0\n",
      "6    23.0\n",
      "7    99.0\n",
      "8    99.0\n",
      "dtype: float64\n"
     ]
    }
   ],
   "source": [
    "\"\"\"\n",
    "Handling Missing Data:\n",
    "find series.isnull() to find null values \n",
    "Methods like series.dropna() and series.fillna(value) are used to handle missing data.\n",
    "\"\"\"\n",
    "import numpy as np \n",
    "import pandas as pd \n",
    "\n",
    "data=pd.Series([21,23,55,67,np.nan,99,23,np.nan,np.nan])\n",
    "print(data)\n",
    "\n",
    "new_data=data.dropna()\n",
    "print(new_data)\n",
    "\n",
    "new_data=data.fillna(data.max())\n",
    "print(new_data)"
   ]
  },
  {
   "cell_type": "code",
   "execution_count": 72,
   "id": "402e517f",
   "metadata": {},
   "outputs": [
    {
     "name": "stdout",
     "output_type": "stream",
     "text": [
      "0    21.0\n",
      "1    23.0\n",
      "2    55.0\n",
      "3    67.0\n",
      "4    22.0\n",
      "5    99.0\n",
      "6    23.0\n",
      "7    22.0\n",
      "8    22.0\n",
      "dtype: float64\n"
     ]
    }
   ],
   "source": [
    "\n",
    "new_data=data.fillna(22)\n",
    "print(new_data)"
   ]
  },
  {
   "cell_type": "code",
   "execution_count": 9,
   "id": "3bec882d",
   "metadata": {},
   "outputs": [
    {
     "name": "stdout",
     "output_type": "stream",
     "text": [
      "0    1.0\n",
      "1    2.0\n",
      "2    NaN\n",
      "3    4.0\n",
      "dtype: float64\n",
      "0    False\n",
      "1    False\n",
      "2     True\n",
      "3    False\n",
      "dtype: bool\n",
      "2   NaN\n",
      "dtype: float64\n"
     ]
    }
   ],
   "source": [
    "import pandas as pd\n",
    "# Create a DataFrame with missing values\n",
    "data = [1, 2, None, 4]\n",
    "df = pd.Series(data)\n",
    "print(df)\n",
    "\n",
    "# Identify missing values\n",
    "print(df.isnull())\n",
    "\n",
    "print(df[df.isnull()])"
   ]
  },
  {
   "cell_type": "code",
   "execution_count": 11,
   "id": "b0608882",
   "metadata": {},
   "outputs": [
    {
     "name": "stdout",
     "output_type": "stream",
     "text": [
      "the series is \n",
      " c    3\n",
      "a    1\n",
      "b    2\n",
      "dtype: int64\n",
      "the series with sorting is \n",
      " a    1\n",
      "b    2\n",
      "c    3\n",
      "dtype: int64\n"
     ]
    }
   ],
   "source": [
    "##working with sortings \n",
    "import pandas as pd\n",
    "\n",
    "s = pd.Series([3, 1, 2], index=['c', 'a', 'b'])\n",
    "print(\"the series is \\n\",s)\n",
    "sorted_by_index = s.sort_index()\n",
    "print(\"the series with sorting is \\n\",sorted_by_index)"
   ]
  },
  {
   "cell_type": "code",
   "execution_count": 12,
   "id": "ed30b9b0",
   "metadata": {},
   "outputs": [
    {
     "name": "stdout",
     "output_type": "stream",
     "text": [
      "c    3\n",
      "b    2\n",
      "a    1\n",
      "dtype: int64\n"
     ]
    }
   ],
   "source": [
    "sorted_descending = s.sort_index(ascending=False)\n",
    "print(sorted_descending)"
   ]
  },
  {
   "cell_type": "code",
   "execution_count": 13,
   "id": "9e67a13c",
   "metadata": {},
   "outputs": [
    {
     "name": "stdout",
     "output_type": "stream",
     "text": [
      "a    1\n",
      "b    2\n",
      "c    3\n",
      "dtype: int64\n"
     ]
    }
   ],
   "source": [
    "sorted_by_values = s.sort_values()\n",
    "print(sorted_by_values)"
   ]
  },
  {
   "cell_type": "code",
   "execution_count": 14,
   "id": "22edc444",
   "metadata": {},
   "outputs": [
    {
     "name": "stdout",
     "output_type": "stream",
     "text": [
      "c    3\n",
      "b    2\n",
      "a    1\n",
      "dtype: int64\n"
     ]
    }
   ],
   "source": [
    "sorted_by_values = s.sort_values(ascending=False)\n",
    "print(sorted_by_values)"
   ]
  },
  {
   "cell_type": "code",
   "execution_count": 15,
   "id": "bea834b3",
   "metadata": {},
   "outputs": [
    {
     "name": "stdout",
     "output_type": "stream",
     "text": [
      "a    1.0\n",
      "b    2.0\n",
      "c    3.0\n",
      "d    NaN\n",
      "dtype: float64\n"
     ]
    }
   ],
   "source": [
    "s_with_nan = pd.Series([3, 1, np.nan, 2], index=['c', 'a', 'd', 'b'])\n",
    "sorted_with_nan = s_with_nan.sort_index()\n",
    "print(sorted_with_nan)"
   ]
  },
  {
   "cell_type": "code",
   "execution_count": 19,
   "id": "cf9d556d",
   "metadata": {},
   "outputs": [
    {
     "data": {
      "text/plain": [
       "d    NaN\n",
       "a    1.0\n",
       "b    2.0\n",
       "c    3.0\n",
       "dtype: float64"
      ]
     },
     "execution_count": 19,
     "metadata": {},
     "output_type": "execute_result"
    }
   ],
   "source": [
    "sorted_nan_first = s_with_nan.sort_values(na_position='first')\n",
    "sorted_nan_first"
   ]
  },
  {
   "cell_type": "code",
   "execution_count": 20,
   "id": "64cbd576",
   "metadata": {},
   "outputs": [
    {
     "data": {
      "text/plain": [
       "a    1.0\n",
       "b    2.0\n",
       "c    3.0\n",
       "d    NaN\n",
       "dtype: float64"
      ]
     },
     "execution_count": 20,
     "metadata": {},
     "output_type": "execute_result"
    }
   ],
   "source": [
    "sorted_nan_first = s_with_nan.sort_values(na_position='last')\n",
    "sorted_nan_first"
   ]
  },
  {
   "cell_type": "code",
   "execution_count": 24,
   "id": "7b50dcb3",
   "metadata": {},
   "outputs": [
    {
     "name": "stdout",
     "output_type": "stream",
     "text": [
      "Original Series:\n",
      "0    10\n",
      "1    20\n",
      "2    15\n",
      "3    25\n",
      "4    20\n",
      "Name: A, dtype: int64\n",
      "\n",
      "Ranked Series:\n",
      "0    1.0\n",
      "1    3.5\n",
      "2    2.0\n",
      "3    5.0\n",
      "4    3.5\n",
      "Name: A, dtype: float64\n"
     ]
    }
   ],
   "source": [
    "#rank and Unique Values and Value Counts:\n",
    "import pandas as pd\n",
    "\n",
    "# Create a sample Series\n",
    "data = pd.Series([10, 20, 15, 25, 20], name='A')\n",
    "\n",
    "# Apply rank() to the Series\n",
    "#now data arrange in ascending order here [10,15,20,20,25] nad rank is [1,2,3,5] now appiled to  matrix [1,3.5,2,5,3.5]\n",
    "#three is 2 places so divided \n",
    "ranked_series = data.rank()\n",
    "\n",
    "# Display the original Series and the ranked Series\n",
    "print(\"Original Series:\")\n",
    "print(data)\n",
    "\n",
    "print(\"\\nRanked Series:\")\n",
    "print(ranked_series)"
   ]
  },
  {
   "cell_type": "code",
   "execution_count": 25,
   "id": "877b2d81",
   "metadata": {},
   "outputs": [
    {
     "name": "stdout",
     "output_type": "stream",
     "text": [
      "0     21\n",
      "1     21\n",
      "2     34\n",
      "3     35\n",
      "4     35\n",
      "5     67\n",
      "6     35\n",
      "7     23\n",
      "8     46\n",
      "9     45\n",
      "10    46\n",
      "11    46\n",
      "dtype: int64\n",
      "[21 34 35 67 23 46 45]\n",
      "35    3\n",
      "46    3\n",
      "21    2\n",
      "34    1\n",
      "67    1\n",
      "23    1\n",
      "45    1\n",
      "Name: count, dtype: int64\n"
     ]
    }
   ],
   "source": [
    "import pandas as pd \n",
    "s=pd.Series([21,21,34,35,35,67,35,23,46,45,46,46])\n",
    "print(s)\n",
    "unique_values = s.unique() #getting the unique values from series \n",
    "print(unique_values)\n",
    "value_counts = s.value_counts() #getiing numbers of times values present in series\n",
    "print(value_counts)"
   ]
  },
  {
   "cell_type": "code",
   "execution_count": 26,
   "id": "18752170",
   "metadata": {},
   "outputs": [
    {
     "name": "stdout",
     "output_type": "stream",
     "text": [
      "0     1\n",
      "1     3\n",
      "2     6\n",
      "3    10\n",
      "4    15\n",
      "dtype: int64\n"
     ]
    }
   ],
   "source": [
    "\"\"\"\n",
    "cumulative operation on pandas series \n",
    "series.cumsum(), series.cumprod(), series.cummax(), and series.cummin()\n",
    " \n",
    "\"\"\"\n",
    "import pandas as pd\n",
    "\n",
    "# Create a sample Series\n",
    "data = [1, 2, 3, 4, 5]\n",
    "series = pd.Series(data)\n",
    "\n",
    "# Calculate cumulative sum\n",
    "cumulative_sum = series.cumsum()\n",
    "print(cumulative_sum)"
   ]
  },
  {
   "cell_type": "code",
   "execution_count": 27,
   "id": "05b415c9",
   "metadata": {},
   "outputs": [
    {
     "name": "stdout",
     "output_type": "stream",
     "text": [
      "0      1\n",
      "1      2\n",
      "2      6\n",
      "3     24\n",
      "4    120\n",
      "dtype: int64\n"
     ]
    }
   ],
   "source": [
    "import pandas as pd\n",
    "\n",
    "# Create a sample Series\n",
    "data = [1, 2, 3, 4, 5]\n",
    "series = pd.Series(data)\n",
    "\n",
    "# Calculate cumulative product\n",
    "cumulative_product = series.cumprod()\n",
    "print(cumulative_product)"
   ]
  },
  {
   "cell_type": "code",
   "execution_count": 28,
   "id": "0c3592a6",
   "metadata": {},
   "outputs": [
    {
     "name": "stdout",
     "output_type": "stream",
     "text": [
      "0    1\n",
      "1    4\n",
      "2    4\n",
      "3    7\n",
      "4    7\n",
      "dtype: int64\n"
     ]
    }
   ],
   "source": [
    "import pandas as pd\n",
    "\n",
    "# Create a sample Series\n",
    "data = [1, 4, 2, 7, 3]\n",
    "series = pd.Series(data)\n",
    "\n",
    "# Calculate cumulative maximum\n",
    "cumulative_max = series.cummax()\n",
    "print(cumulative_max)"
   ]
  },
  {
   "cell_type": "code",
   "execution_count": 29,
   "id": "4b7d7b59",
   "metadata": {},
   "outputs": [
    {
     "name": "stdout",
     "output_type": "stream",
     "text": [
      "0    5\n",
      "1    3\n",
      "2    3\n",
      "3    2\n",
      "4    2\n",
      "dtype: int64\n"
     ]
    }
   ],
   "source": [
    "import pandas as pd\n",
    "\n",
    "# Create a sample Series\n",
    "data = [5, 3, 8, 2, 6]\n",
    "series = pd.Series(data)\n",
    "\n",
    "# Calculate cumulative minimum\n",
    "cumulative_min = series.cummin()\n",
    "print(cumulative_min)"
   ]
  },
  {
   "cell_type": "code",
   "execution_count": 31,
   "id": "4015b25f",
   "metadata": {},
   "outputs": [
    {
     "name": "stdout",
     "output_type": "stream",
     "text": [
      "0    1\n",
      "1    1\n",
      "2    2\n",
      "3    1\n",
      "4    3\n",
      "5    4\n",
      "6    2\n",
      "7    5\n",
      "dtype: int64\n",
      "A    5\n",
      "B    2\n",
      "C    1\n",
      "Name: count, dtype: int64\n"
     ]
    }
   ],
   "source": [
    "#cumalative process of count particular event \n",
    "import pandas as pd\n",
    "\n",
    "# Create a sample Series\n",
    "data = ['A', 'B', 'A', 'C', 'A', 'A', 'B', 'A']\n",
    "\n",
    "series = pd.Series(data)\n",
    "\n",
    "# Calculate cumulative count\n",
    "cumulative_count = series.groupby(series).cumcount() + 1\n",
    "print(cumulative_count)\n",
    "\n",
    "#print\n",
    "# Print the count of each unique element\n",
    "unique_counts = series.value_counts()\n",
    "print(unique_counts)\n"
   ]
  },
  {
   "cell_type": "markdown",
   "id": "a91e7ad8",
   "metadata": {},
   "source": [
    "### string operations on pandas series "
   ]
  },
  {
   "cell_type": "code",
   "execution_count": 55,
   "id": "178668c0",
   "metadata": {},
   "outputs": [
    {
     "name": "stdout",
     "output_type": "stream",
     "text": [
      "0    hellowelcome\n",
      "1     worldPandas\n",
      "dtype: object\n",
      "0    hello welcome\n",
      "1     world Pandas\n",
      "dtype: object\n"
     ]
    }
   ],
   "source": [
    "\"\"\"\n",
    "series.str.cat(s2,sep=\" \")\n",
    "series.str.len()\n",
    "series.str.upper()\n",
    "series.str.lower()\n",
    "series.str.contains('an') #returns boolean array\n",
    "s.str.slice(0, 2)\n",
    "str.extract()\n",
    "s.str.replace('a', 'X')\n",
    "s.str.strip()\n",
    "s.str.split()\n",
    "s.str.count('a')\n",
    "s.str.startswith('a') #return boolean array\n",
    "s.str.endsswith('a') #return with boolean array \n",
    "s.str.title()\n",
    "\n",
    "\"\"\"\n",
    "\n",
    "import pandas as pd\n",
    "\n",
    "# Creating two Series\n",
    "s1 = pd.Series(['hello', 'world'])\n",
    "s2 = pd.Series(['welcome', 'Pandas'])\n",
    "\n",
    "# Concatenation using +\n",
    "result = s1 + s2\n",
    "print(result)\n",
    "\n",
    "# Concatenation using .str.cat()\n",
    "result_cat = s1.str.cat(s2, sep=' ')\n",
    "print(result_cat)\n"
   ]
  },
  {
   "cell_type": "code",
   "execution_count": 35,
   "id": "3a3fb9e4",
   "metadata": {},
   "outputs": [
    {
     "name": "stdout",
     "output_type": "stream",
     "text": [
      "0    5\n",
      "1    6\n",
      "2    6\n",
      "dtype: int64\n"
     ]
    }
   ],
   "source": [
    "import pandas as pd\n",
    "\n",
    "s = pd.Series(['apple', 'banana', 'cherry'])\n",
    "\n",
    "# String length\n",
    "length = s.str.len()\n",
    "print(length)"
   ]
  },
  {
   "cell_type": "code",
   "execution_count": 36,
   "id": "8dd1455d",
   "metadata": {},
   "outputs": [
    {
     "name": "stdout",
     "output_type": "stream",
     "text": [
      "0     APPLE\n",
      "1    BANANA\n",
      "2    CHERRY\n",
      "dtype: object\n",
      "0     apple\n",
      "1    banana\n",
      "2    cherry\n",
      "dtype: object\n"
     ]
    }
   ],
   "source": [
    "import pandas as pd\n",
    "\n",
    "s = pd.Series(['apple', 'banana', 'cherry'])\n",
    "\n",
    "# Uppercase\n",
    "uppercase = s.str.upper()\n",
    "print(uppercase)\n",
    "\n",
    "# Lowercase\n",
    "lowercase = s.str.lower()\n",
    "print(lowercase)"
   ]
  },
  {
   "cell_type": "code",
   "execution_count": 45,
   "id": "574ea9a2",
   "metadata": {},
   "outputs": [
    {
     "name": "stdout",
     "output_type": "stream",
     "text": [
      "0    False\n",
      "1     True\n",
      "2    False\n",
      "dtype: bool\n"
     ]
    }
   ],
   "source": [
    "import pandas as pd\n",
    "\n",
    "s = pd.Series(['apple', 'banana', 'cherry'])\n",
    "\n",
    "# Check if 'an' is present in each string\n",
    "contains_an = s.str.contains('an')\n",
    "print(contains_an)"
   ]
  },
  {
   "cell_type": "code",
   "execution_count": 41,
   "id": "1c251805",
   "metadata": {},
   "outputs": [
    {
     "name": "stdout",
     "output_type": "stream",
     "text": [
      "0    ap\n",
      "1    ba\n",
      "2    ch\n",
      "dtype: object\n"
     ]
    }
   ],
   "source": [
    "import pandas as pd\n",
    "\n",
    "s = pd.Series(['apple', 'banana', 'cherry'])\n",
    "\n",
    "# Extract the first two characters\n",
    "extracted = s.str.slice(0, 2)\n",
    "print(extracted)\n"
   ]
  },
  {
   "cell_type": "code",
   "execution_count": 42,
   "id": "54339191",
   "metadata": {},
   "outputs": [
    {
     "name": "stdout",
     "output_type": "stream",
     "text": [
      "  Day Month  Year\n",
      "0  01    05  2022\n",
      "1  15    09  2023\n",
      "2  28    12  2024\n"
     ]
    }
   ],
   "source": [
    "#date and time arrangements \n",
    "import pandas as pd\n",
    "\n",
    "# Creating a Series with date strings\n",
    "date_series = pd.Series(['01-05-2022', '15-09-2023', '28-12-2024'])\n",
    "\n",
    "# Using .str.extract() with a regular expression to extract day, month, and year\n",
    "date_extracted = date_series.str.extract(r'(?P<Day>\\d{2})-(?P<Month>\\d{2})-(?P<Year>\\d{4})')\n",
    "\n",
    "# Displaying the result\n",
    "print(date_extracted)\n"
   ]
  },
  {
   "cell_type": "code",
   "execution_count": 44,
   "id": "b914cc11",
   "metadata": {},
   "outputs": [
    {
     "name": "stdout",
     "output_type": "stream",
     "text": [
      "0     Xpple\n",
      "1    bXnXnX\n",
      "2    cherry\n",
      "dtype: object\n"
     ]
    }
   ],
   "source": [
    "#replace \n",
    "import pandas as pd\n",
    "\n",
    "s = pd.Series(['apple', 'banana', 'cherry'])\n",
    "\n",
    "# Replace 'a' with 'X'\n",
    "replaced = s.str.replace('a', 'X')\n",
    "print(replaced)\n"
   ]
  },
  {
   "cell_type": "code",
   "execution_count": 50,
   "id": "dd7a74ff",
   "metadata": {},
   "outputs": [
    {
     "name": "stdout",
     "output_type": "stream",
     "text": [
      "0     apple\n",
      "1    banana\n",
      "2    cherry\n",
      "dtype: object\n"
     ]
    }
   ],
   "source": [
    "#strip white space \n",
    "import pandas as pd\n",
    "\n",
    "s = pd.Series(['  apple  ', ' banana ', '            cherry        '])\n",
    "\n",
    "# Strip whitespace\n",
    "stripped = s.str.strip()\n",
    "print(stripped)\n"
   ]
  },
  {
   "cell_type": "code",
   "execution_count": 51,
   "id": "31281bc5",
   "metadata": {},
   "outputs": [
    {
     "name": "stdout",
     "output_type": "stream",
     "text": [
      "0    [apple, orange]\n",
      "1    [banana, grape]\n",
      "2    [cherry, lemon]\n",
      "dtype: object\n"
     ]
    }
   ],
   "source": [
    "import pandas as pd\n",
    "\n",
    "s = pd.Series(['apple orange', 'banana grape', 'cherry lemon'])\n",
    "\n",
    "# Split each string\n",
    "split_result = s.str.split()\n",
    "print(split_result)\n"
   ]
  },
  {
   "cell_type": "code",
   "execution_count": 52,
   "id": "7265c778",
   "metadata": {},
   "outputs": [
    {
     "name": "stdout",
     "output_type": "stream",
     "text": [
      "0    1\n",
      "1    3\n",
      "2    0\n",
      "dtype: int64\n"
     ]
    }
   ],
   "source": [
    "import pandas as pd\n",
    "\n",
    "s = pd.Series(['apple', 'banana', 'cherry'])\n",
    "\n",
    "# Count occurrences of 'a'\n",
    "count_a = s.str.count('a')\n",
    "print(count_a)\n"
   ]
  },
  {
   "cell_type": "code",
   "execution_count": 53,
   "id": "d9f4da68",
   "metadata": {},
   "outputs": [
    {
     "name": "stdout",
     "output_type": "stream",
     "text": [
      "0     True\n",
      "1    False\n",
      "2    False\n",
      "dtype: bool\n",
      "0    False\n",
      "1    False\n",
      "2     True\n",
      "dtype: bool\n"
     ]
    }
   ],
   "source": [
    "import pandas as pd\n",
    "\n",
    "s = pd.Series(['apple', 'banana', 'cherry'])\n",
    "\n",
    "# Check if each string starts with 'a'\n",
    "starts_with_a = s.str.startswith('a')\n",
    "print(starts_with_a)\n",
    "\n",
    "# Check if each string ends with 'y'\n",
    "ends_with_y = s.str.endswith('y')\n",
    "print(ends_with_y)\n"
   ]
  },
  {
   "cell_type": "code",
   "execution_count": 54,
   "id": "deb304b9",
   "metadata": {},
   "outputs": [
    {
     "name": "stdout",
     "output_type": "stream",
     "text": [
      "0       Apple Pie\n",
      "1    Banana Split\n",
      "2     Cherry Tart\n",
      "dtype: object\n"
     ]
    }
   ],
   "source": [
    "import pandas as pd\n",
    "\n",
    "s = pd.Series(['apple pie', 'banana split', 'cherry tart'])\n",
    "\n",
    "# Convert to title case\n",
    "title_case = s.str.title()\n",
    "print(title_case)\n"
   ]
  },
  {
   "cell_type": "code",
   "execution_count": 56,
   "id": "f993e46f",
   "metadata": {},
   "outputs": [
    {
     "name": "stdout",
     "output_type": "stream",
     "text": [
      "0    orange\n",
      "1     grape\n",
      "2    cherry\n",
      "dtype: object\n"
     ]
    }
   ],
   "source": [
    "import pandas as pd\n",
    "\n",
    "s = pd.Series(['apple', 'banana', 'cherry'])\n",
    "\n",
    "# Replace using a dictionary\n",
    "replace_dict = {'apple': 'orange', 'banana': 'grape'}\n",
    "replaced = s.replace(replace_dict)\n",
    "print(replaced)\n"
   ]
  },
  {
   "cell_type": "code",
   "execution_count": 60,
   "id": "df3dcb0b",
   "metadata": {},
   "outputs": [
    {
     "name": "stdout",
     "output_type": "stream",
     "text": [
      "apple,banana,cherry\n",
      "apple-banana-cherry\n",
      "apple banana cherry\n",
      "apple+banana+cherry\n"
     ]
    }
   ],
   "source": [
    "import pandas as pd\n",
    "\n",
    "s = pd.Series(['apple', 'banana', 'cherry'])\n",
    "\n",
    "# Join strings with comma\n",
    "joined = ','.join(s)\n",
    "print(joined)\n",
    "\n",
    "joined = '-'.join(s)\n",
    "print(joined)\n",
    "\n",
    "joined = ' '.join(s)\n",
    "print(joined)\n",
    "\n",
    "joined = '+'.join(s)\n",
    "print(joined)"
   ]
  },
  {
   "cell_type": "code",
   "execution_count": 61,
   "id": "e723345f",
   "metadata": {},
   "outputs": [
    {
     "name": "stdout",
     "output_type": "stream",
     "text": [
      "0     True\n",
      "1    False\n",
      "2    False\n",
      "dtype: bool\n",
      "0    False\n",
      "1     True\n",
      "2    False\n",
      "dtype: bool\n"
     ]
    }
   ],
   "source": [
    "import pandas as pd\n",
    "\n",
    "s = pd.Series(['123', 'abc', '456def'])\n",
    "\n",
    "# Check if each string is numeric\n",
    "is_numeric = s.str.isnumeric()\n",
    "print(is_numeric)\n",
    "\n",
    "# Check if each string is alphabetic\n",
    "is_alpha = s.str.isalpha()\n",
    "print(is_alpha)\n"
   ]
  },
  {
   "cell_type": "code",
   "execution_count": 62,
   "id": "c373447b",
   "metadata": {},
   "outputs": [
    {
     "name": "stdout",
     "output_type": "stream",
     "text": [
      "0    apple-----\n",
      "1    banana----\n",
      "2    cherry----\n",
      "dtype: object\n"
     ]
    }
   ],
   "source": [
    "import pandas as pd\n",
    "\n",
    "s = pd.Series(['apple', 'banana', 'cherry'])\n",
    "\n",
    "# Pad each string with '-' to a width of 10\n",
    "padded = s.str.pad(width=10, side='right', fillchar='-')\n",
    "print(padded)\n"
   ]
  },
  {
   "cell_type": "code",
   "execution_count": 63,
   "id": "5b269893",
   "metadata": {},
   "outputs": [
    {
     "name": "stdout",
     "output_type": "stream",
     "text": [
      "0    False\n",
      "1    False\n",
      "2     True\n",
      "dtype: bool\n",
      "     0\n",
      "0  NaN\n",
      "1  NaN\n",
      "2  123\n"
     ]
    }
   ],
   "source": [
    "import pandas as pd\n",
    "\n",
    "s = pd.Series(['apple', 'banana', 'cherry123'])\n",
    "\n",
    "# Check if each string contains a digit\n",
    "contains_digit = s.str.contains(r'\\d')\n",
    "print(contains_digit)\n",
    "\n",
    "# Extract numeric part from each string\n",
    "numeric_part = s.str.extract(r'(\\d+)')\n",
    "print(numeric_part)\n"
   ]
  },
  {
   "cell_type": "code",
   "execution_count": 64,
   "id": "6a4b0868",
   "metadata": {},
   "outputs": [
    {
     "name": "stdout",
     "output_type": "stream",
     "text": [
      "0    False\n",
      "1    False\n",
      "2    False\n",
      "3     True\n",
      "dtype: bool\n",
      "0    False\n",
      "1    False\n",
      "2    False\n",
      "3     None\n",
      "dtype: object\n"
     ]
    }
   ],
   "source": [
    "import pandas as pd\n",
    "\n",
    "s = pd.Series(['apple', '', 'cherry', None])\n",
    "\n",
    "# Check for null values\n",
    "is_null = s.isnull()\n",
    "print(is_null)\n",
    "\n",
    "# Check for empty strings\n",
    "is_empty = s.str.isspace()\n",
    "print(is_empty)\n"
   ]
  },
  {
   "cell_type": "code",
   "execution_count": 65,
   "id": "aa9f21a0",
   "metadata": {},
   "outputs": [
    {
     "name": "stdout",
     "output_type": "stream",
     "text": [
      "0    apple     \n",
      "1    banana    \n",
      "2    cherry    \n",
      "dtype: object\n",
      "0         apple\n",
      "1        banana\n",
      "2        cherry\n",
      "dtype: object\n",
      "0      apple   \n",
      "1      banana  \n",
      "2      cherry  \n",
      "dtype: object\n"
     ]
    }
   ],
   "source": [
    "import pandas as pd\n",
    "\n",
    "s = pd.Series(['apple', 'banana', 'cherry'])\n",
    "\n",
    "# Left align strings to a width of 10\n",
    "left_aligned = s.str.ljust(10)\n",
    "print(left_aligned)\n",
    "\n",
    "# Right align strings to a width of 10\n",
    "right_aligned = s.str.rjust(10)\n",
    "print(right_aligned)\n",
    "\n",
    "# Center align strings to a width of 10\n",
    "center_aligned = s.str.center(10)\n",
    "print(center_aligned)\n"
   ]
  },
  {
   "cell_type": "markdown",
   "id": "bcfa1e55",
   "metadata": {},
   "source": [
    "### datetime series \n"
   ]
  },
  {
   "cell_type": "code",
   "execution_count": 69,
   "id": "a513af79",
   "metadata": {},
   "outputs": [
    {
     "data": {
      "text/plain": [
       "2022-01-01    1\n",
       "2022-01-02    2\n",
       "2022-01-03    3\n",
       "dtype: int64"
      ]
     },
     "execution_count": 69,
     "metadata": {},
     "output_type": "execute_result"
    }
   ],
   "source": [
    "import pandas as pd\n",
    "\n",
    "dates = pd.to_datetime(['2022-01-01', '2022-01-02', '2022-01-03'])\n",
    "series = pd.Series([1, 2, 3], index=dates)\n",
    "series"
   ]
  },
  {
   "cell_type": "code",
   "execution_count": 70,
   "id": "a556159b",
   "metadata": {},
   "outputs": [
    {
     "name": "stdout",
     "output_type": "stream",
     "text": [
      "Original Series:\n",
      "2022-01-01    1\n",
      "2022-01-02    2\n",
      "2022-01-03    3\n",
      "2022-01-04    4\n",
      "2022-01-05    5\n",
      "Freq: D, dtype: int64\n"
     ]
    }
   ],
   "source": [
    "import pandas as pd\n",
    "\n",
    "# Creating a Datetime Series\n",
    "date_rng = pd.date_range(start='2022-01-01', end='2022-01-05', freq='D')\n",
    "series = pd.Series([1, 2, 3, 4, 5], index=date_rng)\n",
    "print(\"Original Series:\")\n",
    "print(series)\n"
   ]
  },
  {
   "cell_type": "code",
   "execution_count": 71,
   "id": "11f8b504",
   "metadata": {},
   "outputs": [
    {
     "name": "stdout",
     "output_type": "stream",
     "text": [
      "Subset of Series:\n",
      "2022-01-02    2\n",
      "2022-01-03    3\n",
      "2022-01-04    4\n",
      "Freq: D, dtype: int64\n"
     ]
    }
   ],
   "source": [
    "# Slicing by Datetime Range\n",
    "subset = series['2022-01-02':'2022-01-04']\n",
    "print(\"Subset of Series:\")\n",
    "print(subset)\n"
   ]
  },
  {
   "cell_type": "code",
   "execution_count": 73,
   "id": "9957d894",
   "metadata": {},
   "outputs": [
    {
     "name": "stdout",
     "output_type": "stream",
     "text": [
      "Upsampled Series:\n",
      "2022-01-01 00:00:00    1\n",
      "2022-01-01 01:00:00    1\n",
      "2022-01-01 02:00:00    1\n",
      "2022-01-01 03:00:00    1\n",
      "2022-01-01 04:00:00    1\n",
      "                      ..\n",
      "2022-01-04 20:00:00    4\n",
      "2022-01-04 21:00:00    4\n",
      "2022-01-04 22:00:00    4\n",
      "2022-01-04 23:00:00    4\n",
      "2022-01-05 00:00:00    5\n",
      "Freq: H, Length: 97, dtype: int64\n"
     ]
    },
    {
     "name": "stderr",
     "output_type": "stream",
     "text": [
      "C:\\Users\\admin\\AppData\\Local\\Temp\\ipykernel_15588\\2104790716.py:2: FutureWarning: DatetimeIndexResampler.fillna is deprecated and will be removed in a future version. Use obj.ffill(), obj.bfill(), or obj.nearest() instead.\n",
      "  upsampled_series = series.resample('H').fillna(method='pad')\n"
     ]
    }
   ],
   "source": [
    "# Resampling: Upsample to hourly frequency, forward fill missing values\n",
    "upsampled_series = series.resample('H').fillna(method='pad')\n",
    "print(\"Upsampled Series:\")\n",
    "print(upsampled_series)\n"
   ]
  },
  {
   "cell_type": "code",
   "execution_count": 74,
   "id": "526a081e",
   "metadata": {},
   "outputs": [
    {
     "name": "stdout",
     "output_type": "stream",
     "text": [
      "Downsampled Series:\n",
      "2022-01-01    1\n",
      "2022-01-02    2\n",
      "2022-01-03    3\n",
      "2022-01-04    4\n",
      "2022-01-05    5\n",
      "Freq: D, dtype: int64\n"
     ]
    }
   ],
   "source": [
    "# Resampling: Downsample to daily frequency, summing values\n",
    "downsampled_series = series.resample('D').sum()\n",
    "print(\"Downsampled Series:\")\n",
    "print(downsampled_series)\n"
   ]
  },
  {
   "cell_type": "code",
   "execution_count": 75,
   "id": "5c07fde6",
   "metadata": {},
   "outputs": [
    {
     "name": "stdout",
     "output_type": "stream",
     "text": [
      "Shifted Series:\n",
      "2022-01-01    NaN\n",
      "2022-01-02    1.0\n",
      "2022-01-03    2.0\n",
      "2022-01-04    3.0\n",
      "2022-01-05    4.0\n",
      "Freq: D, dtype: float64\n"
     ]
    }
   ],
   "source": [
    "# Time Shifting: Shift the entire series by 1 time step\n",
    "shifted_series = series.shift(1)\n",
    "print(\"Shifted Series:\")\n",
    "print(shifted_series)\n"
   ]
  },
  {
   "cell_type": "code",
   "execution_count": 76,
   "id": "1fd86fee",
   "metadata": {},
   "outputs": [
    {
     "name": "stdout",
     "output_type": "stream",
     "text": [
      "Rolling Mean:\n",
      "2022-01-01    NaN\n",
      "2022-01-02    NaN\n",
      "2022-01-03    2.0\n",
      "2022-01-04    3.0\n",
      "2022-01-05    4.0\n",
      "Freq: D, dtype: float64\n"
     ]
    }
   ],
   "source": [
    "# Rolling Windows: Calculate the rolling mean with a window size of 3\n",
    "rolling_mean = series.rolling(window=3).mean()\n",
    "print(\"Rolling Mean:\")\n",
    "print(rolling_mean)\n"
   ]
  },
  {
   "cell_type": "code",
   "execution_count": 77,
   "id": "9d21d100",
   "metadata": {},
   "outputs": [
    {
     "name": "stdout",
     "output_type": "stream",
     "text": [
      "Selected Range:\n",
      "2022-01-02    2\n",
      "2022-01-03    3\n",
      "2022-01-04    4\n",
      "Freq: D, dtype: int64\n"
     ]
    }
   ],
   "source": [
    "# Time-based Indexing: Select values within a specific date range\n",
    "selected_range = series['2022-01-02':'2022-01-04']\n",
    "print(\"Selected Range:\")\n",
    "print(selected_range)\n"
   ]
  },
  {
   "cell_type": "code",
   "execution_count": 78,
   "id": "864314f6",
   "metadata": {},
   "outputs": [
    {
     "name": "stdout",
     "output_type": "stream",
     "text": [
      "Time Zone Conversion:\n",
      "2021-12-31 19:00:00-05:00    1\n",
      "2022-01-01 19:00:00-05:00    2\n",
      "2022-01-02 19:00:00-05:00    3\n",
      "2022-01-03 19:00:00-05:00    4\n",
      "2022-01-04 19:00:00-05:00    5\n",
      "Freq: D, dtype: int64\n"
     ]
    }
   ],
   "source": [
    "# Handling Time Zones: Convert time zone\n",
    "series_utc = series.tz_localize('UTC')\n",
    "series_est = series_utc.tz_convert('US/Eastern')\n",
    "print(\"Time Zone Conversion:\")\n",
    "print(series_est)\n"
   ]
  },
  {
   "cell_type": "code",
   "execution_count": 79,
   "id": "f3f4a964",
   "metadata": {},
   "outputs": [
    {
     "name": "stdout",
     "output_type": "stream",
     "text": [
      "Frequency Converted Series:\n",
      "2022-01-01 00:00:00    1\n",
      "2022-01-01 01:00:00    1\n",
      "2022-01-01 02:00:00    1\n",
      "2022-01-01 03:00:00    1\n",
      "2022-01-01 04:00:00    1\n",
      "                      ..\n",
      "2022-01-04 20:00:00    4\n",
      "2022-01-04 21:00:00    4\n",
      "2022-01-04 22:00:00    4\n",
      "2022-01-04 23:00:00    4\n",
      "2022-01-05 00:00:00    5\n",
      "Freq: H, Length: 97, dtype: int64\n"
     ]
    }
   ],
   "source": [
    "# Frequency Conversion: Change frequency to hourly, forward fill missing values\n",
    "freq_converted_series = series.asfreq('H', method='pad')\n",
    "print(\"Frequency Converted Series:\")\n",
    "print(freq_converted_series)\n"
   ]
  },
  {
   "cell_type": "code",
   "execution_count": 80,
   "id": "80939ee7",
   "metadata": {},
   "outputs": [
    {
     "name": "stdout",
     "output_type": "stream",
     "text": [
      "Year Component:\n",
      "Index([2022, 2022, 2022, 2022, 2022], dtype='int32')\n"
     ]
    }
   ],
   "source": [
    "# Date Components: Extract the year from the datetime index\n",
    "year_component = series.index.year\n",
    "print(\"Year Component:\")\n",
    "print(year_component)\n"
   ]
  },
  {
   "cell_type": "code",
   "execution_count": 81,
   "id": "77d2f33d",
   "metadata": {},
   "outputs": [
    {
     "name": "stdout",
     "output_type": "stream",
     "text": [
      "Custom Resampled Series:\n",
      "2022-01-02    1\n",
      "2022-01-09    2\n",
      "Freq: W-SUN, dtype: int64\n"
     ]
    }
   ],
   "source": [
    "# Resampling and Aggregating with Custom Functions\n",
    "def custom_function(x):\n",
    "    return x.max() - x.min()\n",
    "\n",
    "custom_resampled_series = series.resample('W').apply(custom_function)\n",
    "print(\"Custom Resampled Series:\")\n",
    "print(custom_resampled_series)\n"
   ]
  },
  {
   "cell_type": "markdown",
   "id": "c98cba5c",
   "metadata": {},
   "source": [
    "### handling duplicates in pandas series"
   ]
  },
  {
   "cell_type": "code",
   "execution_count": 83,
   "id": "05c97d95",
   "metadata": {},
   "outputs": [
    {
     "name": "stdout",
     "output_type": "stream",
     "text": [
      "0    False\n",
      "1    False\n",
      "2     True\n",
      "3    False\n",
      "4    False\n",
      "5     True\n",
      "6    False\n",
      "dtype: bool\n",
      "2    2\n",
      "5    4\n",
      "dtype: int64\n"
     ]
    }
   ],
   "source": [
    "import pandas as pd\n",
    "\n",
    "# Sample Series with duplicates\n",
    "data = pd.Series([1, 2, 2, 3, 4, 4, 5])\n",
    "\n",
    "# Check for duplicates\n",
    "duplicates = data.duplicated()\n",
    "print(duplicates)\n",
    "\n",
    "print(data[duplicates])"
   ]
  },
  {
   "cell_type": "code",
   "execution_count": 84,
   "id": "25d08899",
   "metadata": {},
   "outputs": [
    {
     "name": "stdout",
     "output_type": "stream",
     "text": [
      "0    1\n",
      "1    2\n",
      "3    3\n",
      "4    4\n",
      "6    5\n",
      "dtype: int64\n"
     ]
    }
   ],
   "source": [
    "# Remove duplicates\n",
    "unique_data = data.drop_duplicates()\n",
    "print(unique_data)\n"
   ]
  },
  {
   "cell_type": "code",
   "execution_count": 85,
   "id": "3c7d0aee",
   "metadata": {},
   "outputs": [
    {
     "name": "stdout",
     "output_type": "stream",
     "text": [
      "2    2\n",
      "4    2\n",
      "Name: count, dtype: int64\n"
     ]
    }
   ],
   "source": [
    "# Count duplicates\n",
    "duplicate_counts = data.value_counts()\n",
    "duplicates = duplicate_counts[duplicate_counts > 1]\n",
    "print(duplicates)\n"
   ]
  },
  {
   "cell_type": "code",
   "execution_count": 87,
   "id": "5c1ac627",
   "metadata": {},
   "outputs": [
    {
     "name": "stdout",
     "output_type": "stream",
     "text": [
      "a    False\n",
      "b     True\n",
      "c     True\n",
      "d    False\n",
      "e     True\n",
      "f     True\n",
      "g    False\n",
      "dtype: bool\n"
     ]
    },
    {
     "data": {
      "text/plain": [
       "b    2\n",
       "c    2\n",
       "e    4\n",
       "f    4\n",
       "dtype: int64"
      ]
     },
     "execution_count": 87,
     "metadata": {},
     "output_type": "execute_result"
    }
   ],
   "source": [
    "# Sample Series with custom index\n",
    "data = pd.Series([1, 2, 2, 3, 4, 4, 5], index=['a', 'b', 'c', 'd', 'e', 'f', 'g'])\n",
    "\n",
    "# Check for duplicates including the first occurrence\n",
    "duplicates = data.duplicated(keep=False)\n",
    "print(duplicates)\n",
    "\n",
    "data[duplicates]\n"
   ]
  },
  {
   "cell_type": "code",
   "execution_count": 88,
   "id": "8f7e3674",
   "metadata": {},
   "outputs": [
    {
     "name": "stdout",
     "output_type": "stream",
     "text": [
      "1    2\n",
      "2    2\n",
      "4    4\n",
      "5    4\n",
      "dtype: int64\n"
     ]
    }
   ],
   "source": [
    "# Sample Series\n",
    "data = pd.Series([1, 2, 2, 3, 4, 4, 5])\n",
    "\n",
    "# Keep only duplicates\n",
    "duplicates_only = data[data.duplicated(keep=False)]\n",
    "print(duplicates_only)\n"
   ]
  },
  {
   "cell_type": "code",
   "execution_count": 89,
   "id": "048f3883",
   "metadata": {},
   "outputs": [
    {
     "name": "stdout",
     "output_type": "stream",
     "text": [
      "0    10\n",
      "1    20\n",
      "2    21\n",
      "3    30\n",
      "4    40\n",
      "5    41\n",
      "6    50\n",
      "dtype: object\n"
     ]
    }
   ],
   "source": [
    "# Sample Series\n",
    "data = pd.Series([1, 2, 2, 3, 4, 4, 5])\n",
    "\n",
    "# Rename duplicates\n",
    "renamed_data = data.astype(str) + data.groupby(data).cumcount().astype(str)\n",
    "print(renamed_data)\n"
   ]
  },
  {
   "cell_type": "code",
   "execution_count": 90,
   "id": "c58774cd",
   "metadata": {},
   "outputs": [
    {
     "name": "stdout",
     "output_type": "stream",
     "text": [
      "0    1.0\n",
      "1    2.0\n",
      "3    3.0\n",
      "4    4.0\n",
      "6    5.0\n",
      "dtype: float64\n"
     ]
    }
   ],
   "source": [
    "# Sample Series with duplicates\n",
    "data = pd.Series([1, 2, 2, 3, 4, 4, 5,None])\n",
    "\n",
    "# Remove duplicates and handle missing values\n",
    "unique_data = data.drop_duplicates().dropna()\n",
    "print(unique_data)\n"
   ]
  },
  {
   "cell_type": "code",
   "execution_count": 91,
   "id": "9d7cf0c9",
   "metadata": {},
   "outputs": [
    {
     "name": "stdout",
     "output_type": "stream",
     "text": [
      "0                                                               1\n",
      "1                                                               2\n",
      "2                                                               2\n",
      "3                                                               3\n",
      "4                                                               4\n",
      "5                                                               4\n",
      "6                                                               5\n",
      "is_duplicate    0    False\n",
      "1     True\n",
      "2     True\n",
      "3    False\n",
      "4 ...\n",
      "dtype: object\n"
     ]
    }
   ],
   "source": [
    "# Sample Series\n",
    "data = pd.Series([1, 2, 2, 3, 4, 4, 5])\n",
    "\n",
    "# Mark duplicates with a flag\n",
    "data['is_duplicate'] = data.duplicated(keep=False)\n",
    "print(data)\n"
   ]
  },
  {
   "cell_type": "markdown",
   "id": "163278c2",
   "metadata": {},
   "source": [
    "## CH03 WORKING WITH PANDAS DATA FRAMES"
   ]
  },
  {
   "cell_type": "code",
   "execution_count": 92,
   "id": "15d76ecd",
   "metadata": {},
   "outputs": [
    {
     "name": "stdout",
     "output_type": "stream",
     "text": [
      "      Name  Age           City\n",
      "0    Alice   25       New York\n",
      "1      Bob   30  San Francisco\n",
      "2  Charlie   35    Los Angeles\n"
     ]
    }
   ],
   "source": [
    "\"\"\"\n",
    "A DataFrame is a two-dimensional, labeled data structure with columns that can be of different types. \n",
    "It's like a spreadsheet or SQL table, where you can store and manipulate data easily.\n",
    "\"\"\"\n",
    "import pandas as pd\n",
    "\n",
    "data = {\n",
    "    'Name': ['Alice', 'Bob', 'Charlie'],\n",
    "    'Age': [25, 30, 35],\n",
    "    'City': ['New York', 'San Francisco', 'Los Angeles']\n",
    "}\n",
    "\n",
    "df = pd.DataFrame(data)\n",
    "print(df)\n",
    "\n"
   ]
  },
  {
   "cell_type": "code",
   "execution_count": 93,
   "id": "d88a943b",
   "metadata": {},
   "outputs": [
    {
     "data": {
      "text/html": [
       "<div>\n",
       "<style scoped>\n",
       "    .dataframe tbody tr th:only-of-type {\n",
       "        vertical-align: middle;\n",
       "    }\n",
       "\n",
       "    .dataframe tbody tr th {\n",
       "        vertical-align: top;\n",
       "    }\n",
       "\n",
       "    .dataframe thead th {\n",
       "        text-align: right;\n",
       "    }\n",
       "</style>\n",
       "<table border=\"1\" class=\"dataframe\">\n",
       "  <thead>\n",
       "    <tr style=\"text-align: right;\">\n",
       "      <th></th>\n",
       "      <th>Name</th>\n",
       "      <th>Age</th>\n",
       "      <th>City</th>\n",
       "    </tr>\n",
       "  </thead>\n",
       "  <tbody>\n",
       "    <tr>\n",
       "      <th>0</th>\n",
       "      <td>Alice</td>\n",
       "      <td>25</td>\n",
       "      <td>New York</td>\n",
       "    </tr>\n",
       "    <tr>\n",
       "      <th>1</th>\n",
       "      <td>Bob</td>\n",
       "      <td>30</td>\n",
       "      <td>San Francisco</td>\n",
       "    </tr>\n",
       "    <tr>\n",
       "      <th>2</th>\n",
       "      <td>Charlie</td>\n",
       "      <td>35</td>\n",
       "      <td>Los Angeles</td>\n",
       "    </tr>\n",
       "  </tbody>\n",
       "</table>\n",
       "</div>"
      ],
      "text/plain": [
       "      Name  Age           City\n",
       "0    Alice   25       New York\n",
       "1      Bob   30  San Francisco\n",
       "2  Charlie   35    Los Angeles"
      ]
     },
     "execution_count": 93,
     "metadata": {},
     "output_type": "execute_result"
    }
   ],
   "source": [
    "df"
   ]
  },
  {
   "cell_type": "code",
   "execution_count": 94,
   "id": "1088e44e",
   "metadata": {},
   "outputs": [
    {
     "data": {
      "text/html": [
       "<div>\n",
       "<style scoped>\n",
       "    .dataframe tbody tr th:only-of-type {\n",
       "        vertical-align: middle;\n",
       "    }\n",
       "\n",
       "    .dataframe tbody tr th {\n",
       "        vertical-align: top;\n",
       "    }\n",
       "\n",
       "    .dataframe thead th {\n",
       "        text-align: right;\n",
       "    }\n",
       "</style>\n",
       "<table border=\"1\" class=\"dataframe\">\n",
       "  <thead>\n",
       "    <tr style=\"text-align: right;\">\n",
       "      <th></th>\n",
       "      <th>Pregnancies</th>\n",
       "      <th>Glucose</th>\n",
       "      <th>BloodPressure</th>\n",
       "      <th>SkinThickness</th>\n",
       "      <th>Insulin</th>\n",
       "      <th>BMI</th>\n",
       "      <th>DiabetesPedigreeFunction</th>\n",
       "      <th>Age</th>\n",
       "      <th>Outcome</th>\n",
       "    </tr>\n",
       "  </thead>\n",
       "  <tbody>\n",
       "    <tr>\n",
       "      <th>0</th>\n",
       "      <td>6</td>\n",
       "      <td>148</td>\n",
       "      <td>72</td>\n",
       "      <td>35</td>\n",
       "      <td>0</td>\n",
       "      <td>33.6</td>\n",
       "      <td>0.627</td>\n",
       "      <td>50</td>\n",
       "      <td>1</td>\n",
       "    </tr>\n",
       "    <tr>\n",
       "      <th>1</th>\n",
       "      <td>1</td>\n",
       "      <td>85</td>\n",
       "      <td>66</td>\n",
       "      <td>29</td>\n",
       "      <td>0</td>\n",
       "      <td>26.6</td>\n",
       "      <td>0.351</td>\n",
       "      <td>31</td>\n",
       "      <td>0</td>\n",
       "    </tr>\n",
       "    <tr>\n",
       "      <th>2</th>\n",
       "      <td>8</td>\n",
       "      <td>183</td>\n",
       "      <td>64</td>\n",
       "      <td>0</td>\n",
       "      <td>0</td>\n",
       "      <td>23.3</td>\n",
       "      <td>0.672</td>\n",
       "      <td>32</td>\n",
       "      <td>1</td>\n",
       "    </tr>\n",
       "    <tr>\n",
       "      <th>3</th>\n",
       "      <td>1</td>\n",
       "      <td>89</td>\n",
       "      <td>66</td>\n",
       "      <td>23</td>\n",
       "      <td>94</td>\n",
       "      <td>28.1</td>\n",
       "      <td>0.167</td>\n",
       "      <td>21</td>\n",
       "      <td>0</td>\n",
       "    </tr>\n",
       "    <tr>\n",
       "      <th>4</th>\n",
       "      <td>0</td>\n",
       "      <td>137</td>\n",
       "      <td>40</td>\n",
       "      <td>35</td>\n",
       "      <td>168</td>\n",
       "      <td>43.1</td>\n",
       "      <td>2.288</td>\n",
       "      <td>33</td>\n",
       "      <td>1</td>\n",
       "    </tr>\n",
       "  </tbody>\n",
       "</table>\n",
       "</div>"
      ],
      "text/plain": [
       "   Pregnancies  Glucose  BloodPressure  ...  DiabetesPedigreeFunction  Age  Outcome\n",
       "0            6      148             72  ...                     0.627   50        1\n",
       "1            1       85             66  ...                     0.351   31        0\n",
       "2            8      183             64  ...                     0.672   32        1\n",
       "3            1       89             66  ...                     0.167   21        0\n",
       "4            0      137             40  ...                     2.288   33        1\n",
       "\n",
       "[5 rows x 9 columns]"
      ]
     },
     "execution_count": 94,
     "metadata": {},
     "output_type": "execute_result"
    }
   ],
   "source": [
    "#reading datas from files  and writing to files \n",
    "#files i kept in datas folder \n",
    "\n",
    "import pandas as pd\n",
    "\n",
    "df = pd.read_csv('datas/diabetes.csv')\n",
    "df.head()\n"
   ]
  },
  {
   "cell_type": "code",
   "execution_count": 95,
   "id": "794995d4",
   "metadata": {},
   "outputs": [],
   "source": [
    "#writing files to files \n",
    "#i will write in datas folder \n",
    "\n",
    "import pandas as pd\n",
    "\n",
    "# Create a DataFrame\n",
    "data = {'Name': ['Alice', 'Bob', 'Charlie'],\n",
    "        'Age': [25, 30, 22],\n",
    "        'City': ['New York', 'San Francisco', 'Los Angeles']}\n",
    "\n",
    "df = pd.DataFrame(data)\n",
    "\n",
    "# Write to CSV\n",
    "df.to_csv('datas/sample_write_01.csv', index=False)\n"
   ]
  },
  {
   "cell_type": "code",
   "execution_count": 96,
   "id": "d846b555",
   "metadata": {},
   "outputs": [],
   "source": [
    "#read sql data in pandas dataframes \n",
    "#before that i create sql for create record \n",
    "\n",
    "import sqlite3\n",
    "\n",
    "# Connect to SQLite database (this will create a new database file if it doesn't exist)\n",
    "conn = sqlite3.connect('datas/sample_01.db')\n",
    "\n",
    "# Create a cursor object to execute SQL queries\n",
    "cursor = conn.cursor()\n",
    "\n",
    "# Define the SQL query to create a table\n",
    "create_table_query = '''\n",
    "CREATE TABLE IF NOT EXISTS students (\n",
    "    id INTEGER PRIMARY KEY,\n",
    "    name TEXT NOT NULL,\n",
    "    age INTEGER,\n",
    "    grade TEXT\n",
    ");\n",
    "'''\n",
    "\n",
    "# Execute the query to create the table\n",
    "cursor.execute(create_table_query)\n",
    "\n",
    "# Commit the changes\n",
    "conn.commit()\n",
    "\n"
   ]
  },
  {
   "cell_type": "code",
   "execution_count": 97,
   "id": "0d71b519",
   "metadata": {},
   "outputs": [],
   "source": [
    "# Insert data into the 'students' table\n",
    "insert_data_query = '''\n",
    "INSERT INTO students (name, age, grade) VALUES\n",
    "('Alice', 25, 'A'),\n",
    "('Bob', 22, 'B'),\n",
    "('Charlie', 28, 'C');\n",
    "'''\n",
    "\n",
    "# Execute the query to insert data\n",
    "cursor.execute(insert_data_query)\n",
    "\n",
    "# Commit the changes\n",
    "conn.commit()\n"
   ]
  },
  {
   "cell_type": "code",
   "execution_count": 98,
   "id": "4df0198a",
   "metadata": {},
   "outputs": [
    {
     "name": "stdout",
     "output_type": "stream",
     "text": [
      "   id     name  age grade\n",
      "0   1    Alice   25     A\n",
      "1   2      Bob   22     B\n",
      "2   3  Charlie   28     C\n"
     ]
    }
   ],
   "source": [
    "# Query data from the 'students' table\n",
    "select_data_query = 'SELECT * FROM students'\n",
    "\n",
    "# Execute the query and fetch the results into a Pandas DataFrame\n",
    "import pandas as pd\n",
    "\n",
    "df = pd.read_sql(select_data_query, conn)\n",
    "\n",
    "# Display the DataFrame\n",
    "print(df)\n"
   ]
  },
  {
   "cell_type": "code",
   "execution_count": 99,
   "id": "80193ba6",
   "metadata": {},
   "outputs": [
    {
     "data": {
      "text/html": [
       "<div>\n",
       "<style scoped>\n",
       "    .dataframe tbody tr th:only-of-type {\n",
       "        vertical-align: middle;\n",
       "    }\n",
       "\n",
       "    .dataframe tbody tr th {\n",
       "        vertical-align: top;\n",
       "    }\n",
       "\n",
       "    .dataframe thead th {\n",
       "        text-align: right;\n",
       "    }\n",
       "</style>\n",
       "<table border=\"1\" class=\"dataframe\">\n",
       "  <thead>\n",
       "    <tr style=\"text-align: right;\">\n",
       "      <th></th>\n",
       "      <th>id</th>\n",
       "      <th>name</th>\n",
       "      <th>age</th>\n",
       "      <th>grade</th>\n",
       "    </tr>\n",
       "  </thead>\n",
       "  <tbody>\n",
       "    <tr>\n",
       "      <th>0</th>\n",
       "      <td>1</td>\n",
       "      <td>Alice</td>\n",
       "      <td>25</td>\n",
       "      <td>A</td>\n",
       "    </tr>\n",
       "    <tr>\n",
       "      <th>1</th>\n",
       "      <td>2</td>\n",
       "      <td>Bob</td>\n",
       "      <td>22</td>\n",
       "      <td>B</td>\n",
       "    </tr>\n",
       "    <tr>\n",
       "      <th>2</th>\n",
       "      <td>3</td>\n",
       "      <td>Charlie</td>\n",
       "      <td>28</td>\n",
       "      <td>C</td>\n",
       "    </tr>\n",
       "  </tbody>\n",
       "</table>\n",
       "</div>"
      ],
      "text/plain": [
       "   id     name  age grade\n",
       "0   1    Alice   25     A\n",
       "1   2      Bob   22     B\n",
       "2   3  Charlie   28     C"
      ]
     },
     "execution_count": 99,
     "metadata": {},
     "output_type": "execute_result"
    }
   ],
   "source": [
    "df"
   ]
  },
  {
   "cell_type": "code",
   "execution_count": 100,
   "id": "9c45dfbe",
   "metadata": {},
   "outputs": [],
   "source": [
    "insert_data_query = '''\n",
    "INSERT INTO students (name, age, grade) VALUES\n",
    "('govind', 34, 'A'),\n",
    "('kavitha', 32, 'B'),\n",
    "('parthiban', 38, 'C');\n",
    "'''\n",
    "\n",
    "# Execute the query to insert data\n",
    "cursor.execute(insert_data_query)\n",
    "\n",
    "# Commit the changes\n",
    "conn.commit()"
   ]
  },
  {
   "cell_type": "code",
   "execution_count": 101,
   "id": "c192b617",
   "metadata": {},
   "outputs": [
    {
     "name": "stdout",
     "output_type": "stream",
     "text": [
      "   id       name  age grade\n",
      "0   1      Alice   25     A\n",
      "1   2        Bob   22     B\n",
      "2   3    Charlie   28     C\n",
      "3   4     govind   34     A\n",
      "4   5    kavitha   32     B\n",
      "5   6  parthiban   38     C\n"
     ]
    }
   ],
   "source": [
    "# Query data from the 'students' table\n",
    "select_data_query = 'SELECT * FROM students'\n",
    "\n",
    "# Execute the query and fetch the results into a Pandas DataFrame\n",
    "import pandas as pd\n",
    "\n",
    "df = pd.read_sql(select_data_query, conn)\n",
    "\n",
    "# Display the DataFrame\n",
    "print(df)"
   ]
  },
  {
   "cell_type": "code",
   "execution_count": 102,
   "id": "c438c600",
   "metadata": {},
   "outputs": [
    {
     "data": {
      "text/html": [
       "<div>\n",
       "<style scoped>\n",
       "    .dataframe tbody tr th:only-of-type {\n",
       "        vertical-align: middle;\n",
       "    }\n",
       "\n",
       "    .dataframe tbody tr th {\n",
       "        vertical-align: top;\n",
       "    }\n",
       "\n",
       "    .dataframe thead th {\n",
       "        text-align: right;\n",
       "    }\n",
       "</style>\n",
       "<table border=\"1\" class=\"dataframe\">\n",
       "  <thead>\n",
       "    <tr style=\"text-align: right;\">\n",
       "      <th></th>\n",
       "      <th>id</th>\n",
       "      <th>name</th>\n",
       "      <th>age</th>\n",
       "      <th>grade</th>\n",
       "    </tr>\n",
       "  </thead>\n",
       "  <tbody>\n",
       "    <tr>\n",
       "      <th>0</th>\n",
       "      <td>1</td>\n",
       "      <td>Alice</td>\n",
       "      <td>25</td>\n",
       "      <td>A</td>\n",
       "    </tr>\n",
       "    <tr>\n",
       "      <th>1</th>\n",
       "      <td>2</td>\n",
       "      <td>Bob</td>\n",
       "      <td>22</td>\n",
       "      <td>B</td>\n",
       "    </tr>\n",
       "    <tr>\n",
       "      <th>2</th>\n",
       "      <td>3</td>\n",
       "      <td>Charlie</td>\n",
       "      <td>28</td>\n",
       "      <td>C</td>\n",
       "    </tr>\n",
       "    <tr>\n",
       "      <th>3</th>\n",
       "      <td>4</td>\n",
       "      <td>govind</td>\n",
       "      <td>34</td>\n",
       "      <td>A</td>\n",
       "    </tr>\n",
       "    <tr>\n",
       "      <th>4</th>\n",
       "      <td>5</td>\n",
       "      <td>kavitha</td>\n",
       "      <td>32</td>\n",
       "      <td>B</td>\n",
       "    </tr>\n",
       "    <tr>\n",
       "      <th>5</th>\n",
       "      <td>6</td>\n",
       "      <td>parthiban</td>\n",
       "      <td>38</td>\n",
       "      <td>C</td>\n",
       "    </tr>\n",
       "  </tbody>\n",
       "</table>\n",
       "</div>"
      ],
      "text/plain": [
       "   id       name  age grade\n",
       "0   1      Alice   25     A\n",
       "1   2        Bob   22     B\n",
       "2   3    Charlie   28     C\n",
       "3   4     govind   34     A\n",
       "4   5    kavitha   32     B\n",
       "5   6  parthiban   38     C"
      ]
     },
     "execution_count": 102,
     "metadata": {},
     "output_type": "execute_result"
    }
   ],
   "source": [
    "df"
   ]
  },
  {
   "cell_type": "code",
   "execution_count": 103,
   "id": "d096bdef",
   "metadata": {},
   "outputs": [],
   "source": [
    "# Close the database connection\n",
    "conn.close()\n"
   ]
  },
  {
   "cell_type": "markdown",
   "id": "7037e920",
   "metadata": {},
   "source": [
    "### Accessing datas "
   ]
  },
  {
   "cell_type": "code",
   "execution_count": 105,
   "id": "9f9a5f40",
   "metadata": {},
   "outputs": [
    {
     "data": {
      "text/html": [
       "<div>\n",
       "<style scoped>\n",
       "    .dataframe tbody tr th:only-of-type {\n",
       "        vertical-align: middle;\n",
       "    }\n",
       "\n",
       "    .dataframe tbody tr th {\n",
       "        vertical-align: top;\n",
       "    }\n",
       "\n",
       "    .dataframe thead th {\n",
       "        text-align: right;\n",
       "    }\n",
       "</style>\n",
       "<table border=\"1\" class=\"dataframe\">\n",
       "  <thead>\n",
       "    <tr style=\"text-align: right;\">\n",
       "      <th></th>\n",
       "      <th>Pregnancies</th>\n",
       "      <th>Glucose</th>\n",
       "      <th>BloodPressure</th>\n",
       "      <th>SkinThickness</th>\n",
       "      <th>Insulin</th>\n",
       "      <th>BMI</th>\n",
       "      <th>DiabetesPedigreeFunction</th>\n",
       "      <th>Age</th>\n",
       "      <th>Outcome</th>\n",
       "    </tr>\n",
       "  </thead>\n",
       "  <tbody>\n",
       "    <tr>\n",
       "      <th>0</th>\n",
       "      <td>6</td>\n",
       "      <td>148</td>\n",
       "      <td>72</td>\n",
       "      <td>35</td>\n",
       "      <td>0</td>\n",
       "      <td>33.6</td>\n",
       "      <td>0.627</td>\n",
       "      <td>50</td>\n",
       "      <td>1</td>\n",
       "    </tr>\n",
       "    <tr>\n",
       "      <th>1</th>\n",
       "      <td>1</td>\n",
       "      <td>85</td>\n",
       "      <td>66</td>\n",
       "      <td>29</td>\n",
       "      <td>0</td>\n",
       "      <td>26.6</td>\n",
       "      <td>0.351</td>\n",
       "      <td>31</td>\n",
       "      <td>0</td>\n",
       "    </tr>\n",
       "    <tr>\n",
       "      <th>2</th>\n",
       "      <td>8</td>\n",
       "      <td>183</td>\n",
       "      <td>64</td>\n",
       "      <td>0</td>\n",
       "      <td>0</td>\n",
       "      <td>23.3</td>\n",
       "      <td>0.672</td>\n",
       "      <td>32</td>\n",
       "      <td>1</td>\n",
       "    </tr>\n",
       "    <tr>\n",
       "      <th>3</th>\n",
       "      <td>1</td>\n",
       "      <td>89</td>\n",
       "      <td>66</td>\n",
       "      <td>23</td>\n",
       "      <td>94</td>\n",
       "      <td>28.1</td>\n",
       "      <td>0.167</td>\n",
       "      <td>21</td>\n",
       "      <td>0</td>\n",
       "    </tr>\n",
       "    <tr>\n",
       "      <th>4</th>\n",
       "      <td>0</td>\n",
       "      <td>137</td>\n",
       "      <td>40</td>\n",
       "      <td>35</td>\n",
       "      <td>168</td>\n",
       "      <td>43.1</td>\n",
       "      <td>2.288</td>\n",
       "      <td>33</td>\n",
       "      <td>1</td>\n",
       "    </tr>\n",
       "  </tbody>\n",
       "</table>\n",
       "</div>"
      ],
      "text/plain": [
       "   Pregnancies  Glucose  BloodPressure  ...  DiabetesPedigreeFunction  Age  Outcome\n",
       "0            6      148             72  ...                     0.627   50        1\n",
       "1            1       85             66  ...                     0.351   31        0\n",
       "2            8      183             64  ...                     0.672   32        1\n",
       "3            1       89             66  ...                     0.167   21        0\n",
       "4            0      137             40  ...                     2.288   33        1\n",
       "\n",
       "[5 rows x 9 columns]"
      ]
     },
     "execution_count": 105,
     "metadata": {},
     "output_type": "execute_result"
    }
   ],
   "source": [
    "#reading datas from files  and writing to files \n",
    "import pandas as pd\n",
    "\n",
    "df = pd.read_csv('datas/diabetes.csv')\n",
    "df.head()\n"
   ]
  },
  {
   "cell_type": "code",
   "execution_count": 106,
   "id": "cf30183f",
   "metadata": {},
   "outputs": [
    {
     "data": {
      "text/plain": [
       "0      50\n",
       "1      31\n",
       "2      32\n",
       "3      21\n",
       "4      33\n",
       "       ..\n",
       "763    63\n",
       "764    27\n",
       "765    30\n",
       "766    47\n",
       "767    23\n",
       "Name: Age, Length: 768, dtype: int64"
      ]
     },
     "execution_count": 106,
     "metadata": {},
     "output_type": "execute_result"
    }
   ],
   "source": [
    "# Accessing datas \n",
    "age_column = df['Age']\n",
    "age_column"
   ]
  },
  {
   "cell_type": "code",
   "execution_count": 108,
   "id": "c1095f0b",
   "metadata": {},
   "outputs": [
    {
     "data": {
      "text/html": [
       "<div>\n",
       "<style scoped>\n",
       "    .dataframe tbody tr th:only-of-type {\n",
       "        vertical-align: middle;\n",
       "    }\n",
       "\n",
       "    .dataframe tbody tr th {\n",
       "        vertical-align: top;\n",
       "    }\n",
       "\n",
       "    .dataframe thead th {\n",
       "        text-align: right;\n",
       "    }\n",
       "</style>\n",
       "<table border=\"1\" class=\"dataframe\">\n",
       "  <thead>\n",
       "    <tr style=\"text-align: right;\">\n",
       "      <th></th>\n",
       "      <th>Age</th>\n",
       "      <th>Insulin</th>\n",
       "      <th>BloodPressure</th>\n",
       "    </tr>\n",
       "  </thead>\n",
       "  <tbody>\n",
       "    <tr>\n",
       "      <th>0</th>\n",
       "      <td>50</td>\n",
       "      <td>0</td>\n",
       "      <td>72</td>\n",
       "    </tr>\n",
       "    <tr>\n",
       "      <th>1</th>\n",
       "      <td>31</td>\n",
       "      <td>0</td>\n",
       "      <td>66</td>\n",
       "    </tr>\n",
       "    <tr>\n",
       "      <th>2</th>\n",
       "      <td>32</td>\n",
       "      <td>0</td>\n",
       "      <td>64</td>\n",
       "    </tr>\n",
       "    <tr>\n",
       "      <th>3</th>\n",
       "      <td>21</td>\n",
       "      <td>94</td>\n",
       "      <td>66</td>\n",
       "    </tr>\n",
       "    <tr>\n",
       "      <th>4</th>\n",
       "      <td>33</td>\n",
       "      <td>168</td>\n",
       "      <td>40</td>\n",
       "    </tr>\n",
       "    <tr>\n",
       "      <th>...</th>\n",
       "      <td>...</td>\n",
       "      <td>...</td>\n",
       "      <td>...</td>\n",
       "    </tr>\n",
       "    <tr>\n",
       "      <th>763</th>\n",
       "      <td>63</td>\n",
       "      <td>180</td>\n",
       "      <td>76</td>\n",
       "    </tr>\n",
       "    <tr>\n",
       "      <th>764</th>\n",
       "      <td>27</td>\n",
       "      <td>0</td>\n",
       "      <td>70</td>\n",
       "    </tr>\n",
       "    <tr>\n",
       "      <th>765</th>\n",
       "      <td>30</td>\n",
       "      <td>112</td>\n",
       "      <td>72</td>\n",
       "    </tr>\n",
       "    <tr>\n",
       "      <th>766</th>\n",
       "      <td>47</td>\n",
       "      <td>0</td>\n",
       "      <td>60</td>\n",
       "    </tr>\n",
       "    <tr>\n",
       "      <th>767</th>\n",
       "      <td>23</td>\n",
       "      <td>0</td>\n",
       "      <td>70</td>\n",
       "    </tr>\n",
       "  </tbody>\n",
       "</table>\n",
       "<p>768 rows × 3 columns</p>\n",
       "</div>"
      ],
      "text/plain": [
       "     Age  Insulin  BloodPressure\n",
       "0     50        0             72\n",
       "1     31        0             66\n",
       "2     32        0             64\n",
       "3     21       94             66\n",
       "4     33      168             40\n",
       "..   ...      ...            ...\n",
       "763   63      180             76\n",
       "764   27        0             70\n",
       "765   30      112             72\n",
       "766   47        0             60\n",
       "767   23        0             70\n",
       "\n",
       "[768 rows x 3 columns]"
      ]
     },
     "execution_count": 108,
     "metadata": {},
     "output_type": "execute_result"
    }
   ],
   "source": [
    "data_column = df[['Age','Insulin','BloodPressure']]\n",
    "data_column"
   ]
  },
  {
   "cell_type": "code",
   "execution_count": 112,
   "id": "cd9e46f1",
   "metadata": {},
   "outputs": [
    {
     "data": {
      "text/plain": [
       "Pregnancies                   6.000\n",
       "Glucose                     148.000\n",
       "BloodPressure                72.000\n",
       "SkinThickness                35.000\n",
       "Insulin                       0.000\n",
       "BMI                          33.600\n",
       "DiabetesPedigreeFunction      0.627\n",
       "Age                          50.000\n",
       "Outcome                       1.000\n",
       "Name: 0, dtype: float64"
      ]
     },
     "execution_count": 112,
     "metadata": {},
     "output_type": "execute_result"
    }
   ],
   "source": [
    "# Accessing a row by index\n",
    "first_row = df.loc[0]\n",
    "first_row"
   ]
  },
  {
   "cell_type": "code",
   "execution_count": 113,
   "id": "4c384d28",
   "metadata": {},
   "outputs": [
    {
     "data": {
      "text/plain": [
       "31"
      ]
     },
     "execution_count": 113,
     "metadata": {},
     "output_type": "execute_result"
    }
   ],
   "source": [
    "# Accessing an element\n",
    "age_of_second = df.at[1, 'Age']\n",
    "age_of_second"
   ]
  },
  {
   "cell_type": "markdown",
   "id": "b3b5d7d0",
   "metadata": {},
   "source": [
    "### Filtering"
   ]
  },
  {
   "cell_type": "code",
   "execution_count": 114,
   "id": "0058d494",
   "metadata": {},
   "outputs": [
    {
     "data": {
      "text/html": [
       "<div>\n",
       "<style scoped>\n",
       "    .dataframe tbody tr th:only-of-type {\n",
       "        vertical-align: middle;\n",
       "    }\n",
       "\n",
       "    .dataframe tbody tr th {\n",
       "        vertical-align: top;\n",
       "    }\n",
       "\n",
       "    .dataframe thead th {\n",
       "        text-align: right;\n",
       "    }\n",
       "</style>\n",
       "<table border=\"1\" class=\"dataframe\">\n",
       "  <thead>\n",
       "    <tr style=\"text-align: right;\">\n",
       "      <th></th>\n",
       "      <th>Pregnancies</th>\n",
       "      <th>Glucose</th>\n",
       "      <th>BloodPressure</th>\n",
       "      <th>SkinThickness</th>\n",
       "      <th>Insulin</th>\n",
       "      <th>BMI</th>\n",
       "      <th>DiabetesPedigreeFunction</th>\n",
       "      <th>Age</th>\n",
       "      <th>Outcome</th>\n",
       "    </tr>\n",
       "  </thead>\n",
       "  <tbody>\n",
       "    <tr>\n",
       "      <th>766</th>\n",
       "      <td>1</td>\n",
       "      <td>126</td>\n",
       "      <td>60</td>\n",
       "      <td>0</td>\n",
       "      <td>0</td>\n",
       "      <td>30.1</td>\n",
       "      <td>0.349</td>\n",
       "      <td>47</td>\n",
       "      <td>1</td>\n",
       "    </tr>\n",
       "    <tr>\n",
       "      <th>767</th>\n",
       "      <td>1</td>\n",
       "      <td>93</td>\n",
       "      <td>70</td>\n",
       "      <td>31</td>\n",
       "      <td>0</td>\n",
       "      <td>30.4</td>\n",
       "      <td>0.315</td>\n",
       "      <td>23</td>\n",
       "      <td>0</td>\n",
       "    </tr>\n",
       "  </tbody>\n",
       "</table>\n",
       "</div>"
      ],
      "text/plain": [
       "     Pregnancies  Glucose  ...  Age  Outcome\n",
       "766            1      126  ...   47        1\n",
       "767            1       93  ...   23        0\n",
       "\n",
       "[2 rows x 9 columns]"
      ]
     },
     "execution_count": 114,
     "metadata": {},
     "output_type": "execute_result"
    }
   ],
   "source": [
    "#filtering the data \n",
    "#reading datas from files  and writing to files \n",
    "import pandas as pd\n",
    "\n",
    "df = pd.read_csv('datas/diabetes.csv')\n",
    "df.tail(2)"
   ]
  },
  {
   "cell_type": "code",
   "execution_count": 116,
   "id": "f0cdac21",
   "metadata": {},
   "outputs": [
    {
     "data": {
      "text/html": [
       "<div>\n",
       "<style scoped>\n",
       "    .dataframe tbody tr th:only-of-type {\n",
       "        vertical-align: middle;\n",
       "    }\n",
       "\n",
       "    .dataframe tbody tr th {\n",
       "        vertical-align: top;\n",
       "    }\n",
       "\n",
       "    .dataframe thead th {\n",
       "        text-align: right;\n",
       "    }\n",
       "</style>\n",
       "<table border=\"1\" class=\"dataframe\">\n",
       "  <thead>\n",
       "    <tr style=\"text-align: right;\">\n",
       "      <th></th>\n",
       "      <th>Pregnancies</th>\n",
       "      <th>Glucose</th>\n",
       "      <th>BloodPressure</th>\n",
       "      <th>SkinThickness</th>\n",
       "      <th>Insulin</th>\n",
       "      <th>BMI</th>\n",
       "      <th>DiabetesPedigreeFunction</th>\n",
       "      <th>Age</th>\n",
       "      <th>Outcome</th>\n",
       "    </tr>\n",
       "  </thead>\n",
       "  <tbody>\n",
       "    <tr>\n",
       "      <th>3</th>\n",
       "      <td>1</td>\n",
       "      <td>89</td>\n",
       "      <td>66</td>\n",
       "      <td>23</td>\n",
       "      <td>94</td>\n",
       "      <td>28.1</td>\n",
       "      <td>0.167</td>\n",
       "      <td>21</td>\n",
       "      <td>0</td>\n",
       "    </tr>\n",
       "    <tr>\n",
       "      <th>27</th>\n",
       "      <td>1</td>\n",
       "      <td>97</td>\n",
       "      <td>66</td>\n",
       "      <td>15</td>\n",
       "      <td>140</td>\n",
       "      <td>23.2</td>\n",
       "      <td>0.487</td>\n",
       "      <td>22</td>\n",
       "      <td>0</td>\n",
       "    </tr>\n",
       "    <tr>\n",
       "      <th>32</th>\n",
       "      <td>3</td>\n",
       "      <td>88</td>\n",
       "      <td>58</td>\n",
       "      <td>11</td>\n",
       "      <td>54</td>\n",
       "      <td>24.8</td>\n",
       "      <td>0.267</td>\n",
       "      <td>22</td>\n",
       "      <td>0</td>\n",
       "    </tr>\n",
       "    <tr>\n",
       "      <th>47</th>\n",
       "      <td>2</td>\n",
       "      <td>71</td>\n",
       "      <td>70</td>\n",
       "      <td>27</td>\n",
       "      <td>0</td>\n",
       "      <td>28.0</td>\n",
       "      <td>0.586</td>\n",
       "      <td>22</td>\n",
       "      <td>0</td>\n",
       "    </tr>\n",
       "    <tr>\n",
       "      <th>49</th>\n",
       "      <td>7</td>\n",
       "      <td>105</td>\n",
       "      <td>0</td>\n",
       "      <td>0</td>\n",
       "      <td>0</td>\n",
       "      <td>0.0</td>\n",
       "      <td>0.305</td>\n",
       "      <td>24</td>\n",
       "      <td>0</td>\n",
       "    </tr>\n",
       "    <tr>\n",
       "      <th>...</th>\n",
       "      <td>...</td>\n",
       "      <td>...</td>\n",
       "      <td>...</td>\n",
       "      <td>...</td>\n",
       "      <td>...</td>\n",
       "      <td>...</td>\n",
       "      <td>...</td>\n",
       "      <td>...</td>\n",
       "      <td>...</td>\n",
       "    </tr>\n",
       "    <tr>\n",
       "      <th>738</th>\n",
       "      <td>2</td>\n",
       "      <td>99</td>\n",
       "      <td>60</td>\n",
       "      <td>17</td>\n",
       "      <td>160</td>\n",
       "      <td>36.6</td>\n",
       "      <td>0.453</td>\n",
       "      <td>21</td>\n",
       "      <td>0</td>\n",
       "    </tr>\n",
       "    <tr>\n",
       "      <th>742</th>\n",
       "      <td>1</td>\n",
       "      <td>109</td>\n",
       "      <td>58</td>\n",
       "      <td>18</td>\n",
       "      <td>116</td>\n",
       "      <td>28.5</td>\n",
       "      <td>0.219</td>\n",
       "      <td>22</td>\n",
       "      <td>0</td>\n",
       "    </tr>\n",
       "    <tr>\n",
       "      <th>750</th>\n",
       "      <td>4</td>\n",
       "      <td>136</td>\n",
       "      <td>70</td>\n",
       "      <td>0</td>\n",
       "      <td>0</td>\n",
       "      <td>31.2</td>\n",
       "      <td>1.182</td>\n",
       "      <td>22</td>\n",
       "      <td>1</td>\n",
       "    </tr>\n",
       "    <tr>\n",
       "      <th>760</th>\n",
       "      <td>2</td>\n",
       "      <td>88</td>\n",
       "      <td>58</td>\n",
       "      <td>26</td>\n",
       "      <td>16</td>\n",
       "      <td>28.4</td>\n",
       "      <td>0.766</td>\n",
       "      <td>22</td>\n",
       "      <td>0</td>\n",
       "    </tr>\n",
       "    <tr>\n",
       "      <th>767</th>\n",
       "      <td>1</td>\n",
       "      <td>93</td>\n",
       "      <td>70</td>\n",
       "      <td>31</td>\n",
       "      <td>0</td>\n",
       "      <td>30.4</td>\n",
       "      <td>0.315</td>\n",
       "      <td>23</td>\n",
       "      <td>0</td>\n",
       "    </tr>\n",
       "  </tbody>\n",
       "</table>\n",
       "<p>219 rows × 9 columns</p>\n",
       "</div>"
      ],
      "text/plain": [
       "     Pregnancies  Glucose  ...  Age  Outcome\n",
       "3              1       89  ...   21        0\n",
       "27             1       97  ...   22        0\n",
       "32             3       88  ...   22        0\n",
       "47             2       71  ...   22        0\n",
       "49             7      105  ...   24        0\n",
       "..           ...      ...  ...  ...      ...\n",
       "738            2       99  ...   21        0\n",
       "742            1      109  ...   22        0\n",
       "750            4      136  ...   22        1\n",
       "760            2       88  ...   22        0\n",
       "767            1       93  ...   23        0\n",
       "\n",
       "[219 rows x 9 columns]"
      ]
     },
     "execution_count": 116,
     "metadata": {},
     "output_type": "execute_result"
    }
   ],
   "source": [
    "# Filtering\n",
    "young_people = df[df['Age'] < 25]\n",
    "young_people"
   ]
  },
  {
   "cell_type": "code",
   "execution_count": 118,
   "id": "a93109e4",
   "metadata": {},
   "outputs": [
    {
     "data": {
      "text/html": [
       "<div>\n",
       "<style scoped>\n",
       "    .dataframe tbody tr th:only-of-type {\n",
       "        vertical-align: middle;\n",
       "    }\n",
       "\n",
       "    .dataframe tbody tr th {\n",
       "        vertical-align: top;\n",
       "    }\n",
       "\n",
       "    .dataframe thead th {\n",
       "        text-align: right;\n",
       "    }\n",
       "</style>\n",
       "<table border=\"1\" class=\"dataframe\">\n",
       "  <thead>\n",
       "    <tr style=\"text-align: right;\">\n",
       "      <th></th>\n",
       "      <th>Pregnancies</th>\n",
       "      <th>Glucose</th>\n",
       "      <th>BloodPressure</th>\n",
       "      <th>SkinThickness</th>\n",
       "      <th>Insulin</th>\n",
       "      <th>BMI</th>\n",
       "      <th>DiabetesPedigreeFunction</th>\n",
       "      <th>Age</th>\n",
       "      <th>Outcome</th>\n",
       "    </tr>\n",
       "  </thead>\n",
       "  <tbody>\n",
       "    <tr>\n",
       "      <th>255</th>\n",
       "      <td>1</td>\n",
       "      <td>113</td>\n",
       "      <td>64</td>\n",
       "      <td>35</td>\n",
       "      <td>0</td>\n",
       "      <td>33.6</td>\n",
       "      <td>0.543</td>\n",
       "      <td>21</td>\n",
       "      <td>1</td>\n",
       "    </tr>\n",
       "    <tr>\n",
       "      <th>60</th>\n",
       "      <td>2</td>\n",
       "      <td>84</td>\n",
       "      <td>0</td>\n",
       "      <td>0</td>\n",
       "      <td>0</td>\n",
       "      <td>0.0</td>\n",
       "      <td>0.304</td>\n",
       "      <td>21</td>\n",
       "      <td>0</td>\n",
       "    </tr>\n",
       "    <tr>\n",
       "      <th>102</th>\n",
       "      <td>0</td>\n",
       "      <td>125</td>\n",
       "      <td>96</td>\n",
       "      <td>0</td>\n",
       "      <td>0</td>\n",
       "      <td>22.5</td>\n",
       "      <td>0.262</td>\n",
       "      <td>21</td>\n",
       "      <td>0</td>\n",
       "    </tr>\n",
       "    <tr>\n",
       "      <th>182</th>\n",
       "      <td>1</td>\n",
       "      <td>0</td>\n",
       "      <td>74</td>\n",
       "      <td>20</td>\n",
       "      <td>23</td>\n",
       "      <td>27.7</td>\n",
       "      <td>0.299</td>\n",
       "      <td>21</td>\n",
       "      <td>0</td>\n",
       "    </tr>\n",
       "    <tr>\n",
       "      <th>623</th>\n",
       "      <td>0</td>\n",
       "      <td>94</td>\n",
       "      <td>70</td>\n",
       "      <td>27</td>\n",
       "      <td>115</td>\n",
       "      <td>43.5</td>\n",
       "      <td>0.347</td>\n",
       "      <td>21</td>\n",
       "      <td>0</td>\n",
       "    </tr>\n",
       "    <tr>\n",
       "      <th>...</th>\n",
       "      <td>...</td>\n",
       "      <td>...</td>\n",
       "      <td>...</td>\n",
       "      <td>...</td>\n",
       "      <td>...</td>\n",
       "      <td>...</td>\n",
       "      <td>...</td>\n",
       "      <td>...</td>\n",
       "      <td>...</td>\n",
       "    </tr>\n",
       "    <tr>\n",
       "      <th>123</th>\n",
       "      <td>5</td>\n",
       "      <td>132</td>\n",
       "      <td>80</td>\n",
       "      <td>0</td>\n",
       "      <td>0</td>\n",
       "      <td>26.8</td>\n",
       "      <td>0.186</td>\n",
       "      <td>69</td>\n",
       "      <td>0</td>\n",
       "    </tr>\n",
       "    <tr>\n",
       "      <th>684</th>\n",
       "      <td>5</td>\n",
       "      <td>136</td>\n",
       "      <td>82</td>\n",
       "      <td>0</td>\n",
       "      <td>0</td>\n",
       "      <td>0.0</td>\n",
       "      <td>0.640</td>\n",
       "      <td>69</td>\n",
       "      <td>0</td>\n",
       "    </tr>\n",
       "    <tr>\n",
       "      <th>666</th>\n",
       "      <td>4</td>\n",
       "      <td>145</td>\n",
       "      <td>82</td>\n",
       "      <td>18</td>\n",
       "      <td>0</td>\n",
       "      <td>32.5</td>\n",
       "      <td>0.235</td>\n",
       "      <td>70</td>\n",
       "      <td>1</td>\n",
       "    </tr>\n",
       "    <tr>\n",
       "      <th>453</th>\n",
       "      <td>2</td>\n",
       "      <td>119</td>\n",
       "      <td>0</td>\n",
       "      <td>0</td>\n",
       "      <td>0</td>\n",
       "      <td>19.6</td>\n",
       "      <td>0.832</td>\n",
       "      <td>72</td>\n",
       "      <td>0</td>\n",
       "    </tr>\n",
       "    <tr>\n",
       "      <th>459</th>\n",
       "      <td>9</td>\n",
       "      <td>134</td>\n",
       "      <td>74</td>\n",
       "      <td>33</td>\n",
       "      <td>60</td>\n",
       "      <td>25.9</td>\n",
       "      <td>0.460</td>\n",
       "      <td>81</td>\n",
       "      <td>0</td>\n",
       "    </tr>\n",
       "  </tbody>\n",
       "</table>\n",
       "<p>768 rows × 9 columns</p>\n",
       "</div>"
      ],
      "text/plain": [
       "     Pregnancies  Glucose  ...  Age  Outcome\n",
       "255            1      113  ...   21        1\n",
       "60             2       84  ...   21        0\n",
       "102            0      125  ...   21        0\n",
       "182            1        0  ...   21        0\n",
       "623            0       94  ...   21        0\n",
       "..           ...      ...  ...  ...      ...\n",
       "123            5      132  ...   69        0\n",
       "684            5      136  ...   69        0\n",
       "666            4      145  ...   70        1\n",
       "453            2      119  ...   72        0\n",
       "459            9      134  ...   81        0\n",
       "\n",
       "[768 rows x 9 columns]"
      ]
     },
     "execution_count": 118,
     "metadata": {},
     "output_type": "execute_result"
    }
   ],
   "source": [
    "# Sorting\n",
    "sorted_df = df.sort_values(by='Age')\n",
    "sorted_df"
   ]
  },
  {
   "cell_type": "code",
   "execution_count": 120,
   "id": "e99af46e",
   "metadata": {},
   "outputs": [
    {
     "data": {
      "text/html": [
       "<div>\n",
       "<style scoped>\n",
       "    .dataframe tbody tr th:only-of-type {\n",
       "        vertical-align: middle;\n",
       "    }\n",
       "\n",
       "    .dataframe tbody tr th {\n",
       "        vertical-align: top;\n",
       "    }\n",
       "\n",
       "    .dataframe thead th {\n",
       "        text-align: right;\n",
       "    }\n",
       "</style>\n",
       "<table border=\"1\" class=\"dataframe\">\n",
       "  <thead>\n",
       "    <tr style=\"text-align: right;\">\n",
       "      <th></th>\n",
       "      <th>Glucose</th>\n",
       "      <th>BloodPressure</th>\n",
       "      <th>SkinThickness</th>\n",
       "      <th>Insulin</th>\n",
       "      <th>BMI</th>\n",
       "      <th>DiabetesPedigreeFunction</th>\n",
       "      <th>Age</th>\n",
       "      <th>Outcome</th>\n",
       "    </tr>\n",
       "    <tr>\n",
       "      <th>Pregnancies</th>\n",
       "      <th></th>\n",
       "      <th></th>\n",
       "      <th></th>\n",
       "      <th></th>\n",
       "      <th></th>\n",
       "      <th></th>\n",
       "      <th></th>\n",
       "      <th></th>\n",
       "    </tr>\n",
       "  </thead>\n",
       "  <tbody>\n",
       "    <tr>\n",
       "      <th>0</th>\n",
       "      <td>123.000000</td>\n",
       "      <td>67.153153</td>\n",
       "      <td>22.270270</td>\n",
       "      <td>81.675676</td>\n",
       "      <td>34.290090</td>\n",
       "      <td>0.520838</td>\n",
       "      <td>27.603604</td>\n",
       "      <td>0.342342</td>\n",
       "    </tr>\n",
       "    <tr>\n",
       "      <th>1</th>\n",
       "      <td>112.748148</td>\n",
       "      <td>67.792593</td>\n",
       "      <td>24.437037</td>\n",
       "      <td>98.674074</td>\n",
       "      <td>31.372593</td>\n",
       "      <td>0.486496</td>\n",
       "      <td>27.370370</td>\n",
       "      <td>0.214815</td>\n",
       "    </tr>\n",
       "    <tr>\n",
       "      <th>2</th>\n",
       "      <td>110.796117</td>\n",
       "      <td>63.252427</td>\n",
       "      <td>21.601942</td>\n",
       "      <td>85.844660</td>\n",
       "      <td>30.583495</td>\n",
       "      <td>0.491660</td>\n",
       "      <td>27.194175</td>\n",
       "      <td>0.184466</td>\n",
       "    </tr>\n",
       "    <tr>\n",
       "      <th>3</th>\n",
       "      <td>123.586667</td>\n",
       "      <td>66.586667</td>\n",
       "      <td>20.080000</td>\n",
       "      <td>87.453333</td>\n",
       "      <td>30.425333</td>\n",
       "      <td>0.432147</td>\n",
       "      <td>29.026667</td>\n",
       "      <td>0.360000</td>\n",
       "    </tr>\n",
       "    <tr>\n",
       "      <th>4</th>\n",
       "      <td>125.117647</td>\n",
       "      <td>70.029412</td>\n",
       "      <td>15.882353</td>\n",
       "      <td>69.441176</td>\n",
       "      <td>32.141176</td>\n",
       "      <td>0.446353</td>\n",
       "      <td>32.779412</td>\n",
       "      <td>0.338235</td>\n",
       "    </tr>\n",
       "    <tr>\n",
       "      <th>5</th>\n",
       "      <td>118.859649</td>\n",
       "      <td>76.210526</td>\n",
       "      <td>17.385965</td>\n",
       "      <td>57.298246</td>\n",
       "      <td>33.192982</td>\n",
       "      <td>0.396421</td>\n",
       "      <td>39.035088</td>\n",
       "      <td>0.368421</td>\n",
       "    </tr>\n",
       "    <tr>\n",
       "      <th>6</th>\n",
       "      <td>120.800000</td>\n",
       "      <td>68.420000</td>\n",
       "      <td>17.640000</td>\n",
       "      <td>63.580000</td>\n",
       "      <td>30.290000</td>\n",
       "      <td>0.429520</td>\n",
       "      <td>39.340000</td>\n",
       "      <td>0.320000</td>\n",
       "    </tr>\n",
       "    <tr>\n",
       "      <th>7</th>\n",
       "      <td>136.444444</td>\n",
       "      <td>70.777778</td>\n",
       "      <td>20.288889</td>\n",
       "      <td>84.466667</td>\n",
       "      <td>32.631111</td>\n",
       "      <td>0.443622</td>\n",
       "      <td>41.111111</td>\n",
       "      <td>0.555556</td>\n",
       "    </tr>\n",
       "    <tr>\n",
       "      <th>8</th>\n",
       "      <td>131.736842</td>\n",
       "      <td>75.184211</td>\n",
       "      <td>17.315789</td>\n",
       "      <td>92.815789</td>\n",
       "      <td>31.568421</td>\n",
       "      <td>0.504711</td>\n",
       "      <td>45.368421</td>\n",
       "      <td>0.578947</td>\n",
       "    </tr>\n",
       "    <tr>\n",
       "      <th>9</th>\n",
       "      <td>131.392857</td>\n",
       "      <td>77.892857</td>\n",
       "      <td>20.892857</td>\n",
       "      <td>62.428571</td>\n",
       "      <td>31.707143</td>\n",
       "      <td>0.550679</td>\n",
       "      <td>44.178571</td>\n",
       "      <td>0.642857</td>\n",
       "    </tr>\n",
       "    <tr>\n",
       "      <th>10</th>\n",
       "      <td>120.916667</td>\n",
       "      <td>70.208333</td>\n",
       "      <td>15.708333</td>\n",
       "      <td>34.791667</td>\n",
       "      <td>30.641667</td>\n",
       "      <td>0.454167</td>\n",
       "      <td>42.666667</td>\n",
       "      <td>0.416667</td>\n",
       "    </tr>\n",
       "    <tr>\n",
       "      <th>11</th>\n",
       "      <td>126.454545</td>\n",
       "      <td>74.181818</td>\n",
       "      <td>21.727273</td>\n",
       "      <td>65.454545</td>\n",
       "      <td>38.563636</td>\n",
       "      <td>0.522545</td>\n",
       "      <td>44.545455</td>\n",
       "      <td>0.636364</td>\n",
       "    </tr>\n",
       "    <tr>\n",
       "      <th>12</th>\n",
       "      <td>113.555556</td>\n",
       "      <td>76.333333</td>\n",
       "      <td>27.111111</td>\n",
       "      <td>112.555556</td>\n",
       "      <td>32.344444</td>\n",
       "      <td>0.444333</td>\n",
       "      <td>47.444444</td>\n",
       "      <td>0.444444</td>\n",
       "    </tr>\n",
       "    <tr>\n",
       "      <th>13</th>\n",
       "      <td>125.500000</td>\n",
       "      <td>73.800000</td>\n",
       "      <td>17.300000</td>\n",
       "      <td>27.900000</td>\n",
       "      <td>35.000000</td>\n",
       "      <td>0.463300</td>\n",
       "      <td>44.500000</td>\n",
       "      <td>0.500000</td>\n",
       "    </tr>\n",
       "    <tr>\n",
       "      <th>14</th>\n",
       "      <td>137.500000</td>\n",
       "      <td>70.000000</td>\n",
       "      <td>27.500000</td>\n",
       "      <td>92.000000</td>\n",
       "      <td>35.100000</td>\n",
       "      <td>0.312000</td>\n",
       "      <td>42.000000</td>\n",
       "      <td>1.000000</td>\n",
       "    </tr>\n",
       "    <tr>\n",
       "      <th>15</th>\n",
       "      <td>136.000000</td>\n",
       "      <td>70.000000</td>\n",
       "      <td>32.000000</td>\n",
       "      <td>110.000000</td>\n",
       "      <td>37.100000</td>\n",
       "      <td>0.153000</td>\n",
       "      <td>43.000000</td>\n",
       "      <td>1.000000</td>\n",
       "    </tr>\n",
       "    <tr>\n",
       "      <th>17</th>\n",
       "      <td>163.000000</td>\n",
       "      <td>72.000000</td>\n",
       "      <td>41.000000</td>\n",
       "      <td>114.000000</td>\n",
       "      <td>40.900000</td>\n",
       "      <td>0.817000</td>\n",
       "      <td>47.000000</td>\n",
       "      <td>1.000000</td>\n",
       "    </tr>\n",
       "  </tbody>\n",
       "</table>\n",
       "</div>"
      ],
      "text/plain": [
       "                Glucose  BloodPressure  ...        Age   Outcome\n",
       "Pregnancies                             ...                     \n",
       "0            123.000000      67.153153  ...  27.603604  0.342342\n",
       "1            112.748148      67.792593  ...  27.370370  0.214815\n",
       "2            110.796117      63.252427  ...  27.194175  0.184466\n",
       "3            123.586667      66.586667  ...  29.026667  0.360000\n",
       "4            125.117647      70.029412  ...  32.779412  0.338235\n",
       "5            118.859649      76.210526  ...  39.035088  0.368421\n",
       "6            120.800000      68.420000  ...  39.340000  0.320000\n",
       "7            136.444444      70.777778  ...  41.111111  0.555556\n",
       "8            131.736842      75.184211  ...  45.368421  0.578947\n",
       "9            131.392857      77.892857  ...  44.178571  0.642857\n",
       "10           120.916667      70.208333  ...  42.666667  0.416667\n",
       "11           126.454545      74.181818  ...  44.545455  0.636364\n",
       "12           113.555556      76.333333  ...  47.444444  0.444444\n",
       "13           125.500000      73.800000  ...  44.500000  0.500000\n",
       "14           137.500000      70.000000  ...  42.000000  1.000000\n",
       "15           136.000000      70.000000  ...  43.000000  1.000000\n",
       "17           163.000000      72.000000  ...  47.000000  1.000000\n",
       "\n",
       "[17 rows x 8 columns]"
      ]
     },
     "execution_count": 120,
     "metadata": {},
     "output_type": "execute_result"
    }
   ],
   "source": [
    "# Grouping\n",
    "grouped_by_preg = df.groupby('Pregnancies').mean()\n",
    "grouped_by_preg"
   ]
  },
  {
   "cell_type": "code",
   "execution_count": 122,
   "id": "e053b5e4",
   "metadata": {},
   "outputs": [
    {
     "data": {
      "text/html": [
       "<div>\n",
       "<style scoped>\n",
       "    .dataframe tbody tr th:only-of-type {\n",
       "        vertical-align: middle;\n",
       "    }\n",
       "\n",
       "    .dataframe tbody tr th {\n",
       "        vertical-align: top;\n",
       "    }\n",
       "\n",
       "    .dataframe thead th {\n",
       "        text-align: right;\n",
       "    }\n",
       "</style>\n",
       "<table border=\"1\" class=\"dataframe\">\n",
       "  <thead>\n",
       "    <tr style=\"text-align: right;\">\n",
       "      <th></th>\n",
       "      <th>Pregnancies</th>\n",
       "      <th>Glucose</th>\n",
       "      <th>BloodPressure</th>\n",
       "      <th>SkinThickness</th>\n",
       "      <th>Insulin</th>\n",
       "      <th>BMI</th>\n",
       "      <th>DiabetesPedigreeFunction</th>\n",
       "      <th>Outcome</th>\n",
       "    </tr>\n",
       "    <tr>\n",
       "      <th>Age</th>\n",
       "      <th></th>\n",
       "      <th></th>\n",
       "      <th></th>\n",
       "      <th></th>\n",
       "      <th></th>\n",
       "      <th></th>\n",
       "      <th></th>\n",
       "      <th></th>\n",
       "    </tr>\n",
       "  </thead>\n",
       "  <tbody>\n",
       "    <tr>\n",
       "      <th>21</th>\n",
       "      <td>1.079365</td>\n",
       "      <td>108.317460</td>\n",
       "      <td>65.936508</td>\n",
       "      <td>19.349206</td>\n",
       "      <td>73.634921</td>\n",
       "      <td>27.817460</td>\n",
       "      <td>0.433825</td>\n",
       "      <td>0.079365</td>\n",
       "    </tr>\n",
       "    <tr>\n",
       "      <th>22</th>\n",
       "      <td>1.555556</td>\n",
       "      <td>108.208333</td>\n",
       "      <td>63.722222</td>\n",
       "      <td>20.486111</td>\n",
       "      <td>74.486111</td>\n",
       "      <td>29.509722</td>\n",
       "      <td>0.430625</td>\n",
       "      <td>0.152778</td>\n",
       "    </tr>\n",
       "    <tr>\n",
       "      <th>23</th>\n",
       "      <td>1.578947</td>\n",
       "      <td>111.578947</td>\n",
       "      <td>64.315789</td>\n",
       "      <td>22.368421</td>\n",
       "      <td>118.026316</td>\n",
       "      <td>31.502632</td>\n",
       "      <td>0.438579</td>\n",
       "      <td>0.184211</td>\n",
       "    </tr>\n",
       "    <tr>\n",
       "      <th>24</th>\n",
       "      <td>1.891304</td>\n",
       "      <td>117.891304</td>\n",
       "      <td>64.956522</td>\n",
       "      <td>25.934783</td>\n",
       "      <td>88.021739</td>\n",
       "      <td>32.569565</td>\n",
       "      <td>0.393565</td>\n",
       "      <td>0.173913</td>\n",
       "    </tr>\n",
       "    <tr>\n",
       "      <th>25</th>\n",
       "      <td>1.770833</td>\n",
       "      <td>110.083333</td>\n",
       "      <td>59.666667</td>\n",
       "      <td>23.958333</td>\n",
       "      <td>82.895833</td>\n",
       "      <td>31.943750</td>\n",
       "      <td>0.600500</td>\n",
       "      <td>0.291667</td>\n",
       "    </tr>\n",
       "    <tr>\n",
       "      <th>26</th>\n",
       "      <td>1.969697</td>\n",
       "      <td>118.212121</td>\n",
       "      <td>64.181818</td>\n",
       "      <td>23.666667</td>\n",
       "      <td>90.878788</td>\n",
       "      <td>34.915152</td>\n",
       "      <td>0.413455</td>\n",
       "      <td>0.242424</td>\n",
       "    </tr>\n",
       "    <tr>\n",
       "      <th>27</th>\n",
       "      <td>2.562500</td>\n",
       "      <td>115.281250</td>\n",
       "      <td>73.500000</td>\n",
       "      <td>18.375000</td>\n",
       "      <td>63.125000</td>\n",
       "      <td>31.950000</td>\n",
       "      <td>0.471750</td>\n",
       "      <td>0.250000</td>\n",
       "    </tr>\n",
       "    <tr>\n",
       "      <th>28</th>\n",
       "      <td>3.028571</td>\n",
       "      <td>119.914286</td>\n",
       "      <td>68.314286</td>\n",
       "      <td>23.628571</td>\n",
       "      <td>94.600000</td>\n",
       "      <td>33.642857</td>\n",
       "      <td>0.459629</td>\n",
       "      <td>0.285714</td>\n",
       "    </tr>\n",
       "    <tr>\n",
       "      <th>29</th>\n",
       "      <td>3.310345</td>\n",
       "      <td>127.379310</td>\n",
       "      <td>68.241379</td>\n",
       "      <td>21.000000</td>\n",
       "      <td>88.793103</td>\n",
       "      <td>33.541379</td>\n",
       "      <td>0.408897</td>\n",
       "      <td>0.448276</td>\n",
       "    </tr>\n",
       "    <tr>\n",
       "      <th>30</th>\n",
       "      <td>3.619048</td>\n",
       "      <td>122.285714</td>\n",
       "      <td>64.857143</td>\n",
       "      <td>18.904762</td>\n",
       "      <td>82.666667</td>\n",
       "      <td>30.033333</td>\n",
       "      <td>0.367238</td>\n",
       "      <td>0.285714</td>\n",
       "    </tr>\n",
       "    <tr>\n",
       "      <th>31</th>\n",
       "      <td>3.875000</td>\n",
       "      <td>126.958333</td>\n",
       "      <td>64.375000</td>\n",
       "      <td>20.000000</td>\n",
       "      <td>111.166667</td>\n",
       "      <td>34.016667</td>\n",
       "      <td>0.589583</td>\n",
       "      <td>0.541667</td>\n",
       "    </tr>\n",
       "    <tr>\n",
       "      <th>32</th>\n",
       "      <td>4.437500</td>\n",
       "      <td>116.312500</td>\n",
       "      <td>70.062500</td>\n",
       "      <td>18.187500</td>\n",
       "      <td>35.812500</td>\n",
       "      <td>32.318750</td>\n",
       "      <td>0.613250</td>\n",
       "      <td>0.562500</td>\n",
       "    </tr>\n",
       "    <tr>\n",
       "      <th>33</th>\n",
       "      <td>4.058824</td>\n",
       "      <td>122.882353</td>\n",
       "      <td>65.647059</td>\n",
       "      <td>21.705882</td>\n",
       "      <td>85.588235</td>\n",
       "      <td>32.335294</td>\n",
       "      <td>0.734176</td>\n",
       "      <td>0.588235</td>\n",
       "    </tr>\n",
       "    <tr>\n",
       "      <th>34</th>\n",
       "      <td>5.857143</td>\n",
       "      <td>131.857143</td>\n",
       "      <td>74.000000</td>\n",
       "      <td>18.714286</td>\n",
       "      <td>148.071429</td>\n",
       "      <td>31.164286</td>\n",
       "      <td>0.649857</td>\n",
       "      <td>0.285714</td>\n",
       "    </tr>\n",
       "    <tr>\n",
       "      <th>35</th>\n",
       "      <td>5.000000</td>\n",
       "      <td>121.400000</td>\n",
       "      <td>75.600000</td>\n",
       "      <td>22.600000</td>\n",
       "      <td>75.000000</td>\n",
       "      <td>33.780000</td>\n",
       "      <td>0.454000</td>\n",
       "      <td>0.500000</td>\n",
       "    </tr>\n",
       "    <tr>\n",
       "      <th>36</th>\n",
       "      <td>5.187500</td>\n",
       "      <td>132.437500</td>\n",
       "      <td>69.125000</td>\n",
       "      <td>19.187500</td>\n",
       "      <td>65.812500</td>\n",
       "      <td>31.718750</td>\n",
       "      <td>0.472875</td>\n",
       "      <td>0.625000</td>\n",
       "    </tr>\n",
       "    <tr>\n",
       "      <th>37</th>\n",
       "      <td>5.263158</td>\n",
       "      <td>130.157895</td>\n",
       "      <td>75.947368</td>\n",
       "      <td>18.315789</td>\n",
       "      <td>59.263158</td>\n",
       "      <td>32.078947</td>\n",
       "      <td>0.414632</td>\n",
       "      <td>0.315789</td>\n",
       "    </tr>\n",
       "    <tr>\n",
       "      <th>38</th>\n",
       "      <td>6.875000</td>\n",
       "      <td>121.125000</td>\n",
       "      <td>71.125000</td>\n",
       "      <td>19.625000</td>\n",
       "      <td>33.500000</td>\n",
       "      <td>35.568750</td>\n",
       "      <td>0.413938</td>\n",
       "      <td>0.625000</td>\n",
       "    </tr>\n",
       "    <tr>\n",
       "      <th>39</th>\n",
       "      <td>7.416667</td>\n",
       "      <td>126.750000</td>\n",
       "      <td>72.666667</td>\n",
       "      <td>26.083333</td>\n",
       "      <td>72.416667</td>\n",
       "      <td>31.983333</td>\n",
       "      <td>0.605917</td>\n",
       "      <td>0.250000</td>\n",
       "    </tr>\n",
       "    <tr>\n",
       "      <th>40</th>\n",
       "      <td>6.230769</td>\n",
       "      <td>130.923077</td>\n",
       "      <td>69.230769</td>\n",
       "      <td>24.230769</td>\n",
       "      <td>72.307692</td>\n",
       "      <td>33.538462</td>\n",
       "      <td>0.376077</td>\n",
       "      <td>0.461538</td>\n",
       "    </tr>\n",
       "    <tr>\n",
       "      <th>41</th>\n",
       "      <td>6.500000</td>\n",
       "      <td>129.090909</td>\n",
       "      <td>67.590909</td>\n",
       "      <td>17.409091</td>\n",
       "      <td>38.818182</td>\n",
       "      <td>35.259091</td>\n",
       "      <td>0.396273</td>\n",
       "      <td>0.590909</td>\n",
       "    </tr>\n",
       "    <tr>\n",
       "      <th>42</th>\n",
       "      <td>6.888889</td>\n",
       "      <td>109.555556</td>\n",
       "      <td>73.388889</td>\n",
       "      <td>19.222222</td>\n",
       "      <td>61.277778</td>\n",
       "      <td>34.983333</td>\n",
       "      <td>0.388000</td>\n",
       "      <td>0.388889</td>\n",
       "    </tr>\n",
       "    <tr>\n",
       "      <th>43</th>\n",
       "      <td>7.769231</td>\n",
       "      <td>133.000000</td>\n",
       "      <td>78.461538</td>\n",
       "      <td>27.846154</td>\n",
       "      <td>125.153846</td>\n",
       "      <td>36.892308</td>\n",
       "      <td>0.450846</td>\n",
       "      <td>0.846154</td>\n",
       "    </tr>\n",
       "    <tr>\n",
       "      <th>44</th>\n",
       "      <td>7.250000</td>\n",
       "      <td>124.375000</td>\n",
       "      <td>61.750000</td>\n",
       "      <td>4.625000</td>\n",
       "      <td>32.250000</td>\n",
       "      <td>34.162500</td>\n",
       "      <td>0.668375</td>\n",
       "      <td>0.625000</td>\n",
       "    </tr>\n",
       "    <tr>\n",
       "      <th>45</th>\n",
       "      <td>7.333333</td>\n",
       "      <td>131.200000</td>\n",
       "      <td>83.066667</td>\n",
       "      <td>20.600000</td>\n",
       "      <td>31.133333</td>\n",
       "      <td>34.960000</td>\n",
       "      <td>0.496467</td>\n",
       "      <td>0.533333</td>\n",
       "    </tr>\n",
       "    <tr>\n",
       "      <th>46</th>\n",
       "      <td>6.384615</td>\n",
       "      <td>105.923077</td>\n",
       "      <td>76.000000</td>\n",
       "      <td>24.153846</td>\n",
       "      <td>112.307692</td>\n",
       "      <td>34.523077</td>\n",
       "      <td>0.426846</td>\n",
       "      <td>0.538462</td>\n",
       "    </tr>\n",
       "    <tr>\n",
       "      <th>47</th>\n",
       "      <td>8.333333</td>\n",
       "      <td>137.000000</td>\n",
       "      <td>78.333333</td>\n",
       "      <td>14.500000</td>\n",
       "      <td>49.166667</td>\n",
       "      <td>34.566667</td>\n",
       "      <td>0.355333</td>\n",
       "      <td>0.666667</td>\n",
       "    </tr>\n",
       "    <tr>\n",
       "      <th>48</th>\n",
       "      <td>8.800000</td>\n",
       "      <td>107.600000</td>\n",
       "      <td>78.400000</td>\n",
       "      <td>23.400000</td>\n",
       "      <td>52.000000</td>\n",
       "      <td>29.980000</td>\n",
       "      <td>0.456800</td>\n",
       "      <td>0.200000</td>\n",
       "    </tr>\n",
       "    <tr>\n",
       "      <th>49</th>\n",
       "      <td>7.600000</td>\n",
       "      <td>153.000000</td>\n",
       "      <td>81.400000</td>\n",
       "      <td>21.600000</td>\n",
       "      <td>55.200000</td>\n",
       "      <td>32.020000</td>\n",
       "      <td>0.612000</td>\n",
       "      <td>0.600000</td>\n",
       "    </tr>\n",
       "    <tr>\n",
       "      <th>50</th>\n",
       "      <td>6.750000</td>\n",
       "      <td>138.250000</td>\n",
       "      <td>78.250000</td>\n",
       "      <td>16.000000</td>\n",
       "      <td>26.375000</td>\n",
       "      <td>31.225000</td>\n",
       "      <td>0.470125</td>\n",
       "      <td>0.625000</td>\n",
       "    </tr>\n",
       "    <tr>\n",
       "      <th>51</th>\n",
       "      <td>8.625000</td>\n",
       "      <td>147.625000</td>\n",
       "      <td>84.500000</td>\n",
       "      <td>21.875000</td>\n",
       "      <td>129.375000</td>\n",
       "      <td>33.975000</td>\n",
       "      <td>0.615250</td>\n",
       "      <td>0.625000</td>\n",
       "    </tr>\n",
       "    <tr>\n",
       "      <th>52</th>\n",
       "      <td>4.625000</td>\n",
       "      <td>133.000000</td>\n",
       "      <td>81.500000</td>\n",
       "      <td>13.375000</td>\n",
       "      <td>94.500000</td>\n",
       "      <td>33.475000</td>\n",
       "      <td>0.505375</td>\n",
       "      <td>0.875000</td>\n",
       "    </tr>\n",
       "    <tr>\n",
       "      <th>53</th>\n",
       "      <td>5.400000</td>\n",
       "      <td>158.000000</td>\n",
       "      <td>79.000000</td>\n",
       "      <td>21.200000</td>\n",
       "      <td>183.000000</td>\n",
       "      <td>30.500000</td>\n",
       "      <td>0.550600</td>\n",
       "      <td>0.800000</td>\n",
       "    </tr>\n",
       "    <tr>\n",
       "      <th>54</th>\n",
       "      <td>7.000000</td>\n",
       "      <td>140.333333</td>\n",
       "      <td>89.333333</td>\n",
       "      <td>8.833333</td>\n",
       "      <td>61.000000</td>\n",
       "      <td>30.800000</td>\n",
       "      <td>0.465500</td>\n",
       "      <td>0.666667</td>\n",
       "    </tr>\n",
       "    <tr>\n",
       "      <th>55</th>\n",
       "      <td>5.500000</td>\n",
       "      <td>140.750000</td>\n",
       "      <td>70.250000</td>\n",
       "      <td>16.250000</td>\n",
       "      <td>83.750000</td>\n",
       "      <td>27.025000</td>\n",
       "      <td>0.226500</td>\n",
       "      <td>0.250000</td>\n",
       "    </tr>\n",
       "    <tr>\n",
       "      <th>56</th>\n",
       "      <td>8.000000</td>\n",
       "      <td>98.333333</td>\n",
       "      <td>76.333333</td>\n",
       "      <td>32.333333</td>\n",
       "      <td>69.000000</td>\n",
       "      <td>31.700000</td>\n",
       "      <td>0.936667</td>\n",
       "      <td>0.666667</td>\n",
       "    </tr>\n",
       "    <tr>\n",
       "      <th>57</th>\n",
       "      <td>8.800000</td>\n",
       "      <td>137.800000</td>\n",
       "      <td>76.800000</td>\n",
       "      <td>9.600000</td>\n",
       "      <td>78.000000</td>\n",
       "      <td>29.700000</td>\n",
       "      <td>0.704000</td>\n",
       "      <td>0.200000</td>\n",
       "    </tr>\n",
       "    <tr>\n",
       "      <th>58</th>\n",
       "      <td>7.142857</td>\n",
       "      <td>135.142857</td>\n",
       "      <td>78.285714</td>\n",
       "      <td>19.285714</td>\n",
       "      <td>167.857143</td>\n",
       "      <td>32.428571</td>\n",
       "      <td>0.554714</td>\n",
       "      <td>0.428571</td>\n",
       "    </tr>\n",
       "    <tr>\n",
       "      <th>59</th>\n",
       "      <td>2.333333</td>\n",
       "      <td>173.333333</td>\n",
       "      <td>74.000000</td>\n",
       "      <td>16.666667</td>\n",
       "      <td>282.000000</td>\n",
       "      <td>26.966667</td>\n",
       "      <td>0.252667</td>\n",
       "      <td>0.666667</td>\n",
       "    </tr>\n",
       "    <tr>\n",
       "      <th>60</th>\n",
       "      <td>6.000000</td>\n",
       "      <td>146.400000</td>\n",
       "      <td>80.000000</td>\n",
       "      <td>20.000000</td>\n",
       "      <td>164.200000</td>\n",
       "      <td>28.740000</td>\n",
       "      <td>0.436800</td>\n",
       "      <td>0.400000</td>\n",
       "    </tr>\n",
       "    <tr>\n",
       "      <th>61</th>\n",
       "      <td>5.500000</td>\n",
       "      <td>144.000000</td>\n",
       "      <td>76.000000</td>\n",
       "      <td>16.500000</td>\n",
       "      <td>95.000000</td>\n",
       "      <td>30.000000</td>\n",
       "      <td>0.613000</td>\n",
       "      <td>0.500000</td>\n",
       "    </tr>\n",
       "    <tr>\n",
       "      <th>62</th>\n",
       "      <td>3.750000</td>\n",
       "      <td>139.500000</td>\n",
       "      <td>71.500000</td>\n",
       "      <td>29.000000</td>\n",
       "      <td>0.000000</td>\n",
       "      <td>28.950000</td>\n",
       "      <td>0.565500</td>\n",
       "      <td>0.500000</td>\n",
       "    </tr>\n",
       "    <tr>\n",
       "      <th>63</th>\n",
       "      <td>5.500000</td>\n",
       "      <td>133.250000</td>\n",
       "      <td>78.000000</td>\n",
       "      <td>23.500000</td>\n",
       "      <td>45.000000</td>\n",
       "      <td>30.775000</td>\n",
       "      <td>0.249250</td>\n",
       "      <td>0.000000</td>\n",
       "    </tr>\n",
       "    <tr>\n",
       "      <th>64</th>\n",
       "      <td>8.000000</td>\n",
       "      <td>120.000000</td>\n",
       "      <td>78.000000</td>\n",
       "      <td>0.000000</td>\n",
       "      <td>0.000000</td>\n",
       "      <td>25.000000</td>\n",
       "      <td>0.409000</td>\n",
       "      <td>0.000000</td>\n",
       "    </tr>\n",
       "    <tr>\n",
       "      <th>65</th>\n",
       "      <td>3.333333</td>\n",
       "      <td>137.000000</td>\n",
       "      <td>78.666667</td>\n",
       "      <td>12.333333</td>\n",
       "      <td>0.000000</td>\n",
       "      <td>31.600000</td>\n",
       "      <td>0.259000</td>\n",
       "      <td>0.000000</td>\n",
       "    </tr>\n",
       "    <tr>\n",
       "      <th>66</th>\n",
       "      <td>5.000000</td>\n",
       "      <td>157.000000</td>\n",
       "      <td>86.000000</td>\n",
       "      <td>0.000000</td>\n",
       "      <td>0.000000</td>\n",
       "      <td>30.375000</td>\n",
       "      <td>0.408500</td>\n",
       "      <td>0.500000</td>\n",
       "    </tr>\n",
       "    <tr>\n",
       "      <th>67</th>\n",
       "      <td>4.000000</td>\n",
       "      <td>132.333333</td>\n",
       "      <td>72.666667</td>\n",
       "      <td>0.000000</td>\n",
       "      <td>0.000000</td>\n",
       "      <td>28.766667</td>\n",
       "      <td>0.602000</td>\n",
       "      <td>0.333333</td>\n",
       "    </tr>\n",
       "    <tr>\n",
       "      <th>68</th>\n",
       "      <td>8.000000</td>\n",
       "      <td>91.000000</td>\n",
       "      <td>82.000000</td>\n",
       "      <td>0.000000</td>\n",
       "      <td>0.000000</td>\n",
       "      <td>35.600000</td>\n",
       "      <td>0.587000</td>\n",
       "      <td>0.000000</td>\n",
       "    </tr>\n",
       "    <tr>\n",
       "      <th>69</th>\n",
       "      <td>5.000000</td>\n",
       "      <td>134.000000</td>\n",
       "      <td>81.000000</td>\n",
       "      <td>0.000000</td>\n",
       "      <td>0.000000</td>\n",
       "      <td>13.400000</td>\n",
       "      <td>0.413000</td>\n",
       "      <td>0.000000</td>\n",
       "    </tr>\n",
       "    <tr>\n",
       "      <th>70</th>\n",
       "      <td>4.000000</td>\n",
       "      <td>145.000000</td>\n",
       "      <td>82.000000</td>\n",
       "      <td>18.000000</td>\n",
       "      <td>0.000000</td>\n",
       "      <td>32.500000</td>\n",
       "      <td>0.235000</td>\n",
       "      <td>1.000000</td>\n",
       "    </tr>\n",
       "    <tr>\n",
       "      <th>72</th>\n",
       "      <td>2.000000</td>\n",
       "      <td>119.000000</td>\n",
       "      <td>0.000000</td>\n",
       "      <td>0.000000</td>\n",
       "      <td>0.000000</td>\n",
       "      <td>19.600000</td>\n",
       "      <td>0.832000</td>\n",
       "      <td>0.000000</td>\n",
       "    </tr>\n",
       "    <tr>\n",
       "      <th>81</th>\n",
       "      <td>9.000000</td>\n",
       "      <td>134.000000</td>\n",
       "      <td>74.000000</td>\n",
       "      <td>33.000000</td>\n",
       "      <td>60.000000</td>\n",
       "      <td>25.900000</td>\n",
       "      <td>0.460000</td>\n",
       "      <td>0.000000</td>\n",
       "    </tr>\n",
       "  </tbody>\n",
       "</table>\n",
       "</div>"
      ],
      "text/plain": [
       "     Pregnancies     Glucose  ...  DiabetesPedigreeFunction   Outcome\n",
       "Age                           ...                                    \n",
       "21      1.079365  108.317460  ...                  0.433825  0.079365\n",
       "22      1.555556  108.208333  ...                  0.430625  0.152778\n",
       "23      1.578947  111.578947  ...                  0.438579  0.184211\n",
       "24      1.891304  117.891304  ...                  0.393565  0.173913\n",
       "25      1.770833  110.083333  ...                  0.600500  0.291667\n",
       "26      1.969697  118.212121  ...                  0.413455  0.242424\n",
       "27      2.562500  115.281250  ...                  0.471750  0.250000\n",
       "28      3.028571  119.914286  ...                  0.459629  0.285714\n",
       "29      3.310345  127.379310  ...                  0.408897  0.448276\n",
       "30      3.619048  122.285714  ...                  0.367238  0.285714\n",
       "31      3.875000  126.958333  ...                  0.589583  0.541667\n",
       "32      4.437500  116.312500  ...                  0.613250  0.562500\n",
       "33      4.058824  122.882353  ...                  0.734176  0.588235\n",
       "34      5.857143  131.857143  ...                  0.649857  0.285714\n",
       "35      5.000000  121.400000  ...                  0.454000  0.500000\n",
       "36      5.187500  132.437500  ...                  0.472875  0.625000\n",
       "37      5.263158  130.157895  ...                  0.414632  0.315789\n",
       "38      6.875000  121.125000  ...                  0.413938  0.625000\n",
       "39      7.416667  126.750000  ...                  0.605917  0.250000\n",
       "40      6.230769  130.923077  ...                  0.376077  0.461538\n",
       "41      6.500000  129.090909  ...                  0.396273  0.590909\n",
       "42      6.888889  109.555556  ...                  0.388000  0.388889\n",
       "43      7.769231  133.000000  ...                  0.450846  0.846154\n",
       "44      7.250000  124.375000  ...                  0.668375  0.625000\n",
       "45      7.333333  131.200000  ...                  0.496467  0.533333\n",
       "46      6.384615  105.923077  ...                  0.426846  0.538462\n",
       "47      8.333333  137.000000  ...                  0.355333  0.666667\n",
       "48      8.800000  107.600000  ...                  0.456800  0.200000\n",
       "49      7.600000  153.000000  ...                  0.612000  0.600000\n",
       "50      6.750000  138.250000  ...                  0.470125  0.625000\n",
       "51      8.625000  147.625000  ...                  0.615250  0.625000\n",
       "52      4.625000  133.000000  ...                  0.505375  0.875000\n",
       "53      5.400000  158.000000  ...                  0.550600  0.800000\n",
       "54      7.000000  140.333333  ...                  0.465500  0.666667\n",
       "55      5.500000  140.750000  ...                  0.226500  0.250000\n",
       "56      8.000000   98.333333  ...                  0.936667  0.666667\n",
       "57      8.800000  137.800000  ...                  0.704000  0.200000\n",
       "58      7.142857  135.142857  ...                  0.554714  0.428571\n",
       "59      2.333333  173.333333  ...                  0.252667  0.666667\n",
       "60      6.000000  146.400000  ...                  0.436800  0.400000\n",
       "61      5.500000  144.000000  ...                  0.613000  0.500000\n",
       "62      3.750000  139.500000  ...                  0.565500  0.500000\n",
       "63      5.500000  133.250000  ...                  0.249250  0.000000\n",
       "64      8.000000  120.000000  ...                  0.409000  0.000000\n",
       "65      3.333333  137.000000  ...                  0.259000  0.000000\n",
       "66      5.000000  157.000000  ...                  0.408500  0.500000\n",
       "67      4.000000  132.333333  ...                  0.602000  0.333333\n",
       "68      8.000000   91.000000  ...                  0.587000  0.000000\n",
       "69      5.000000  134.000000  ...                  0.413000  0.000000\n",
       "70      4.000000  145.000000  ...                  0.235000  1.000000\n",
       "72      2.000000  119.000000  ...                  0.832000  0.000000\n",
       "81      9.000000  134.000000  ...                  0.460000  0.000000\n",
       "\n",
       "[52 rows x 8 columns]"
      ]
     },
     "execution_count": 122,
     "metadata": {},
     "output_type": "execute_result"
    }
   ],
   "source": [
    "# Grouping\n",
    "grouped_by_preg = df.groupby('Age').mean()\n",
    "grouped_by_preg"
   ]
  },
  {
   "cell_type": "code",
   "execution_count": 127,
   "id": "08ddc111",
   "metadata": {},
   "outputs": [
    {
     "name": "stdout",
     "output_type": "stream",
     "text": [
      "Data:\n",
      "      name  age\n",
      "0   govind   34\n",
      "1  kavitha   32\n",
      "\n",
      "Merged DataFrame:\n",
      "      name  age           City  Population\n",
      "0   govind   34       New York     8500000\n",
      "1  kavitha   32  San Francisco      884000\n"
     ]
    }
   ],
   "source": [
    "import pandas as pd\n",
    "\n",
    "data = pd.DataFrame({\"name\": [\"govind\", \"kavitha\"], \"age\": [34, 32]})\n",
    "print(\"Data:\")\n",
    "print(data)\n",
    "\n",
    "other_data = pd.DataFrame({'City': ['New York', 'San Francisco'], 'Population': [8500000, 884000]})\n",
    "other_data.index = [0, 1]  # Set the index for other_data to match the index in data\n",
    "\n",
    "# Merge based on index\n",
    "merged_df = pd.merge(data, other_data, left_index=True, right_index=True)\n",
    "\n",
    "print(\"\\nMerged DataFrame:\")\n",
    "print(merged_df)\n"
   ]
  },
  {
   "cell_type": "code",
   "execution_count": 128,
   "id": "aa76704d",
   "metadata": {},
   "outputs": [
    {
     "data": {
      "text/html": [
       "<div>\n",
       "<style scoped>\n",
       "    .dataframe tbody tr th:only-of-type {\n",
       "        vertical-align: middle;\n",
       "    }\n",
       "\n",
       "    .dataframe tbody tr th {\n",
       "        vertical-align: top;\n",
       "    }\n",
       "\n",
       "    .dataframe thead th {\n",
       "        text-align: right;\n",
       "    }\n",
       "</style>\n",
       "<table border=\"1\" class=\"dataframe\">\n",
       "  <thead>\n",
       "    <tr style=\"text-align: right;\">\n",
       "      <th></th>\n",
       "      <th>name</th>\n",
       "      <th>age</th>\n",
       "      <th>City</th>\n",
       "      <th>Population</th>\n",
       "    </tr>\n",
       "  </thead>\n",
       "  <tbody>\n",
       "    <tr>\n",
       "      <th>0</th>\n",
       "      <td>govind</td>\n",
       "      <td>34</td>\n",
       "      <td>New York</td>\n",
       "      <td>8500000</td>\n",
       "    </tr>\n",
       "    <tr>\n",
       "      <th>1</th>\n",
       "      <td>kavitha</td>\n",
       "      <td>32</td>\n",
       "      <td>San Francisco</td>\n",
       "      <td>884000</td>\n",
       "    </tr>\n",
       "  </tbody>\n",
       "</table>\n",
       "</div>"
      ],
      "text/plain": [
       "      name  age           City  Population\n",
       "0   govind   34       New York     8500000\n",
       "1  kavitha   32  San Francisco      884000"
      ]
     },
     "execution_count": 128,
     "metadata": {},
     "output_type": "execute_result"
    }
   ],
   "source": [
    "merged_df"
   ]
  },
  {
   "cell_type": "code",
   "execution_count": 129,
   "id": "8013a191",
   "metadata": {},
   "outputs": [
    {
     "data": {
      "text/html": [
       "<div>\n",
       "<style scoped>\n",
       "    .dataframe tbody tr th:only-of-type {\n",
       "        vertical-align: middle;\n",
       "    }\n",
       "\n",
       "    .dataframe tbody tr th {\n",
       "        vertical-align: top;\n",
       "    }\n",
       "\n",
       "    .dataframe thead th {\n",
       "        text-align: right;\n",
       "    }\n",
       "</style>\n",
       "<table border=\"1\" class=\"dataframe\">\n",
       "  <thead>\n",
       "    <tr style=\"text-align: right;\">\n",
       "      <th></th>\n",
       "      <th>Pregnancies</th>\n",
       "      <th>Glucose</th>\n",
       "      <th>BloodPressure</th>\n",
       "      <th>SkinThickness</th>\n",
       "      <th>Insulin</th>\n",
       "      <th>BMI</th>\n",
       "      <th>DiabetesPedigreeFunction</th>\n",
       "      <th>Age</th>\n",
       "      <th>Outcome</th>\n",
       "    </tr>\n",
       "  </thead>\n",
       "  <tbody>\n",
       "    <tr>\n",
       "      <th>0</th>\n",
       "      <td>6</td>\n",
       "      <td>148</td>\n",
       "      <td>72</td>\n",
       "      <td>35</td>\n",
       "      <td>0</td>\n",
       "      <td>33.6</td>\n",
       "      <td>0.627</td>\n",
       "      <td>50</td>\n",
       "      <td>1</td>\n",
       "    </tr>\n",
       "    <tr>\n",
       "      <th>1</th>\n",
       "      <td>1</td>\n",
       "      <td>85</td>\n",
       "      <td>66</td>\n",
       "      <td>29</td>\n",
       "      <td>0</td>\n",
       "      <td>26.6</td>\n",
       "      <td>0.351</td>\n",
       "      <td>31</td>\n",
       "      <td>0</td>\n",
       "    </tr>\n",
       "    <tr>\n",
       "      <th>2</th>\n",
       "      <td>8</td>\n",
       "      <td>183</td>\n",
       "      <td>64</td>\n",
       "      <td>0</td>\n",
       "      <td>0</td>\n",
       "      <td>23.3</td>\n",
       "      <td>0.672</td>\n",
       "      <td>32</td>\n",
       "      <td>1</td>\n",
       "    </tr>\n",
       "    <tr>\n",
       "      <th>3</th>\n",
       "      <td>1</td>\n",
       "      <td>89</td>\n",
       "      <td>66</td>\n",
       "      <td>23</td>\n",
       "      <td>94</td>\n",
       "      <td>28.1</td>\n",
       "      <td>0.167</td>\n",
       "      <td>21</td>\n",
       "      <td>0</td>\n",
       "    </tr>\n",
       "    <tr>\n",
       "      <th>4</th>\n",
       "      <td>0</td>\n",
       "      <td>137</td>\n",
       "      <td>40</td>\n",
       "      <td>35</td>\n",
       "      <td>168</td>\n",
       "      <td>43.1</td>\n",
       "      <td>2.288</td>\n",
       "      <td>33</td>\n",
       "      <td>1</td>\n",
       "    </tr>\n",
       "    <tr>\n",
       "      <th>...</th>\n",
       "      <td>...</td>\n",
       "      <td>...</td>\n",
       "      <td>...</td>\n",
       "      <td>...</td>\n",
       "      <td>...</td>\n",
       "      <td>...</td>\n",
       "      <td>...</td>\n",
       "      <td>...</td>\n",
       "      <td>...</td>\n",
       "    </tr>\n",
       "    <tr>\n",
       "      <th>763</th>\n",
       "      <td>10</td>\n",
       "      <td>101</td>\n",
       "      <td>76</td>\n",
       "      <td>48</td>\n",
       "      <td>180</td>\n",
       "      <td>32.9</td>\n",
       "      <td>0.171</td>\n",
       "      <td>63</td>\n",
       "      <td>0</td>\n",
       "    </tr>\n",
       "    <tr>\n",
       "      <th>764</th>\n",
       "      <td>2</td>\n",
       "      <td>122</td>\n",
       "      <td>70</td>\n",
       "      <td>27</td>\n",
       "      <td>0</td>\n",
       "      <td>36.8</td>\n",
       "      <td>0.340</td>\n",
       "      <td>27</td>\n",
       "      <td>0</td>\n",
       "    </tr>\n",
       "    <tr>\n",
       "      <th>765</th>\n",
       "      <td>5</td>\n",
       "      <td>121</td>\n",
       "      <td>72</td>\n",
       "      <td>23</td>\n",
       "      <td>112</td>\n",
       "      <td>26.2</td>\n",
       "      <td>0.245</td>\n",
       "      <td>30</td>\n",
       "      <td>0</td>\n",
       "    </tr>\n",
       "    <tr>\n",
       "      <th>766</th>\n",
       "      <td>1</td>\n",
       "      <td>126</td>\n",
       "      <td>60</td>\n",
       "      <td>0</td>\n",
       "      <td>0</td>\n",
       "      <td>30.1</td>\n",
       "      <td>0.349</td>\n",
       "      <td>47</td>\n",
       "      <td>1</td>\n",
       "    </tr>\n",
       "    <tr>\n",
       "      <th>767</th>\n",
       "      <td>1</td>\n",
       "      <td>93</td>\n",
       "      <td>70</td>\n",
       "      <td>31</td>\n",
       "      <td>0</td>\n",
       "      <td>30.4</td>\n",
       "      <td>0.315</td>\n",
       "      <td>23</td>\n",
       "      <td>0</td>\n",
       "    </tr>\n",
       "  </tbody>\n",
       "</table>\n",
       "<p>768 rows × 9 columns</p>\n",
       "</div>"
      ],
      "text/plain": [
       "     Pregnancies  Glucose  ...  Age  Outcome\n",
       "0              6      148  ...   50        1\n",
       "1              1       85  ...   31        0\n",
       "2              8      183  ...   32        1\n",
       "3              1       89  ...   21        0\n",
       "4              0      137  ...   33        1\n",
       "..           ...      ...  ...  ...      ...\n",
       "763           10      101  ...   63        0\n",
       "764            2      122  ...   27        0\n",
       "765            5      121  ...   30        0\n",
       "766            1      126  ...   47        1\n",
       "767            1       93  ...   23        0\n",
       "\n",
       "[768 rows x 9 columns]"
      ]
     },
     "execution_count": 129,
     "metadata": {},
     "output_type": "execute_result"
    }
   ],
   "source": [
    "# Drop rows with missing values\n",
    "df_no_na = df.dropna()\n",
    "df_no_na"
   ]
  },
  {
   "cell_type": "code",
   "execution_count": 131,
   "id": "632c57dd",
   "metadata": {},
   "outputs": [
    {
     "data": {
      "text/html": [
       "<div>\n",
       "<style scoped>\n",
       "    .dataframe tbody tr th:only-of-type {\n",
       "        vertical-align: middle;\n",
       "    }\n",
       "\n",
       "    .dataframe tbody tr th {\n",
       "        vertical-align: top;\n",
       "    }\n",
       "\n",
       "    .dataframe thead th {\n",
       "        text-align: right;\n",
       "    }\n",
       "</style>\n",
       "<table border=\"1\" class=\"dataframe\">\n",
       "  <thead>\n",
       "    <tr style=\"text-align: right;\">\n",
       "      <th></th>\n",
       "      <th>Pregnancies</th>\n",
       "      <th>Glucose</th>\n",
       "      <th>BloodPressure</th>\n",
       "      <th>SkinThickness</th>\n",
       "      <th>Insulin</th>\n",
       "      <th>BMI</th>\n",
       "      <th>DiabetesPedigreeFunction</th>\n",
       "      <th>Age</th>\n",
       "      <th>Outcome</th>\n",
       "    </tr>\n",
       "  </thead>\n",
       "  <tbody>\n",
       "    <tr>\n",
       "      <th>0</th>\n",
       "      <td>6</td>\n",
       "      <td>148</td>\n",
       "      <td>72</td>\n",
       "      <td>35</td>\n",
       "      <td>0</td>\n",
       "      <td>33.6</td>\n",
       "      <td>0.627</td>\n",
       "      <td>50</td>\n",
       "      <td>1</td>\n",
       "    </tr>\n",
       "    <tr>\n",
       "      <th>1</th>\n",
       "      <td>1</td>\n",
       "      <td>85</td>\n",
       "      <td>66</td>\n",
       "      <td>29</td>\n",
       "      <td>0</td>\n",
       "      <td>26.6</td>\n",
       "      <td>0.351</td>\n",
       "      <td>31</td>\n",
       "      <td>0</td>\n",
       "    </tr>\n",
       "    <tr>\n",
       "      <th>2</th>\n",
       "      <td>8</td>\n",
       "      <td>183</td>\n",
       "      <td>64</td>\n",
       "      <td>0</td>\n",
       "      <td>0</td>\n",
       "      <td>23.3</td>\n",
       "      <td>0.672</td>\n",
       "      <td>32</td>\n",
       "      <td>1</td>\n",
       "    </tr>\n",
       "    <tr>\n",
       "      <th>3</th>\n",
       "      <td>1</td>\n",
       "      <td>89</td>\n",
       "      <td>66</td>\n",
       "      <td>23</td>\n",
       "      <td>94</td>\n",
       "      <td>28.1</td>\n",
       "      <td>0.167</td>\n",
       "      <td>21</td>\n",
       "      <td>0</td>\n",
       "    </tr>\n",
       "    <tr>\n",
       "      <th>4</th>\n",
       "      <td>0</td>\n",
       "      <td>137</td>\n",
       "      <td>40</td>\n",
       "      <td>35</td>\n",
       "      <td>168</td>\n",
       "      <td>43.1</td>\n",
       "      <td>2.288</td>\n",
       "      <td>33</td>\n",
       "      <td>1</td>\n",
       "    </tr>\n",
       "    <tr>\n",
       "      <th>...</th>\n",
       "      <td>...</td>\n",
       "      <td>...</td>\n",
       "      <td>...</td>\n",
       "      <td>...</td>\n",
       "      <td>...</td>\n",
       "      <td>...</td>\n",
       "      <td>...</td>\n",
       "      <td>...</td>\n",
       "      <td>...</td>\n",
       "    </tr>\n",
       "    <tr>\n",
       "      <th>763</th>\n",
       "      <td>10</td>\n",
       "      <td>101</td>\n",
       "      <td>76</td>\n",
       "      <td>48</td>\n",
       "      <td>180</td>\n",
       "      <td>32.9</td>\n",
       "      <td>0.171</td>\n",
       "      <td>63</td>\n",
       "      <td>0</td>\n",
       "    </tr>\n",
       "    <tr>\n",
       "      <th>764</th>\n",
       "      <td>2</td>\n",
       "      <td>122</td>\n",
       "      <td>70</td>\n",
       "      <td>27</td>\n",
       "      <td>0</td>\n",
       "      <td>36.8</td>\n",
       "      <td>0.340</td>\n",
       "      <td>27</td>\n",
       "      <td>0</td>\n",
       "    </tr>\n",
       "    <tr>\n",
       "      <th>765</th>\n",
       "      <td>5</td>\n",
       "      <td>121</td>\n",
       "      <td>72</td>\n",
       "      <td>23</td>\n",
       "      <td>112</td>\n",
       "      <td>26.2</td>\n",
       "      <td>0.245</td>\n",
       "      <td>30</td>\n",
       "      <td>0</td>\n",
       "    </tr>\n",
       "    <tr>\n",
       "      <th>766</th>\n",
       "      <td>1</td>\n",
       "      <td>126</td>\n",
       "      <td>60</td>\n",
       "      <td>0</td>\n",
       "      <td>0</td>\n",
       "      <td>30.1</td>\n",
       "      <td>0.349</td>\n",
       "      <td>47</td>\n",
       "      <td>1</td>\n",
       "    </tr>\n",
       "    <tr>\n",
       "      <th>767</th>\n",
       "      <td>1</td>\n",
       "      <td>93</td>\n",
       "      <td>70</td>\n",
       "      <td>31</td>\n",
       "      <td>0</td>\n",
       "      <td>30.4</td>\n",
       "      <td>0.315</td>\n",
       "      <td>23</td>\n",
       "      <td>0</td>\n",
       "    </tr>\n",
       "  </tbody>\n",
       "</table>\n",
       "<p>768 rows × 9 columns</p>\n",
       "</div>"
      ],
      "text/plain": [
       "     Pregnancies  Glucose  ...  Age  Outcome\n",
       "0              6      148  ...   50        1\n",
       "1              1       85  ...   31        0\n",
       "2              8      183  ...   32        1\n",
       "3              1       89  ...   21        0\n",
       "4              0      137  ...   33        1\n",
       "..           ...      ...  ...  ...      ...\n",
       "763           10      101  ...   63        0\n",
       "764            2      122  ...   27        0\n",
       "765            5      121  ...   30        0\n",
       "766            1      126  ...   47        1\n",
       "767            1       93  ...   23        0\n",
       "\n",
       "[768 rows x 9 columns]"
      ]
     },
     "execution_count": 131,
     "metadata": {},
     "output_type": "execute_result"
    }
   ],
   "source": [
    "\n",
    "# Fill missing values with a specific value\n",
    "df_filled = df.fillna(value=0)\n",
    "df_filled"
   ]
  },
  {
   "cell_type": "code",
   "execution_count": null,
   "id": "0d08d550",
   "metadata": {},
   "outputs": [],
   "source": []
  }
 ],
 "metadata": {
  "kernelspec": {
   "display_name": "Python 3 (ipykernel)",
   "language": "python",
   "name": "python3"
  },
  "language_info": {
   "codemirror_mode": {
    "name": "ipython",
    "version": 3
   },
   "file_extension": ".py",
   "mimetype": "text/x-python",
   "name": "python",
   "nbconvert_exporter": "python",
   "pygments_lexer": "ipython3",
   "version": "3.11.5"
  }
 },
 "nbformat": 4,
 "nbformat_minor": 5
}
