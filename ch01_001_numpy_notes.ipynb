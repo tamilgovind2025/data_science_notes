{
 "cells": [
  {
   "cell_type": "markdown",
   "id": "fd47fdc9",
   "metadata": {},
   "source": [
    "#                             NUMPY COMPLETE NOTES"
   ]
  },
  {
   "cell_type": "code",
   "execution_count": null,
   "id": "0a3f1804",
   "metadata": {},
   "outputs": [],
   "source": [
    "\"\"\"\n",
    "https://www.w3schools.com/python/numpy/numpy_creating_arrays.asp\n",
    "\n",
    "https://numpy.org/doc/stable/user/absolute_beginners.html\n",
    "\n",
    "https://www.geeksforgeeks.org/introduction-to-numpy/\n",
    "\n",
    "https://www.tutorialspoint.com/numpy/numpy_data_types.htm\n",
    "\n",
    "https://www.learndatasci.com/tutorials/applied-introduction-to-numpy-python-tutorial/\n",
    "\n",
    "\"\"\"\n",
    "\n",
    "    "
   ]
  },
  {
   "cell_type": "markdown",
   "id": "35f62598",
   "metadata": {},
   "source": [
    "## CH01 INTRODUCTION"
   ]
  },
  {
   "cell_type": "code",
   "execution_count": null,
   "id": "a69c33ca",
   "metadata": {},
   "outputs": [],
   "source": [
    "intro=\"\"\"\n",
    "1. numpy is a python library. NumPy was created in 2005 by Travis Oliphant \n",
    "2. numpy stands for numerical python \n",
    "3. numpy is open source (free)\n",
    "4. universal standard for working with numerical data in Python\n",
    "5. The NumPy API is used extensively in Pandas, SciPy, Matplotlib, scikit-learn, scikit-image and most other data science \n",
    "   and scientific Python packages.\n",
    "   \n",
    "   Data Science: is a branch of computer science where we study how to store, \n",
    "   use and analyze data for deriving information from it.\n",
    "   \n",
    "\"\"\""
   ]
  },
  {
   "cell_type": "code",
   "execution_count": 11,
   "id": "ca2b200b",
   "metadata": {},
   "outputs": [
    {
     "name": "stdout",
     "output_type": "stream",
     "text": [
      "511 ms ± 6.57 ms per loop (mean ± std. dev. of 7 runs, 1 loop each)\n",
      "7.86 ms ± 34.8 µs per loop (mean ± std. dev. of 7 runs, 100 loops each)\n",
      "601 ms ± 3.91 ms per loop (mean ± std. dev. of 7 runs, 1 loop each)\n"
     ]
    }
   ],
   "source": [
    "\"\"\"\n",
    "6. NumPy aims to provide an array object that is up to 50x more faster than traditional Python lists.(see demo below)\n",
    "\"\"\"\n",
    "\n",
    "import numpy as np \n",
    "\n",
    "numbers=np.random.rand(10000000) #generate random numbers \n",
    "\n",
    "%timeit sum(numbers)  #python sum function \n",
    "\n",
    "%timeit np.sum(numbers) #numpy sum functions \n",
    "\n",
    "#defining a user defined function to add sum of random numbers and check calculation speed \n",
    "\n",
    "def mysum(num):\n",
    "    total=0\n",
    "    for i in num:\n",
    "        total+=i\n",
    "    return total\n",
    "#now calling the function mysum \n",
    "%timeit mysum(numbers)"
   ]
  },
  {
   "cell_type": "code",
   "execution_count": 13,
   "id": "869565fb",
   "metadata": {},
   "outputs": [
    {
     "name": "stdout",
     "output_type": "stream",
     "text": [
      "True\n"
     ]
    }
   ],
   "source": [
    "\"\"\"\n",
    " NumPy, array data is stored in a continuous block of memory. This is a key feature that contributes to the efficiency \n",
    " and speed of NumPy operations.\n",
    "\n",
    "The ndarray object in NumPy represents a multidimensional, homogeneous array of fixed-size items. \n",
    "The elements in the array are stored in a contiguous block of memory, and the information about the shape, \n",
    "data type, and strides is stored in a separate data structure. \n",
    "The contiguous memory layout allows for efficient access and manipulation of array elements.\n",
    "\"\"\"\n",
    "\n",
    "\n",
    "import numpy as np\n",
    "\n",
    "# Creating a NumPy array\n",
    "arr = np.array([[21,22,25,67],\n",
    "                [34,35,65,66],\n",
    "                [22,24,67,45]])\n",
    "\n",
    "# Checking the memory layout\n",
    "#flags['C_CONTIGUOUS'] attribute checks whether the array is stored in C-style contiguous memory\n",
    "print(arr.flags['C_CONTIGUOUS']) "
   ]
  },
  {
   "cell_type": "code",
   "execution_count": 16,
   "id": "2e6396c1",
   "metadata": {},
   "outputs": [
    {
     "name": "stdout",
     "output_type": "stream",
     "text": [
      "the l1 data type is =  <class 'list'>\n",
      "the arr data type is =  <class 'numpy.ndarray'>\n"
     ]
    }
   ],
   "source": [
    "\"\"\"\n",
    "The array object in NumPy is called ndarray\n",
    "Arrays are very frequently used in data science, where speed and resources are very important.\n",
    "\"\"\"\n",
    "import numpy as np \n",
    "l1=[12,14,15,67,55]\n",
    "print(\"the l1 data type is = \",type(list1))\n",
    "arr=np.array(list1)\n",
    "print(\"the arr data type is = \",type(arr))\n"
   ]
  },
  {
   "cell_type": "code",
   "execution_count": null,
   "id": "61c3e8d5",
   "metadata": {},
   "outputs": [],
   "source": [
    "\"\"\"\n",
    "The source code for NumPy is located at this github repository https://github.com/numpy/numpy\n",
    "github: enables many people to work on the same codebase\n",
    "\n",
    "If you already have Python, you can install NumPy with:\n",
    "\n",
    "conda install numpy\n",
    "or\n",
    "\n",
    "pip install numpy\n",
    "\n",
    "\"\"\""
   ]
  },
  {
   "cell_type": "code",
   "execution_count": 17,
   "id": "9c6c3f81",
   "metadata": {},
   "outputs": [
    {
     "name": "stdout",
     "output_type": "stream",
     "text": [
      "Defaulting to user installation because normal site-packages is not writeable\n",
      "Requirement already satisfied: numpy in c:\\users\\admin\\appdata\\roaming\\python\\python311\\site-packages (1.26.1)\n",
      "Note: you may need to restart the kernel to use updated packages.\n"
     ]
    }
   ],
   "source": [
    "pip install numpy"
   ]
  },
  {
   "cell_type": "code",
   "execution_count": 21,
   "id": "289a546e",
   "metadata": {},
   "outputs": [
    {
     "name": "stdout",
     "output_type": "stream",
     "text": [
      "1.26.1\n"
     ]
    }
   ],
   "source": [
    "\"\"\"\n",
    "to check version of numpy package\n",
    "\"\"\"\n",
    "import numpy as np\n",
    "\n",
    "print(np.__version__)"
   ]
  },
  {
   "cell_type": "markdown",
   "id": "39f0876d",
   "metadata": {},
   "source": [
    "##  CH02 NUMPY BASICS "
   ]
  },
  {
   "cell_type": "code",
   "execution_count": null,
   "id": "ed78862e",
   "metadata": {},
   "outputs": [],
   "source": []
  },
  {
   "cell_type": "code",
   "execution_count": null,
   "id": "cde25f8c",
   "metadata": {},
   "outputs": [],
   "source": [
    "\"\"\"\n",
    "in this chaper cover basic of scalar(single quantity),vector(1d array),matrix(2d array) and \n",
    "covers 3d array (matrix of matrixes), \n",
    "nd array, and conversion 1d to 2d array and vice versa \n",
    "ndarray.ndim, ndarray.size, ndarray.shape\n",
    "np.array(), np.zeros(), np.ones(), np.empty(), np.arange(), np.linspace(), dtype (data types)\n",
    "\n",
    "\"\"\""
   ]
  }
 ],
 "metadata": {
  "kernelspec": {
   "display_name": "Python 3 (ipykernel)",
   "language": "python",
   "name": "python3"
  },
  "language_info": {
   "codemirror_mode": {
    "name": "ipython",
    "version": 3
   },
   "file_extension": ".py",
   "mimetype": "text/x-python",
   "name": "python",
   "nbconvert_exporter": "python",
   "pygments_lexer": "ipython3",
   "version": "3.11.5"
  }
 },
 "nbformat": 4,
 "nbformat_minor": 5
}
